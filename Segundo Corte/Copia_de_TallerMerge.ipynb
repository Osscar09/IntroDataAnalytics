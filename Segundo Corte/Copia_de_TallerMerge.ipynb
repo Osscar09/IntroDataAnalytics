{
  "cells": [
    {
      "cell_type": "markdown",
      "metadata": {
        "id": "ZXfVW3tvYldA"
      },
      "source": [
        "# Exploración y Recolección de Datos con Joins en Fórmula 1\n",
        "\n",
        "Este notebook está diseñado para una clase práctica en la que se exploran y recolectan datos mediante la unión (_joins_) de múltiples datasets de Fórmula 1. El objetivo es analizar conjuntamente información procedente de diferentes orígenes para responder preguntas de negocio y obtener insights sobre la historia de la F1.\n",
        "\n",
        "## Objetivos de la Clase\n",
        "\n",
        "1. Comprender el uso de joins para combinar tablas utilizando claves comunes (por ejemplo, `raceId` y `driverId`).\n",
        "2. Explorar la integración de datos provenientes de archivos distintos y su impacto en la información resultante.\n",
        "3. Responder a preguntas de negocio como:\n",
        "   - ¿Cuántos pilotos han participado en la F1?\n",
        "   - ¿Cuál es el circuito que ha sido más utilizado?\n",
        "   - ¿Qué piloto ha ganado más carreras?\n",
        "   - ¿Qué piloto ha acumulado más puntos durante su carrera?\n",
        "4. Interpretar gráficamente resultados y tendencias a lo largo del tiempo.\n",
        "\n",
        "La idea es que, mediante el uso de operaciones join, los estudiantes unan y analicen datos de varias fuentes (por ejemplo, `races.csv`, `results.csv` y `drivers.csv`) para elaborar un análisis exploratorio completo."
      ]
    },
    {
      "cell_type": "code",
      "execution_count": null,
      "metadata": {
        "id": "M6gfN_dCYldC",
        "outputId": "e7455cef-ea62-4b04-cfe4-39bb9afb5be7",
        "colab": {
          "base_uri": "https://localhost:8080/"
        }
      },
      "outputs": [
        {
          "output_type": "stream",
          "name": "stdout",
          "text": [
            "--2025-04-10 21:53:03--  https://github.com/javierherrera1996/lecture_analytics/raw/main/f1stasts_1.zip\n",
            "Resolving github.com (github.com)... 140.82.112.4\n",
            "Connecting to github.com (github.com)|140.82.112.4|:443... connected.\n",
            "HTTP request sent, awaiting response... 302 Found\n",
            "Location: https://raw.githubusercontent.com/javierherrera1996/lecture_analytics/main/f1stasts_1.zip [following]\n",
            "--2025-04-10 21:53:03--  https://raw.githubusercontent.com/javierherrera1996/lecture_analytics/main/f1stasts_1.zip\n",
            "Resolving raw.githubusercontent.com (raw.githubusercontent.com)... 185.199.109.133, 185.199.111.133, 185.199.110.133, ...\n",
            "Connecting to raw.githubusercontent.com (raw.githubusercontent.com)|185.199.109.133|:443... connected.\n",
            "HTTP request sent, awaiting response... 200 OK\n",
            "Length: 6183969 (5.9M) [application/zip]\n",
            "Saving to: ‘f1stasts_1.zip’\n",
            "\n",
            "f1stasts_1.zip      100%[===================>]   5.90M  --.-KB/s    in 0.09s   \n",
            "\n",
            "2025-04-10 21:53:03 (68.5 MB/s) - ‘f1stasts_1.zip’ saved [6183969/6183969]\n",
            "\n",
            "Archive:  f1stasts_1.zip\n",
            "  inflating: circuits.csv            \n",
            "  inflating: constructor_results.csv  \n",
            "  inflating: constructor_standings.csv  \n",
            "  inflating: constructors.csv        \n",
            "  inflating: driver_standings.csv    \n",
            "  inflating: drivers.csv             \n",
            "  inflating: lap_times.csv           \n",
            "  inflating: pit_stops.csv           \n",
            "  inflating: qualifying.csv          \n",
            "  inflating: races.csv               \n",
            "  inflating: results.csv             \n",
            "  inflating: seasons.csv             \n",
            "  inflating: sprint_results.csv      \n",
            "  inflating: status.csv              \n"
          ]
        }
      ],
      "source": [
        "!wget https://github.com/javierherrera1996/lecture_analytics/raw/main/f1stasts_1.zip\n",
        "!unzip f1stasts_1.zip"
      ]
    },
    {
      "cell_type": "code",
      "source": [
        "import pandas as pd\n",
        "\n",
        "# Load the datasets\n",
        "races_df = pd.read_csv('races.csv')\n",
        "results_df = pd.read_csv('results.csv')\n",
        "drivers_df = pd.read_csv('drivers.csv')\n",
        "\n",
        "# Create df_resultados by merging results_df and drivers_df\n",
        "df_resultados = pd.merge(results_df, drivers_df, on='driverId', how='inner') # This line was missing and is added now\n",
        "\n",
        "# Merge df_resultados with races_df to create df_completo\n",
        "df_completo = pd.merge(df_resultados, races_df, on='raceId', how='inner')\n",
        "\n",
        "# Now you can use df_completo\n",
        "unique_constructor_ids = df_completo['constructorId'].unique()\n",
        "\n",
        "# Print the unique constructor IDs\n",
        "print(unique_constructor_ids)"
      ],
      "metadata": {
        "colab": {
          "base_uri": "https://localhost:8080/"
        },
        "id": "Ff56uGHqsRAm",
        "outputId": "5a03a440-ff6a-44aa-d805-3986e84f9cbb"
      },
      "execution_count": null,
      "outputs": [
        {
          "output_type": "stream",
          "name": "stdout",
          "text": [
            "[  1   2   3   4   5   6   7   8   9  10  11  12  13  14  15  16  17  18\n",
            "  19  21  20  22  24  25  26  27  29  28  30  31  32  33  34  35  36  37\n",
            "  38  40  39  41  42  44  45  46  47  23  48  49  50  51  52  53  54  55\n",
            "  56  57  58  59 204  60  61  62 182  63  64  65  66  67  68  69  70  71\n",
            "  72  73  74 202  75  76 203  80  77  78  79  81  82  83  84 180 200 199\n",
            " 201  85 187  86 198 196 191 167 197 189 183 194 190  89 170 195 184 176\n",
            " 172 193  90 181 188 192  91 185 186  93  94  92  95  96  97 177 179 173\n",
            "  98  99 175  87 100 174 178 101 102 103 104 105 106 171 107 108 109 110\n",
            " 111 112 113 114 115 116 117 118 119 120 121 122 169 123 168 124 125 127\n",
            " 128 129 130 131 132 133 134 135 136 137 138 139 140 141 142 143 144 145\n",
            " 146 147 148 149 150 152 151 126 153 154 155 156 157 158 159 160 162 161\n",
            " 163 205 164 166 208 206 207 209 210 211 213 214]\n"
          ]
        }
      ]
    },
    {
      "cell_type": "markdown",
      "metadata": {
        "id": "Koejrj4GYldE"
      },
      "source": [
        "## 1. Carga y Exploración de los Datos\n",
        "\n",
        "En esta sección se cargan y revisan brevemente los datasets principales:\n",
        "\n",
        "- **races.csv:** Contiene detalles de cada carrera (año, circuito, fecha, etc.).\n",
        "- **results.csv:** Registra los resultados de cada carrera (posición, puntos, vueltas, etc.).\n",
        "- **drivers.csv:** Información sobre cada piloto (nombre, nacionalidad, fecha de nacimiento, etc.).\n",
        "\n",
        "Asegúrate de tener estos archivos en tu entorno de trabajo."
      ]
    },
    {
      "cell_type": "code",
      "execution_count": null,
      "metadata": {
        "id": "llFiTWKDYldF"
      },
      "outputs": [],
      "source": [
        "import pandas as pd\n",
        "import numpy as np\n",
        "import matplotlib.pyplot as plt\n",
        "\n"
      ]
    },
    {
      "cell_type": "code",
      "source": [
        "import pandas as pd\n",
        "\n",
        "# Load the datasets\n",
        "races_df = pd.read_csv('races.csv')\n",
        "results_df = pd.read_csv('results.csv')\n",
        "drivers_df = pd.read_csv('drivers.csv')\n",
        "\n",
        "# Briefly review the datasets\n",
        "races_df.head()  # Display the first few rows of races_df\n",
        "results_df.info()  # Display information about results_df\n",
        "drivers_df.describe()  # Display descriptive statistics of drivers_df"
      ],
      "metadata": {
        "id": "O4DnMD3XZBVB",
        "outputId": "b3344bcd-e584-4165-c7fb-644281100425",
        "colab": {
          "base_uri": "https://localhost:8080/",
          "height": 734
        }
      },
      "execution_count": null,
      "outputs": [
        {
          "output_type": "stream",
          "name": "stdout",
          "text": [
            "<class 'pandas.core.frame.DataFrame'>\n",
            "RangeIndex: 26080 entries, 0 to 26079\n",
            "Data columns (total 18 columns):\n",
            " #   Column           Non-Null Count  Dtype  \n",
            "---  ------           --------------  -----  \n",
            " 0   resultId         26080 non-null  int64  \n",
            " 1   raceId           26080 non-null  int64  \n",
            " 2   driverId         26080 non-null  int64  \n",
            " 3   constructorId    26080 non-null  int64  \n",
            " 4   number           26080 non-null  object \n",
            " 5   grid             26080 non-null  int64  \n",
            " 6   position         26080 non-null  object \n",
            " 7   positionText     26080 non-null  object \n",
            " 8   positionOrder    26080 non-null  int64  \n",
            " 9   points           26080 non-null  float64\n",
            " 10  laps             26080 non-null  int64  \n",
            " 11  time             26080 non-null  object \n",
            " 12  milliseconds     26080 non-null  object \n",
            " 13  fastestLap       26080 non-null  object \n",
            " 14  rank             26080 non-null  object \n",
            " 15  fastestLapTime   26080 non-null  object \n",
            " 16  fastestLapSpeed  26080 non-null  object \n",
            " 17  statusId         26080 non-null  int64  \n",
            "dtypes: float64(1), int64(8), object(9)\n",
            "memory usage: 3.6+ MB\n"
          ]
        },
        {
          "output_type": "execute_result",
          "data": {
            "text/plain": [
              "         driverId\n",
              "count  857.000000\n",
              "mean   429.057176\n",
              "std    247.632402\n",
              "min      1.000000\n",
              "25%    215.000000\n",
              "50%    429.000000\n",
              "75%    643.000000\n",
              "max    858.000000"
            ],
            "text/html": [
              "\n",
              "  <div id=\"df-a5a82621-1462-407b-b3f1-ef9b82c77937\" class=\"colab-df-container\">\n",
              "    <div>\n",
              "<style scoped>\n",
              "    .dataframe tbody tr th:only-of-type {\n",
              "        vertical-align: middle;\n",
              "    }\n",
              "\n",
              "    .dataframe tbody tr th {\n",
              "        vertical-align: top;\n",
              "    }\n",
              "\n",
              "    .dataframe thead th {\n",
              "        text-align: right;\n",
              "    }\n",
              "</style>\n",
              "<table border=\"1\" class=\"dataframe\">\n",
              "  <thead>\n",
              "    <tr style=\"text-align: right;\">\n",
              "      <th></th>\n",
              "      <th>driverId</th>\n",
              "    </tr>\n",
              "  </thead>\n",
              "  <tbody>\n",
              "    <tr>\n",
              "      <th>count</th>\n",
              "      <td>857.000000</td>\n",
              "    </tr>\n",
              "    <tr>\n",
              "      <th>mean</th>\n",
              "      <td>429.057176</td>\n",
              "    </tr>\n",
              "    <tr>\n",
              "      <th>std</th>\n",
              "      <td>247.632402</td>\n",
              "    </tr>\n",
              "    <tr>\n",
              "      <th>min</th>\n",
              "      <td>1.000000</td>\n",
              "    </tr>\n",
              "    <tr>\n",
              "      <th>25%</th>\n",
              "      <td>215.000000</td>\n",
              "    </tr>\n",
              "    <tr>\n",
              "      <th>50%</th>\n",
              "      <td>429.000000</td>\n",
              "    </tr>\n",
              "    <tr>\n",
              "      <th>75%</th>\n",
              "      <td>643.000000</td>\n",
              "    </tr>\n",
              "    <tr>\n",
              "      <th>max</th>\n",
              "      <td>858.000000</td>\n",
              "    </tr>\n",
              "  </tbody>\n",
              "</table>\n",
              "</div>\n",
              "    <div class=\"colab-df-buttons\">\n",
              "\n",
              "  <div class=\"colab-df-container\">\n",
              "    <button class=\"colab-df-convert\" onclick=\"convertToInteractive('df-a5a82621-1462-407b-b3f1-ef9b82c77937')\"\n",
              "            title=\"Convert this dataframe to an interactive table.\"\n",
              "            style=\"display:none;\">\n",
              "\n",
              "  <svg xmlns=\"http://www.w3.org/2000/svg\" height=\"24px\" viewBox=\"0 -960 960 960\">\n",
              "    <path d=\"M120-120v-720h720v720H120Zm60-500h600v-160H180v160Zm220 220h160v-160H400v160Zm0 220h160v-160H400v160ZM180-400h160v-160H180v160Zm440 0h160v-160H620v160ZM180-180h160v-160H180v160Zm440 0h160v-160H620v160Z\"/>\n",
              "  </svg>\n",
              "    </button>\n",
              "\n",
              "  <style>\n",
              "    .colab-df-container {\n",
              "      display:flex;\n",
              "      gap: 12px;\n",
              "    }\n",
              "\n",
              "    .colab-df-convert {\n",
              "      background-color: #E8F0FE;\n",
              "      border: none;\n",
              "      border-radius: 50%;\n",
              "      cursor: pointer;\n",
              "      display: none;\n",
              "      fill: #1967D2;\n",
              "      height: 32px;\n",
              "      padding: 0 0 0 0;\n",
              "      width: 32px;\n",
              "    }\n",
              "\n",
              "    .colab-df-convert:hover {\n",
              "      background-color: #E2EBFA;\n",
              "      box-shadow: 0px 1px 2px rgba(60, 64, 67, 0.3), 0px 1px 3px 1px rgba(60, 64, 67, 0.15);\n",
              "      fill: #174EA6;\n",
              "    }\n",
              "\n",
              "    .colab-df-buttons div {\n",
              "      margin-bottom: 4px;\n",
              "    }\n",
              "\n",
              "    [theme=dark] .colab-df-convert {\n",
              "      background-color: #3B4455;\n",
              "      fill: #D2E3FC;\n",
              "    }\n",
              "\n",
              "    [theme=dark] .colab-df-convert:hover {\n",
              "      background-color: #434B5C;\n",
              "      box-shadow: 0px 1px 3px 1px rgba(0, 0, 0, 0.15);\n",
              "      filter: drop-shadow(0px 1px 2px rgba(0, 0, 0, 0.3));\n",
              "      fill: #FFFFFF;\n",
              "    }\n",
              "  </style>\n",
              "\n",
              "    <script>\n",
              "      const buttonEl =\n",
              "        document.querySelector('#df-a5a82621-1462-407b-b3f1-ef9b82c77937 button.colab-df-convert');\n",
              "      buttonEl.style.display =\n",
              "        google.colab.kernel.accessAllowed ? 'block' : 'none';\n",
              "\n",
              "      async function convertToInteractive(key) {\n",
              "        const element = document.querySelector('#df-a5a82621-1462-407b-b3f1-ef9b82c77937');\n",
              "        const dataTable =\n",
              "          await google.colab.kernel.invokeFunction('convertToInteractive',\n",
              "                                                    [key], {});\n",
              "        if (!dataTable) return;\n",
              "\n",
              "        const docLinkHtml = 'Like what you see? Visit the ' +\n",
              "          '<a target=\"_blank\" href=https://colab.research.google.com/notebooks/data_table.ipynb>data table notebook</a>'\n",
              "          + ' to learn more about interactive tables.';\n",
              "        element.innerHTML = '';\n",
              "        dataTable['output_type'] = 'display_data';\n",
              "        await google.colab.output.renderOutput(dataTable, element);\n",
              "        const docLink = document.createElement('div');\n",
              "        docLink.innerHTML = docLinkHtml;\n",
              "        element.appendChild(docLink);\n",
              "      }\n",
              "    </script>\n",
              "  </div>\n",
              "\n",
              "\n",
              "<div id=\"df-260a0b92-6ea4-4a72-adf2-689ed4e94221\">\n",
              "  <button class=\"colab-df-quickchart\" onclick=\"quickchart('df-260a0b92-6ea4-4a72-adf2-689ed4e94221')\"\n",
              "            title=\"Suggest charts\"\n",
              "            style=\"display:none;\">\n",
              "\n",
              "<svg xmlns=\"http://www.w3.org/2000/svg\" height=\"24px\"viewBox=\"0 0 24 24\"\n",
              "     width=\"24px\">\n",
              "    <g>\n",
              "        <path d=\"M19 3H5c-1.1 0-2 .9-2 2v14c0 1.1.9 2 2 2h14c1.1 0 2-.9 2-2V5c0-1.1-.9-2-2-2zM9 17H7v-7h2v7zm4 0h-2V7h2v10zm4 0h-2v-4h2v4z\"/>\n",
              "    </g>\n",
              "</svg>\n",
              "  </button>\n",
              "\n",
              "<style>\n",
              "  .colab-df-quickchart {\n",
              "      --bg-color: #E8F0FE;\n",
              "      --fill-color: #1967D2;\n",
              "      --hover-bg-color: #E2EBFA;\n",
              "      --hover-fill-color: #174EA6;\n",
              "      --disabled-fill-color: #AAA;\n",
              "      --disabled-bg-color: #DDD;\n",
              "  }\n",
              "\n",
              "  [theme=dark] .colab-df-quickchart {\n",
              "      --bg-color: #3B4455;\n",
              "      --fill-color: #D2E3FC;\n",
              "      --hover-bg-color: #434B5C;\n",
              "      --hover-fill-color: #FFFFFF;\n",
              "      --disabled-bg-color: #3B4455;\n",
              "      --disabled-fill-color: #666;\n",
              "  }\n",
              "\n",
              "  .colab-df-quickchart {\n",
              "    background-color: var(--bg-color);\n",
              "    border: none;\n",
              "    border-radius: 50%;\n",
              "    cursor: pointer;\n",
              "    display: none;\n",
              "    fill: var(--fill-color);\n",
              "    height: 32px;\n",
              "    padding: 0;\n",
              "    width: 32px;\n",
              "  }\n",
              "\n",
              "  .colab-df-quickchart:hover {\n",
              "    background-color: var(--hover-bg-color);\n",
              "    box-shadow: 0 1px 2px rgba(60, 64, 67, 0.3), 0 1px 3px 1px rgba(60, 64, 67, 0.15);\n",
              "    fill: var(--button-hover-fill-color);\n",
              "  }\n",
              "\n",
              "  .colab-df-quickchart-complete:disabled,\n",
              "  .colab-df-quickchart-complete:disabled:hover {\n",
              "    background-color: var(--disabled-bg-color);\n",
              "    fill: var(--disabled-fill-color);\n",
              "    box-shadow: none;\n",
              "  }\n",
              "\n",
              "  .colab-df-spinner {\n",
              "    border: 2px solid var(--fill-color);\n",
              "    border-color: transparent;\n",
              "    border-bottom-color: var(--fill-color);\n",
              "    animation:\n",
              "      spin 1s steps(1) infinite;\n",
              "  }\n",
              "\n",
              "  @keyframes spin {\n",
              "    0% {\n",
              "      border-color: transparent;\n",
              "      border-bottom-color: var(--fill-color);\n",
              "      border-left-color: var(--fill-color);\n",
              "    }\n",
              "    20% {\n",
              "      border-color: transparent;\n",
              "      border-left-color: var(--fill-color);\n",
              "      border-top-color: var(--fill-color);\n",
              "    }\n",
              "    30% {\n",
              "      border-color: transparent;\n",
              "      border-left-color: var(--fill-color);\n",
              "      border-top-color: var(--fill-color);\n",
              "      border-right-color: var(--fill-color);\n",
              "    }\n",
              "    40% {\n",
              "      border-color: transparent;\n",
              "      border-right-color: var(--fill-color);\n",
              "      border-top-color: var(--fill-color);\n",
              "    }\n",
              "    60% {\n",
              "      border-color: transparent;\n",
              "      border-right-color: var(--fill-color);\n",
              "    }\n",
              "    80% {\n",
              "      border-color: transparent;\n",
              "      border-right-color: var(--fill-color);\n",
              "      border-bottom-color: var(--fill-color);\n",
              "    }\n",
              "    90% {\n",
              "      border-color: transparent;\n",
              "      border-bottom-color: var(--fill-color);\n",
              "    }\n",
              "  }\n",
              "</style>\n",
              "\n",
              "  <script>\n",
              "    async function quickchart(key) {\n",
              "      const quickchartButtonEl =\n",
              "        document.querySelector('#' + key + ' button');\n",
              "      quickchartButtonEl.disabled = true;  // To prevent multiple clicks.\n",
              "      quickchartButtonEl.classList.add('colab-df-spinner');\n",
              "      try {\n",
              "        const charts = await google.colab.kernel.invokeFunction(\n",
              "            'suggestCharts', [key], {});\n",
              "      } catch (error) {\n",
              "        console.error('Error during call to suggestCharts:', error);\n",
              "      }\n",
              "      quickchartButtonEl.classList.remove('colab-df-spinner');\n",
              "      quickchartButtonEl.classList.add('colab-df-quickchart-complete');\n",
              "    }\n",
              "    (() => {\n",
              "      let quickchartButtonEl =\n",
              "        document.querySelector('#df-260a0b92-6ea4-4a72-adf2-689ed4e94221 button');\n",
              "      quickchartButtonEl.style.display =\n",
              "        google.colab.kernel.accessAllowed ? 'block' : 'none';\n",
              "    })();\n",
              "  </script>\n",
              "</div>\n",
              "\n",
              "    </div>\n",
              "  </div>\n"
            ],
            "application/vnd.google.colaboratory.intrinsic+json": {
              "type": "dataframe",
              "summary": "{\n  \"name\": \"drivers_df\",\n  \"rows\": 8,\n  \"fields\": [\n    {\n      \"column\": \"driverId\",\n      \"properties\": {\n        \"dtype\": \"number\",\n        \"std\": 308.7362358212102,\n        \"min\": 1.0,\n        \"max\": 858.0,\n        \"num_unique_values\": 8,\n        \"samples\": [\n          429.0571761960327,\n          429.0,\n          857.0\n        ],\n        \"semantic_type\": \"\",\n        \"description\": \"\"\n      }\n    }\n  ]\n}"
            }
          },
          "metadata": {},
          "execution_count": 7
        }
      ]
    },
    {
      "cell_type": "markdown",
      "metadata": {
        "id": "4eUCDUxuYldG"
      },
      "source": [
        "## 2. Análisis Preliminar y Preparación de los Datos\n",
        "\n",
        "Antes de realizar las uniones, es importante revisar las columnas clave de cada DataFrame:\n",
        "\n",
        "- En **races_df** utilizaremos `raceId` para identificar la carrera.\n",
        "- En **results_df** también se emplea `raceId` y `driverId` para enlazar resultados y pilotos.\n",
        "- En **drivers_df** `driverId` es la clave para identificar a cada piloto.\n",
        "\n",
        "Realiza un análisis exploratorio básico (conteos, tipos de dato, detección de nulos) para asegurarte de la calidad de la información."
      ]
    },
    {
      "cell_type": "code",
      "execution_count": null,
      "metadata": {
        "id": "Plg9t2miYldG",
        "outputId": "74368a81-c9f9-4c6c-d520-42607738b265",
        "colab": {
          "base_uri": "https://localhost:8080/"
        }
      },
      "outputs": [
        {
          "output_type": "stream",
          "name": "stdout",
          "text": [
            "Races DataFrame:\n",
            "<class 'pandas.core.frame.DataFrame'>\n",
            "RangeIndex: 1101 entries, 0 to 1100\n",
            "Data columns (total 18 columns):\n",
            " #   Column       Non-Null Count  Dtype \n",
            "---  ------       --------------  ----- \n",
            " 0   raceId       1101 non-null   int64 \n",
            " 1   year         1101 non-null   int64 \n",
            " 2   round        1101 non-null   int64 \n",
            " 3   circuitId    1101 non-null   int64 \n",
            " 4   name         1101 non-null   object\n",
            " 5   date         1101 non-null   object\n",
            " 6   time         1101 non-null   object\n",
            " 7   url          1101 non-null   object\n",
            " 8   fp1_date     1101 non-null   object\n",
            " 9   fp1_time     1101 non-null   object\n",
            " 10  fp2_date     1101 non-null   object\n",
            " 11  fp2_time     1101 non-null   object\n",
            " 12  fp3_date     1101 non-null   object\n",
            " 13  fp3_time     1101 non-null   object\n",
            " 14  quali_date   1101 non-null   object\n",
            " 15  quali_time   1101 non-null   object\n",
            " 16  sprint_date  1101 non-null   object\n",
            " 17  sprint_time  1101 non-null   object\n",
            "dtypes: int64(4), object(14)\n",
            "memory usage: 155.0+ KB\n",
            "None\n",
            "\n",
            "Results DataFrame:\n",
            "<class 'pandas.core.frame.DataFrame'>\n",
            "RangeIndex: 26080 entries, 0 to 26079\n",
            "Data columns (total 18 columns):\n",
            " #   Column           Non-Null Count  Dtype  \n",
            "---  ------           --------------  -----  \n",
            " 0   resultId         26080 non-null  int64  \n",
            " 1   raceId           26080 non-null  int64  \n",
            " 2   driverId         26080 non-null  int64  \n",
            " 3   constructorId    26080 non-null  int64  \n",
            " 4   number           26080 non-null  object \n",
            " 5   grid             26080 non-null  int64  \n",
            " 6   position         26080 non-null  object \n",
            " 7   positionText     26080 non-null  object \n",
            " 8   positionOrder    26080 non-null  int64  \n",
            " 9   points           26080 non-null  float64\n",
            " 10  laps             26080 non-null  int64  \n",
            " 11  time             26080 non-null  object \n",
            " 12  milliseconds     26080 non-null  object \n",
            " 13  fastestLap       26080 non-null  object \n",
            " 14  rank             26080 non-null  object \n",
            " 15  fastestLapTime   26080 non-null  object \n",
            " 16  fastestLapSpeed  26080 non-null  object \n",
            " 17  statusId         26080 non-null  int64  \n",
            "dtypes: float64(1), int64(8), object(9)\n",
            "memory usage: 3.6+ MB\n",
            "None\n",
            "\n",
            "Drivers DataFrame:\n",
            "<class 'pandas.core.frame.DataFrame'>\n",
            "RangeIndex: 857 entries, 0 to 856\n",
            "Data columns (total 9 columns):\n",
            " #   Column       Non-Null Count  Dtype \n",
            "---  ------       --------------  ----- \n",
            " 0   driverId     857 non-null    int64 \n",
            " 1   driverRef    857 non-null    object\n",
            " 2   number       857 non-null    object\n",
            " 3   code         857 non-null    object\n",
            " 4   forename     857 non-null    object\n",
            " 5   surname      857 non-null    object\n",
            " 6   dob          857 non-null    object\n",
            " 7   nationality  857 non-null    object\n",
            " 8   url          857 non-null    object\n",
            "dtypes: int64(1), object(8)\n",
            "memory usage: 60.4+ KB\n",
            "None\n",
            "\n",
            "Unique raceId in races_df: 1101\n",
            "Unique raceId in results_df: 1091\n",
            "Unique driverId in results_df: 857\n",
            "Unique driverId in drivers_df: 857\n",
            "\n",
            "Missing values in races_df['raceId']: 0\n",
            "Missing values in results_df['raceId']: 0\n",
            "Missing values in results_df['driverId']: 0\n",
            "Missing values in drivers_df['driverId']: 0\n"
          ]
        }
      ],
      "source": [
        "# Check data types and missing values\n",
        "print(\"Races DataFrame:\")\n",
        "print(races_df.info())\n",
        "print(\"\\nResults DataFrame:\")\n",
        "print(results_df.info())\n",
        "print(\"\\nDrivers DataFrame:\")\n",
        "print(drivers_df.info())\n",
        "\n",
        "# Check unique values in key columns\n",
        "print(\"\\nUnique raceId in races_df:\", races_df['raceId'].nunique())\n",
        "print(\"Unique raceId in results_df:\", results_df['raceId'].nunique())\n",
        "print(\"Unique driverId in results_df:\", results_df['driverId'].nunique())\n",
        "print(\"Unique driverId in drivers_df:\", drivers_df['driverId'].nunique())\n",
        "\n",
        "# Check for missing values in key columns\n",
        "print(\"\\nMissing values in races_df['raceId']:\", races_df['raceId'].isnull().sum())\n",
        "print(\"Missing values in results_df['raceId']:\", results_df['raceId'].isnull().sum())\n",
        "print(\"Missing values in results_df['driverId']:\", results_df['driverId'].isnull().sum())\n",
        "print(\"Missing values in drivers_df['driverId']:\", drivers_df['driverId'].isnull().sum())"
      ]
    },
    {
      "cell_type": "markdown",
      "metadata": {
        "id": "M9aYoGcoYldH"
      },
      "source": [
        "## 3. Integración de Datos mediante Joins\n",
        "\n",
        "El objetivo es unir la información de las distintas tablas para poder responder a preguntas de negocio. En este ejercicio central, se utilizarán joins para obtener insights combinando datos de carreras, resultados y pilotos.\n",
        "\n",
        "### 3.1 Unir `results_df` y `drivers_df`\n",
        "\n",
        "Para analizar la participación y resultados de cada piloto, realizamos un merge entre `results_df` y `drivers_df` utilizando la clave `driverId`.\n",
        "\n",
        "**Pregunta clave:** ¿Cuántos pilotos distintos han participado en la F1?\n",
        "\n",
        "Utiliza el DataFrame resultante para explorar esta pregunta."
      ]
    },
    {
      "cell_type": "code",
      "execution_count": null,
      "metadata": {
        "id": "UdTOenAPYldH"
      },
      "outputs": [],
      "source": [
        "df_resultados = pd.merge(results_df, drivers_df, on='driverId', how='inner')"
      ]
    },
    {
      "cell_type": "code",
      "source": [
        "num_drivers = df_resultados['driverId'].nunique()\n",
        "print(f\"Number of distinct drivers in F1: {num_drivers}\")"
      ],
      "metadata": {
        "id": "JOSkLeLdZ6_D",
        "outputId": "33f33166-9085-4daf-a654-e36a86b8f105",
        "colab": {
          "base_uri": "https://localhost:8080/"
        }
      },
      "execution_count": null,
      "outputs": [
        {
          "output_type": "stream",
          "name": "stdout",
          "text": [
            "Number of distinct drivers in F1: 857\n"
          ]
        }
      ]
    },
    {
      "cell_type": "markdown",
      "metadata": {
        "id": "Gtp9SAX-YldH"
      },
      "source": [
        "### 3.2. Unir `df_resultados` con `races_df`\n",
        "\n",
        "Ahora, para relacionar los resultados con cada carrera, se efectúa la unión entre el DataFrame obtenido (`df_resultados`) y `races_df` a través de la clave `raceId`.\n",
        "\n",
        "**Pregunta clave:** ¿Qué información adicional sobre cada carrera (fecha, circuito, etc.) se puede incorporar para enriquecer el análisis?\n",
        "\n",
        "Explora y analiza cómo afecta esta integración en el conjunto de datos final."
      ]
    },
    {
      "cell_type": "code",
      "execution_count": null,
      "metadata": {
        "id": "OMU3wukdYldI"
      },
      "outputs": [],
      "source": [
        "df_completo = pd.merge(df_resultados, races_df, on='raceId', how='inner')"
      ]
    },
    {
      "cell_type": "markdown",
      "metadata": {
        "id": "OjGA5u2tYldI"
      },
      "source": [
        "## 4. Análisis Conjunto y Ejercicios Interactivos\n",
        "\n",
        "Con el DataFrame combinado (`df_completo`) podremos responder a varias preguntas de negocio y realizar análisis conjuntos. A continuación se proponen algunos ejercicios:\n",
        "\n",
        "### Ejercicio 1: Identificar el Circuito Más Utilizado\n",
        "\n",
        "Utiliza `races_df` y la información del DataFrame combinado para determinar cuál es el circuito (identificado con `circuitId` o el nombre del circuito, si se encuentra) que ha sido sede de la mayor cantidad de carreras.\n",
        "\n",
        "**Sugerencia:** Usa la función `value_counts()` y discute el resultado con los estudiantes."
      ]
    },
    {
      "cell_type": "code",
      "execution_count": null,
      "metadata": {
        "id": "mlC4jEgSYldI",
        "outputId": "109cd804-b521-4ae0-ffee-8fdd90ee7a8c",
        "colab": {
          "base_uri": "https://localhost:8080/"
        }
      },
      "outputs": [
        {
          "output_type": "stream",
          "name": "stdout",
          "text": [
            "The most used circuit is: 14\n",
            "The most used circuit name is: Italian Grand Prix\n"
          ]
        }
      ],
      "source": [
        "# Assuming 'circuitId' is the column representing the circuit in races_df\n",
        "most_used_circuit = races_df['circuitId'].value_counts().idxmax()\n",
        "\n",
        "# Print the result\n",
        "print(f\"The most used circuit is: {most_used_circuit}\")\n",
        "\n",
        "# If you want to find the circuit name instead of circuitId:\n",
        "# (Assuming 'name' column in races_df contains circuit names)\n",
        "circuit_name = races_df.loc[races_df['circuitId'] == most_used_circuit, 'name'].iloc[0]\n",
        "print(f\"The most used circuit name is: {circuit_name}\")"
      ]
    },
    {
      "cell_type": "markdown",
      "metadata": {
        "id": "K9a2gSJkYldI"
      },
      "source": [
        "### Ejercicio 2: Piloto con Más Victorias\n",
        "\n",
        "Filtra el DataFrame combinado para quedarte con aquellos registros donde la posición final (`position`) sea 1, lo que indica una victoria. Luego, agrupa por piloto para determinar quién ha ganado más carreras.\n",
        "\n",
        "**Pregunta para los estudiantes:** _¿Qué piloto se destaca por su número de victorias y cómo se relaciona este dato con otros indicadores de rendimiento?_"
      ]
    },
    {
      "cell_type": "code",
      "source": [
        "# Filter for wins (position == 1)\n",
        "wins_df = df_completo[df_completo['positionOrder'] == 1]\n",
        "\n",
        "# Group by driver and count wins\n",
        "driver_wins = wins_df.groupby('driverId')['raceId'].count().reset_index()\n",
        "\n",
        "# Rename columns for clarity\n",
        "driver_wins.rename(columns={'raceId': 'win_count'}, inplace=True)\n",
        "\n",
        "# Sort by win count in descending order\n",
        "driver_wins = driver_wins.sort_values(by=['win_count'], ascending=False)\n",
        "\n",
        "# Display the driver with the most wins\n",
        "most_wins_driver = driver_wins.iloc[0]['driverId']\n",
        "print(f\"The driver with the most wins is: {most_wins_driver}\")"
      ],
      "metadata": {
        "id": "4fTk5snmd3Co",
        "outputId": "f33bff2c-82f1-4451-8adc-ae0393b63753",
        "colab": {
          "base_uri": "https://localhost:8080/"
        }
      },
      "execution_count": null,
      "outputs": [
        {
          "output_type": "stream",
          "name": "stdout",
          "text": [
            "The driver with the most wins is: 1\n"
          ]
        }
      ]
    },
    {
      "cell_type": "markdown",
      "metadata": {
        "id": "1ZolJju9YldJ"
      },
      "source": [
        "### Ejercicio 3: Piloto con Más Puntos\n",
        "\n",
        "Agrupa el DataFrame combinado para sumar el total de puntos (`points`) obtenidos por cada piloto a lo largo de su carrera.\n",
        "\n",
        "**Pregunta para los estudiantes:** _¿Existe correlación entre el número de victorias y la suma total de puntos? ¿Qué puede influir en esta relación?_"
      ]
    },
    {
      "cell_type": "code",
      "execution_count": null,
      "metadata": {
        "id": "Z5RyhNFBYldJ",
        "outputId": "b4f97b0c-c7e3-4d48-886d-4d72c11f021e",
        "colab": {
          "base_uri": "https://localhost:8080/",
          "height": 206
        }
      },
      "outputs": [
        {
          "output_type": "execute_result",
          "data": {
            "text/plain": [
              "     driverId  total_points\n",
              "0           1        4540.5\n",
              "19         20        3098.0\n",
              "828       830        2275.5\n",
              "3           4        2203.0\n",
              "7           8        1873.0"
            ],
            "text/html": [
              "\n",
              "  <div id=\"df-93d5f170-9e5c-4e04-957b-2f01fb6f9753\" class=\"colab-df-container\">\n",
              "    <div>\n",
              "<style scoped>\n",
              "    .dataframe tbody tr th:only-of-type {\n",
              "        vertical-align: middle;\n",
              "    }\n",
              "\n",
              "    .dataframe tbody tr th {\n",
              "        vertical-align: top;\n",
              "    }\n",
              "\n",
              "    .dataframe thead th {\n",
              "        text-align: right;\n",
              "    }\n",
              "</style>\n",
              "<table border=\"1\" class=\"dataframe\">\n",
              "  <thead>\n",
              "    <tr style=\"text-align: right;\">\n",
              "      <th></th>\n",
              "      <th>driverId</th>\n",
              "      <th>total_points</th>\n",
              "    </tr>\n",
              "  </thead>\n",
              "  <tbody>\n",
              "    <tr>\n",
              "      <th>0</th>\n",
              "      <td>1</td>\n",
              "      <td>4540.5</td>\n",
              "    </tr>\n",
              "    <tr>\n",
              "      <th>19</th>\n",
              "      <td>20</td>\n",
              "      <td>3098.0</td>\n",
              "    </tr>\n",
              "    <tr>\n",
              "      <th>828</th>\n",
              "      <td>830</td>\n",
              "      <td>2275.5</td>\n",
              "    </tr>\n",
              "    <tr>\n",
              "      <th>3</th>\n",
              "      <td>4</td>\n",
              "      <td>2203.0</td>\n",
              "    </tr>\n",
              "    <tr>\n",
              "      <th>7</th>\n",
              "      <td>8</td>\n",
              "      <td>1873.0</td>\n",
              "    </tr>\n",
              "  </tbody>\n",
              "</table>\n",
              "</div>\n",
              "    <div class=\"colab-df-buttons\">\n",
              "\n",
              "  <div class=\"colab-df-container\">\n",
              "    <button class=\"colab-df-convert\" onclick=\"convertToInteractive('df-93d5f170-9e5c-4e04-957b-2f01fb6f9753')\"\n",
              "            title=\"Convert this dataframe to an interactive table.\"\n",
              "            style=\"display:none;\">\n",
              "\n",
              "  <svg xmlns=\"http://www.w3.org/2000/svg\" height=\"24px\" viewBox=\"0 -960 960 960\">\n",
              "    <path d=\"M120-120v-720h720v720H120Zm60-500h600v-160H180v160Zm220 220h160v-160H400v160Zm0 220h160v-160H400v160ZM180-400h160v-160H180v160Zm440 0h160v-160H620v160ZM180-180h160v-160H180v160Zm440 0h160v-160H620v160Z\"/>\n",
              "  </svg>\n",
              "    </button>\n",
              "\n",
              "  <style>\n",
              "    .colab-df-container {\n",
              "      display:flex;\n",
              "      gap: 12px;\n",
              "    }\n",
              "\n",
              "    .colab-df-convert {\n",
              "      background-color: #E8F0FE;\n",
              "      border: none;\n",
              "      border-radius: 50%;\n",
              "      cursor: pointer;\n",
              "      display: none;\n",
              "      fill: #1967D2;\n",
              "      height: 32px;\n",
              "      padding: 0 0 0 0;\n",
              "      width: 32px;\n",
              "    }\n",
              "\n",
              "    .colab-df-convert:hover {\n",
              "      background-color: #E2EBFA;\n",
              "      box-shadow: 0px 1px 2px rgba(60, 64, 67, 0.3), 0px 1px 3px 1px rgba(60, 64, 67, 0.15);\n",
              "      fill: #174EA6;\n",
              "    }\n",
              "\n",
              "    .colab-df-buttons div {\n",
              "      margin-bottom: 4px;\n",
              "    }\n",
              "\n",
              "    [theme=dark] .colab-df-convert {\n",
              "      background-color: #3B4455;\n",
              "      fill: #D2E3FC;\n",
              "    }\n",
              "\n",
              "    [theme=dark] .colab-df-convert:hover {\n",
              "      background-color: #434B5C;\n",
              "      box-shadow: 0px 1px 3px 1px rgba(0, 0, 0, 0.15);\n",
              "      filter: drop-shadow(0px 1px 2px rgba(0, 0, 0, 0.3));\n",
              "      fill: #FFFFFF;\n",
              "    }\n",
              "  </style>\n",
              "\n",
              "    <script>\n",
              "      const buttonEl =\n",
              "        document.querySelector('#df-93d5f170-9e5c-4e04-957b-2f01fb6f9753 button.colab-df-convert');\n",
              "      buttonEl.style.display =\n",
              "        google.colab.kernel.accessAllowed ? 'block' : 'none';\n",
              "\n",
              "      async function convertToInteractive(key) {\n",
              "        const element = document.querySelector('#df-93d5f170-9e5c-4e04-957b-2f01fb6f9753');\n",
              "        const dataTable =\n",
              "          await google.colab.kernel.invokeFunction('convertToInteractive',\n",
              "                                                    [key], {});\n",
              "        if (!dataTable) return;\n",
              "\n",
              "        const docLinkHtml = 'Like what you see? Visit the ' +\n",
              "          '<a target=\"_blank\" href=https://colab.research.google.com/notebooks/data_table.ipynb>data table notebook</a>'\n",
              "          + ' to learn more about interactive tables.';\n",
              "        element.innerHTML = '';\n",
              "        dataTable['output_type'] = 'display_data';\n",
              "        await google.colab.output.renderOutput(dataTable, element);\n",
              "        const docLink = document.createElement('div');\n",
              "        docLink.innerHTML = docLinkHtml;\n",
              "        element.appendChild(docLink);\n",
              "      }\n",
              "    </script>\n",
              "  </div>\n",
              "\n",
              "\n",
              "<div id=\"df-cc28b050-125b-4b21-9248-792ea91ce55b\">\n",
              "  <button class=\"colab-df-quickchart\" onclick=\"quickchart('df-cc28b050-125b-4b21-9248-792ea91ce55b')\"\n",
              "            title=\"Suggest charts\"\n",
              "            style=\"display:none;\">\n",
              "\n",
              "<svg xmlns=\"http://www.w3.org/2000/svg\" height=\"24px\"viewBox=\"0 0 24 24\"\n",
              "     width=\"24px\">\n",
              "    <g>\n",
              "        <path d=\"M19 3H5c-1.1 0-2 .9-2 2v14c0 1.1.9 2 2 2h14c1.1 0 2-.9 2-2V5c0-1.1-.9-2-2-2zM9 17H7v-7h2v7zm4 0h-2V7h2v10zm4 0h-2v-4h2v4z\"/>\n",
              "    </g>\n",
              "</svg>\n",
              "  </button>\n",
              "\n",
              "<style>\n",
              "  .colab-df-quickchart {\n",
              "      --bg-color: #E8F0FE;\n",
              "      --fill-color: #1967D2;\n",
              "      --hover-bg-color: #E2EBFA;\n",
              "      --hover-fill-color: #174EA6;\n",
              "      --disabled-fill-color: #AAA;\n",
              "      --disabled-bg-color: #DDD;\n",
              "  }\n",
              "\n",
              "  [theme=dark] .colab-df-quickchart {\n",
              "      --bg-color: #3B4455;\n",
              "      --fill-color: #D2E3FC;\n",
              "      --hover-bg-color: #434B5C;\n",
              "      --hover-fill-color: #FFFFFF;\n",
              "      --disabled-bg-color: #3B4455;\n",
              "      --disabled-fill-color: #666;\n",
              "  }\n",
              "\n",
              "  .colab-df-quickchart {\n",
              "    background-color: var(--bg-color);\n",
              "    border: none;\n",
              "    border-radius: 50%;\n",
              "    cursor: pointer;\n",
              "    display: none;\n",
              "    fill: var(--fill-color);\n",
              "    height: 32px;\n",
              "    padding: 0;\n",
              "    width: 32px;\n",
              "  }\n",
              "\n",
              "  .colab-df-quickchart:hover {\n",
              "    background-color: var(--hover-bg-color);\n",
              "    box-shadow: 0 1px 2px rgba(60, 64, 67, 0.3), 0 1px 3px 1px rgba(60, 64, 67, 0.15);\n",
              "    fill: var(--button-hover-fill-color);\n",
              "  }\n",
              "\n",
              "  .colab-df-quickchart-complete:disabled,\n",
              "  .colab-df-quickchart-complete:disabled:hover {\n",
              "    background-color: var(--disabled-bg-color);\n",
              "    fill: var(--disabled-fill-color);\n",
              "    box-shadow: none;\n",
              "  }\n",
              "\n",
              "  .colab-df-spinner {\n",
              "    border: 2px solid var(--fill-color);\n",
              "    border-color: transparent;\n",
              "    border-bottom-color: var(--fill-color);\n",
              "    animation:\n",
              "      spin 1s steps(1) infinite;\n",
              "  }\n",
              "\n",
              "  @keyframes spin {\n",
              "    0% {\n",
              "      border-color: transparent;\n",
              "      border-bottom-color: var(--fill-color);\n",
              "      border-left-color: var(--fill-color);\n",
              "    }\n",
              "    20% {\n",
              "      border-color: transparent;\n",
              "      border-left-color: var(--fill-color);\n",
              "      border-top-color: var(--fill-color);\n",
              "    }\n",
              "    30% {\n",
              "      border-color: transparent;\n",
              "      border-left-color: var(--fill-color);\n",
              "      border-top-color: var(--fill-color);\n",
              "      border-right-color: var(--fill-color);\n",
              "    }\n",
              "    40% {\n",
              "      border-color: transparent;\n",
              "      border-right-color: var(--fill-color);\n",
              "      border-top-color: var(--fill-color);\n",
              "    }\n",
              "    60% {\n",
              "      border-color: transparent;\n",
              "      border-right-color: var(--fill-color);\n",
              "    }\n",
              "    80% {\n",
              "      border-color: transparent;\n",
              "      border-right-color: var(--fill-color);\n",
              "      border-bottom-color: var(--fill-color);\n",
              "    }\n",
              "    90% {\n",
              "      border-color: transparent;\n",
              "      border-bottom-color: var(--fill-color);\n",
              "    }\n",
              "  }\n",
              "</style>\n",
              "\n",
              "  <script>\n",
              "    async function quickchart(key) {\n",
              "      const quickchartButtonEl =\n",
              "        document.querySelector('#' + key + ' button');\n",
              "      quickchartButtonEl.disabled = true;  // To prevent multiple clicks.\n",
              "      quickchartButtonEl.classList.add('colab-df-spinner');\n",
              "      try {\n",
              "        const charts = await google.colab.kernel.invokeFunction(\n",
              "            'suggestCharts', [key], {});\n",
              "      } catch (error) {\n",
              "        console.error('Error during call to suggestCharts:', error);\n",
              "      }\n",
              "      quickchartButtonEl.classList.remove('colab-df-spinner');\n",
              "      quickchartButtonEl.classList.add('colab-df-quickchart-complete');\n",
              "    }\n",
              "    (() => {\n",
              "      let quickchartButtonEl =\n",
              "        document.querySelector('#df-cc28b050-125b-4b21-9248-792ea91ce55b button');\n",
              "      quickchartButtonEl.style.display =\n",
              "        google.colab.kernel.accessAllowed ? 'block' : 'none';\n",
              "    })();\n",
              "  </script>\n",
              "</div>\n",
              "\n",
              "    </div>\n",
              "  </div>\n"
            ],
            "application/vnd.google.colaboratory.intrinsic+json": {
              "type": "dataframe",
              "variable_name": "driver_points",
              "summary": "{\n  \"name\": \"driver_points\",\n  \"rows\": 857,\n  \"fields\": [\n    {\n      \"column\": \"driverId\",\n      \"properties\": {\n        \"dtype\": \"number\",\n        \"std\": 247,\n        \"min\": 1,\n        \"max\": 858,\n        \"num_unique_values\": 857,\n        \"samples\": [\n          355,\n          413,\n          347\n        ],\n        \"semantic_type\": \"\",\n        \"description\": \"\"\n      }\n    },\n    {\n      \"column\": \"total_points\",\n      \"properties\": {\n        \"dtype\": \"number\",\n        \"std\": 274.8819500480133,\n        \"min\": 0.0,\n        \"max\": 4540.5,\n        \"num_unique_values\": 140,\n        \"samples\": [\n          21.0,\n          122.0,\n          329.0\n        ],\n        \"semantic_type\": \"\",\n        \"description\": \"\"\n      }\n    }\n  ]\n}"
            }
          },
          "metadata": {},
          "execution_count": 11
        }
      ],
      "source": [
        "# Group by driverId and sum points\n",
        "driver_points = df_completo.groupby('driverId')['points'].sum().reset_index()\n",
        "\n",
        "# Rename the 'points' column to 'total_points' for clarity\n",
        "driver_points.rename(columns={'points': 'total_points'}, inplace=True)\n",
        "\n",
        "# Sort by total_points in descending order to see the top performers\n",
        "driver_points = driver_points.sort_values(by=['total_points'], ascending=False)\n",
        "\n",
        "# Display the DataFrame to see the results\n",
        "driver_points.head()"
      ]
    },
    {
      "cell_type": "code",
      "source": [
        "# Merge driver_wins and driver_points DataFrames\n",
        "driver_stats = pd.merge(driver_wins, driver_points, on='driverId', how='inner')\n",
        "\n",
        "# Calculate the correlation between win_count and total_points\n",
        "correlation = driver_stats['win_count'].corr(driver_stats['total_points'])\n",
        "\n",
        "print(f\"Correlation between win count and total points: {correlation}\")"
      ],
      "metadata": {
        "id": "sAXYMpAMecj8",
        "outputId": "ca02070f-85d4-4b80-e608-122c960c139c",
        "colab": {
          "base_uri": "https://localhost:8080/"
        }
      },
      "execution_count": null,
      "outputs": [
        {
          "output_type": "stream",
          "name": "stdout",
          "text": [
            "Correlation between win count and total points: 0.7667635549112088\n"
          ]
        }
      ]
    },
    {
      "cell_type": "markdown",
      "source": [
        "**R=** Sí existe una correlación entre el número de victorias y la suma total de puntos ya que el índice de correlación es de 0,76. Además por simple lógica, debería tener entido que a mayor cantidad de vicotrias, mayor cantidad de puntos."
      ],
      "metadata": {
        "id": "M5VoLMeWefce"
      }
    },
    {
      "cell_type": "markdown",
      "metadata": {
        "id": "7J-tzrobYldJ"
      },
      "source": [
        "### Ejercicio 4: Distribución de Nacionalidades de los Pilotos\n",
        "\n",
        "Analiza la columna `nationality` presente en `drivers_df` para determinar qué nacionalidades están mejor representadas en la F1. Realiza un gráfico de pastel para visualizar la distribución de pilotos por país.\n",
        "\n",
        "**Debate:** ¿Qué factores históricos o deportivos crees que puedan explicar esta distribución?"
      ]
    },
    {
      "cell_type": "code",
      "execution_count": null,
      "metadata": {
        "id": "yCo0kn9xYldJ",
        "outputId": "0653176e-87c5-4271-f128-08d54e95c3e3",
        "colab": {
          "base_uri": "https://localhost:8080/",
          "height": 829
        }
      },
      "outputs": [
        {
          "output_type": "display_data",
          "data": {
            "text/plain": [
              "<Figure size 1000x1000 with 1 Axes>"
            ],
            "image/png": "[encoded data removed]"
          },
          "metadata": {}
        }
      ],
      "source": [
        "import matplotlib.pyplot as plt\n",
        "\n",
        "# Count the occurrences of each nationality\n",
        "nationality_counts = drivers_df['nationality'].value_counts()\n",
        "\n",
        "# Create a pie chart\n",
        "plt.figure(figsize=(10, 10))  # Adjust figure size if needed\n",
        "plt.pie(nationality_counts, labels=nationality_counts.index, autopct='%1.1f%%', startangle=90)\n",
        "plt.title('Distribution of F1 Drivers by Nationality')\n",
        "plt.show()"
      ]
    },
    {
      "cell_type": "markdown",
      "metadata": {
        "id": "e45NLrcoYldJ"
      },
      "source": [
        "### Ejercicio 5: Evolución del Número de Carreras por Año\n",
        "\n",
        "Genera un gráfico de barras que muestre cómo ha evolucionado el número de carreras a lo largo de los años, utilizando la información de `races_df`.\n",
        "\n",
        "**Pregunta para los estudiantes:** _¿Qué eventos o cambios en la industria (por ejemplo, crisis, cambios en el reglamento) podrían explicar las variaciones observadas a lo largo de la historia?_\n",
        "\n",
        "Este ejercicio ayudará a vincular el análisis de datos con contextos históricos y comerciales."
      ]
    },
    {
      "cell_type": "code",
      "execution_count": null,
      "metadata": {
        "id": "3UJBvdNDYldJ",
        "outputId": "055947d6-8c13-412c-c0c3-54a6308c41fc",
        "colab": {
          "base_uri": "https://localhost:8080/",
          "height": 759
        }
      },
      "outputs": [
        {
          "output_type": "execute_result",
          "data": {
            "text/plain": [
              "<function matplotlib.pyplot.show(close=None, block=None)>"
            ],
            "text/html": [
              "<div style=\"max-width:800px; border: 1px solid var(--colab-border-color);\"><style>\n",
              "      pre.function-repr-contents {\n",
              "        overflow-x: auto;\n",
              "        padding: 8px 12px;\n",
              "        max-height: 500px;\n",
              "      }\n",
              "\n",
              "      pre.function-repr-contents.function-repr-contents-collapsed {\n",
              "        cursor: pointer;\n",
              "        max-height: 100px;\n",
              "      }\n",
              "    </style>\n",
              "    <pre style=\"white-space: initial; background:\n",
              "         var(--colab-secondary-surface-color); padding: 8px 12px;\n",
              "         border-bottom: 1px solid var(--colab-border-color);\"><b>matplotlib.pyplot.show</b><br/>def show(*args, **kwargs) -&gt; None</pre><pre class=\"function-repr-contents function-repr-contents-collapsed\" style=\"\"><a class=\"filepath\" style=\"display:none\" href=\"#\">/usr/local/lib/python3.11/dist-packages/matplotlib/pyplot.py</a>Display all open figures.\n",
              "\n",
              "Parameters\n",
              "----------\n",
              "block : bool, optional\n",
              "    Whether to wait for all figures to be closed before returning.\n",
              "\n",
              "    If `True` block and run the GUI main loop until all figure windows\n",
              "    are closed.\n",
              "\n",
              "    If `False` ensure that all figure windows are displayed and return\n",
              "    immediately.  In this case, you are responsible for ensuring\n",
              "    that the event loop is running to have responsive figures.\n",
              "\n",
              "    Defaults to True in non-interactive mode and to False in interactive\n",
              "    mode (see `.pyplot.isinteractive`).\n",
              "\n",
              "See Also\n",
              "--------\n",
              "ion : Enable interactive mode, which shows / updates the figure after\n",
              "      every plotting command, so that calling ``show()`` is not necessary.\n",
              "ioff : Disable interactive mode.\n",
              "savefig : Save the figure to an image file instead of showing it on screen.\n",
              "\n",
              "Notes\n",
              "-----\n",
              "**Saving figures to file and showing a window at the same time**\n",
              "\n",
              "If you want an image file as well as a user interface window, use\n",
              "`.pyplot.savefig` before `.pyplot.show`. At the end of (a blocking)\n",
              "``show()`` the figure is closed and thus unregistered from pyplot. Calling\n",
              "`.pyplot.savefig` afterwards would save a new and thus empty figure. This\n",
              "limitation of command order does not apply if the show is non-blocking or\n",
              "if you keep a reference to the figure and use `.Figure.savefig`.\n",
              "\n",
              "**Auto-show in jupyter notebooks**\n",
              "\n",
              "The jupyter backends (activated via ``%matplotlib inline``,\n",
              "``%matplotlib notebook``, or ``%matplotlib widget``), call ``show()`` at\n",
              "the end of every cell by default. Thus, you usually don&#x27;t have to call it\n",
              "explicitly there.</pre>\n",
              "      <script>\n",
              "      if (google.colab.kernel.accessAllowed && google.colab.files && google.colab.files.view) {\n",
              "        for (const element of document.querySelectorAll('.filepath')) {\n",
              "          element.style.display = 'block'\n",
              "          element.onclick = (event) => {\n",
              "            event.preventDefault();\n",
              "            event.stopPropagation();\n",
              "            google.colab.files.view(element.textContent, 569);\n",
              "          };\n",
              "        }\n",
              "      }\n",
              "      for (const element of document.querySelectorAll('.function-repr-contents')) {\n",
              "        element.onclick = (event) => {\n",
              "          event.preventDefault();\n",
              "          event.stopPropagation();\n",
              "          element.classList.toggle('function-repr-contents-collapsed');\n",
              "        };\n",
              "      }\n",
              "      </script>\n",
              "      </div>"
            ]
          },
          "metadata": {},
          "execution_count": 16
        },
        {
          "output_type": "display_data",
          "data": {
            "text/plain": [
              "<Figure size 1200x600 with 1 Axes>"
            ],
            "image/png": "[encoded data removed]"
          },
          "metadata": {}
        }
      ],
      "source": [
        "import matplotlib.pyplot as plt\n",
        "\n",
        "# Group by year and count races\n",
        "races_per_year = races_df.groupby('year')['raceId'].count().reset_index()\n",
        "\n",
        "# Rename columns for clarity\n",
        "races_per_year.rename(columns={'raceId': 'race_count'}, inplace=True)\n",
        "\n",
        "# Create a bar chart\n",
        "plt.figure(figsize=(12, 6))  # Adjust figure size if needed\n",
        "plt.bar(races_per_year['year'], races_per_year['race_count'])\n",
        "plt.xlabel('Year')\n",
        "plt.ylabel('Number of Races')\n",
        "plt.title('Evolution of Number of Races Over the Years')\n",
        "plt.xticks(rotation=45, ha='right')  # Rotate x-axis labels for better readability\n",
        "plt.tight_layout()  # Adjust layout to prevent labels from overlapping\n",
        "plt.show"
      ]
    },
    {
      "cell_type": "markdown",
      "source": [
        "**R=** Algunos eventos que pudieron afectar la gráfica pudieron ser: La postguerra de la segunda guerra mundial, la guerra fría, la crisis de petróleo de 1970 y la pandemia del Covid19"
      ],
      "metadata": {
        "id": "knZCA0FGgtpR"
      }
    },
    {
      "cell_type": "markdown",
      "metadata": {
        "id": "kcI4c2GMYldJ"
      },
      "source": [
        "## 5. Preguntas para el Análisis Conjunto y Debate en Clase\n",
        "\n",
        "Para concluir la actividad, propón a los estudiantes debatir y responder a las siguientes preguntas:\n",
        "\n",
        "1. **Integración y Calidad de Datos:** ¿Qué inconvenientes pueden surgir al unir tablas que tienen registros incompletos o duplicados? ¿Cómo solucionarlo?\n",
        "2. **Estrategias de Join:** ¿En qué casos es más adecuado usar un `inner join` y cuándo un `outer join` para evitar perder información relevante?\n",
        "3. **Insights Negocio:** Basándose en los resultados obtenidos (pilotos con más victorias/puntos, circuitos más usados, etc.), ¿qué estrategias de negocio o insights se podrían extraer para equipos o patrocinadores en la F1?\n",
        "4. **Análisis Temporal:** ¿Qué relación existe entre los cambios en el número de carreras por año y otros indicadores (como el número de pilotos, eventos destacados, etc.)?\n",
        "\n",
        "Estas preguntas tienen el objetivo de invitar a un análisis integral de los datos, combinando la técnica de joins con la interpretación y contextualización de los resultados."
      ]
    },
    {
      "cell_type": "markdown",
      "source": [
        "**R=**\n",
        "\n",
        "**1)** Algunos inconvenientes que pueden surgir al unir tablas que tienen registros incompletos o duplicados es que se puede perder información, quedar con información duplicada y directamente puede quedar con errores. Para solucionarlo, se puede hacer filtración de los datos antes de empezar el procedimiento, usar el join type adecuado, usar validación de datos o usar transformación de datos.\n",
        "\n",
        "**2)**El inner join es más para casos de dejar datos en común entre tablas o datos, es decir, hacer una especie de filtración. El outer join, sirve más para hacer uniones de datos y en otras palabras, agrupar.\n",
        "\n",
        "**3)** Para los equipos, algunas estrategias podrían ser:  identificar a los pilotos con mayor potencial basándose en su historial de victorias, puntos acumulados y otros indicadores de rendimiento, utilizar los datos de rendimiento de los coches en diferentes circuitos para identificar áreas de mejora y optimizar el diseño de sus vehículos y analizar los datos históricos de las carreras para identificar patrones y tendencias que les permitan tomar decisiones estratégicas durante las competiciones.\n",
        "\n",
        "**Para los patrocinadores:**\n",
        "\n",
        "**Selección de equipos:** Los patrocinadores pueden utilizar los datos de rendimiento de los equipos para identificar a aquellos que tienen mayor probabilidad de éxito y que les proporcionarán un mayor retorno de inversión.\n",
        "\n",
        "**Selección de pilotos:** Los patrocinadores también pueden utilizar los datos de rendimiento de los pilotos para identificar a aquellos que tienen mayor popularidad y que les proporcionarán una mayor visibilidad de marca.\n",
        "\n",
        "**Activación de patrocinios:** Los patrocinadores pueden utilizar los datos de la audiencia de la F1 para identificar a su público objetivo y desarrollar estrategias de activación de patrocinios más efectivas.\n",
        "\n",
        "**4)** La relación que existe entre los cambios en el número de carreras por año y otros indicadores (como el número de pilotos, eventos destacados, etc.) son:\n",
        "\n",
        "**Aumento en el número de carreras:** Un aumento en el número de carreras por año podría llevar a un aumento en la demanda de pilotos, lo que a su vez podría incentivar a más personas a involucrarse en el deporte y aumentar el número total de pilotos.\n",
        "\n",
        "**Disminución en el número de carreras:** Una disminución en el número de carreras podría reducir las oportunidades para los pilotos, lo que podría llevar a una disminución en el número de pilotos activos en la F1.\n",
        "\n",
        "**Popularidad del deporte:** Un aumento en el número de carreras podría contribuir a la popularidad de la F1, al brindar más oportunidades para que los aficionados sigan el deporte y se involucren con él.\n",
        "\n",
        "**Ingresos:** Un aumento en el número de carreras podría generar mayores ingresos para la F1, a través de la venta de entradas, derechos de televisión y patrocinios.\n",
        "\n",
        "**Costos:** Un aumento en el número de carreras también podría aumentar los costos para los equipos, debido a los viajes, la logística y el desgaste de los coches.\n",
        "\n",
        "**Seguridad:** Un aumento en el número de carreras podría plantear desafíos para la seguridad, ya que los pilotos y los equipos tendrían menos tiempo para descansar y recuperarse entre carreras.\n",
        "\n"
      ],
      "metadata": {
        "id": "6Ajmhor7jOZW"
      }
    },
    {
      "cell_type": "markdown",
      "metadata": {
        "id": "1YiB8WiwYldJ"
      },
      "source": [
        "## 6. Conclusión\n",
        "\n",
        "Este ejercicio integrador ha permitido utilizar joins para combinar distintos orígenes de datos y explorar de manera conjunta información esencial de la Fórmula 1. Se ha trabajado en:\n",
        "\n",
        "- La identificación de claves y la integración de múltiples datasets.\n",
        "- La generación de indicadores y visualizaciones útiles para responder preguntas de negocio.\n",
        "- El análisis crítico y debate sobre la calidad de los datos y la metodología de integración.\n",
        "\n",
        "Utiliza este notebook como una herramienta para profundizar en la recolección y exploración de datos, incentivando a los estudiantes a buscar conexiones entre la teoría de joins y su aplicación en casos reales."
      ]
    },
    {
      "cell_type": "markdown",
      "source": [
        "**Información para presentación:**\n",
        "\n",
        "**Situación:**\n",
        " La compañía Eagles, es una compañía de patrocinio polaca que lleva patrocinando eventos deportivos desde 1899. En esta ocasión la empresa busca invertir en un nuevo deporte para ellos que es la F1.\n",
        "\n",
        "**Complicación:**\n",
        "La marca no tiene suficiente información que le permita decidir a qué equipo apoyar en la competencia, por temas de costeos busca que sea uno de los equipos ubicados entre el puesto 3 a 5 según puntos obtenidos en la competencia y que sean equipos ubicados entre los que más participan en competencias ya que quieren tener bastante visualización.\n",
        "\n",
        "**Pregunta:**\n",
        "¿Qué equipos le recomendaría a la marca placa que patrocinara la marca polaca?\n",
        "\n",
        "**Gráficos**\n",
        "\n",
        "1)\tPuntos obtenidos por equipos (Top 10)\n",
        "\n",
        "2)\tNacionalidades mejor representadas de la competencia (Top 5)\n",
        "\n",
        "3)\tEquipos con mayor cantidad de carreras.\n"
      ],
      "metadata": {
        "id": "znQx4Jxkrjbw"
      }
    },
    {
      "cell_type": "markdown",
      "source": [
        " información del top 10 de equipos con mayores puntos y sus nacionalidades"
      ],
      "metadata": {
        "id": "-5DquyaK0POC"
      }
    },
    {
      "cell_type": "markdown",
      "source": [
        "Gráfico 1\tNacionalidades de los equipos con mejores performances en la competencia"
      ],
      "metadata": {
        "id": "LV8rKD1D0RTH"
      }
    },
    {
      "cell_type": "code",
      "source": [
        "import pandas as pd\n",
        "\n",
        "# Assuming df_completo is already defined\n",
        "\n",
        "# Group by constructorId and sum points\n",
        "constructor_points = df_completo.groupby('constructorId')['points'].sum().reset_index()\n",
        "constructor_points.rename(columns={'points': 'total_points'}, inplace=True)\n",
        "\n",
        "# Sort by total_points and get top 10  <--- Change here\n",
        "top_10_constructors = constructor_points.sort_values(by=['total_points'], ascending=False).head(10)\n",
        "\n",
        "# Merge with constructors data to get nationalities\n",
        "constructors_df = pd.read_csv('constructors.csv')  # Assuming you have constructors.csv\n",
        "top_10_with_nationality = pd.merge(top_10_constructors, constructors_df[['constructorId', 'nationality']], on='constructorId', how='left')\n",
        "\n",
        "# Display the results\n",
        "print(top_10_with_nationality[['constructorId', 'nationality', 'total_points']])"
      ],
      "metadata": {
        "colab": {
          "base_uri": "https://localhost:8080/"
        },
        "id": "6fcuOT7y0Qp6",
        "outputId": "a05f998d-eaa1-447e-f149-30d7f59dd262"
      },
      "execution_count": null,
      "outputs": [
        {
          "output_type": "stream",
          "name": "stdout",
          "text": [
            "   constructorId nationality  total_points\n",
            "0              6     Italian      10298.27\n",
            "1            131      German       7159.64\n",
            "2              9    Austrian       6812.00\n",
            "3              1     British       6240.50\n",
            "4              3     British       3609.00\n",
            "5              4      French       1777.00\n",
            "6             10      Indian       1098.00\n",
            "7             32     British        995.00\n",
            "8             22     Italian        861.50\n",
            "9             25     British        711.00\n"
          ]
        }
      ]
    },
    {
      "cell_type": "markdown",
      "source": [
        "Gráfico 2 de las nacionalidades mayor representadas"
      ],
      "metadata": {
        "id": "RqUvP-YG4h97"
      }
    },
    {
      "cell_type": "code",
      "source": [
        "import matplotlib.pyplot as plt\n",
        "import pandas as pd\n",
        "\n",
        "# Cuenta las ocurrencias de cada nacionalidad\n",
        "nationality_counts = drivers_df['nationality'].value_counts()\n",
        "\n",
        "# Selecciona las 5 nacionalidades principales\n",
        "top_5_nationalities = nationality_counts.head(5)\n",
        "\n",
        "# Crea un diagrama de barras con colores diferentes\n",
        "plt.figure(figsize=(6, 4))\n",
        "top_5_nationalities.plot(kind='bar', color=['skyblue', 'coral', 'lightgreen', 'gold', 'plum']) # Lista de colores\n",
        "plt.xlabel('Nacionalidad', fontsize=12)\n",
        "plt.ylabel('Número de pilotos', fontsize=12)\n",
        "plt.title('Top 5 Nacionalidades de Pilotos de F1', fontsize=14)\n",
        "plt.xticks(rotation=45, ha='right', fontsize=10)\n",
        "plt.yticks(fontsize=10)\n",
        "plt.grid(axis='y', linestyle='--', alpha=0.7)\n",
        "plt.tight_layout()\n",
        "plt.show()"
      ],
      "metadata": {
        "colab": {
          "base_uri": "https://localhost:8080/",
          "height": 407
        },
        "id": "F6UPVm5T2tTr",
        "outputId": "5ebda584-47ce-474a-e8fe-223fced3157f"
      },
      "execution_count": null,
      "outputs": [
        {
          "output_type": "display_data",
          "data": {
            "text/plain": [
              "<Figure size 600x400 with 1 Axes>"
            ],
            "image/png": "[encoded data removed]"
          },
          "metadata": {}
        }
      ]
    },
    {
      "cell_type": "markdown",
      "source": [
        "Gráfico 3\tequipos con mayor cantidad de carreras"
      ],
      "metadata": {
        "id": "MqREvFwE53f8"
      }
    },
    {
      "cell_type": "code",
      "source": [
        "import pandas as pd\n",
        "\n",
        "# Suponiendo que df_completo ya está definido\n",
        "# (resultado de la unión de results_df, drivers_df y races_df)\n",
        "\n",
        "# Agrupa por constructorId y cuenta las carreras participadas\n",
        "constructor_races = df_completo.groupby('constructorId')['raceId'].nunique().reset_index()\n",
        "constructor_races.rename(columns={'raceId': 'races_participated'}, inplace=True)\n",
        "\n",
        "# Ordena por carreras participadas y obtén los 10 principales\n",
        "top_10_constructors = constructor_races.sort_values(by=['races_participated'], ascending=False).head(10)\n",
        "\n",
        "# Une con los datos de los constructores para obtener los nombres\n",
        "constructors_df = pd.read_csv('constructors.csv')  # Suponiendo que tienes constructors.csv\n",
        "top_10_with_names = pd.merge(top_10_constructors, constructors_df[['constructorId', 'name']], on='constructorId', how='left')\n",
        "\n",
        "# Muestra los resultados con constructorId y name\n",
        "print(top_10_with_names[['constructorId', 'name', 'races_participated']])"
      ],
      "metadata": {
        "colab": {
          "base_uri": "https://localhost:8080/"
        },
        "id": "OKNmn1pv4nmK",
        "outputId": "4041e95f-61f3-411c-aa44-3a8fc0e61ed6"
      },
      "execution_count": null,
      "outputs": [
        {
          "output_type": "stream",
          "name": "stdout",
          "text": [
            "   constructorId        name  races_participated\n",
            "0              6     Ferrari                1066\n",
            "1              1     McLaren                 895\n",
            "2              3    Williams                 809\n",
            "3             25     Tyrrell                 433\n",
            "4              4     Renault                 403\n",
            "5             15      Sauber                 395\n",
            "6             32  Team Lotus                 395\n",
            "7              9    Red Bull                 360\n",
            "8             18     Minardi                 345\n",
            "9             27      Ligier                 330\n"
          ]
        }
      ]
    }
  ],
  "metadata": {
    "kernelspec": {
      "display_name": "Python 3",
      "language": "python",
      "name": "python3"
    },
    "language_info": {
      "codemirror_mode": {
        "name": "ipython",
        "version": 3
      },
      "file_extension": ".py",
      "mimetype": "text/x-python",
      "name": "python",
      "nbconvert_exporter": "python",
      "pygments_lexer": "ipython3",
      "version": "3.12.4"
    },
    "colab": {
      "provenance": []
    }
  },
  "nbformat": 4,
  "nbformat_minor": 0
}