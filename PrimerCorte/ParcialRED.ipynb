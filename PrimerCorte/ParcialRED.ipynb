{
  "cells": [
    {
      "cell_type": "markdown",
      "id": "2ecce53c-101a-4ce2-95d7-5d56e7c16ad2",
      "metadata": {
        "id": "2ecce53c-101a-4ce2-95d7-5d56e7c16ad2"
      },
      "source": [
        "# Análisis EDA y Decisiones de Negocio en Ventas de Automóviles\n",
        "\n",
        "Este notebook contiene 15 ejercicios que combinan análisis exploratorio de datos (EDA) y reflexiones críticas de negocio. Cada punto incluye instrucciones detalladas, paso a paso, para realizar agrupaciones y filtros, de modo que se guíe al estudiante en cada parte del proceso.\n",
        "\n",
        "La estructura del dataset es la siguiente:\n",
        "\n",
        "```\n",
        "year, make, model, trim, body, transmission, vin, state, condition, odometer, color, interior, seller, mmr, sellingprice, saledate\n",
        "```\n",
        "\n",
        "¡Comienza el análisis y sigue cada paso para proponer estrategias de negocio basadas en los resultados!"
      ]
    },
    {
      "cell_type": "code",
      "source": [
        "# Descargar y descomprimir el dataset\n",
        "!wget https://github.com/javierherrera1996/lecture_analytics/raw/main/cars_dataset.zip\n",
        "!unzip -o cars_dataset.zip"
      ],
      "metadata": {
        "colab": {
          "base_uri": "https://localhost:8080/"
        },
        "id": "11maYD7PCa6r",
        "outputId": "91e93049-9a5a-40f0-d0fe-fb2a8f5cc5e4"
      },
      "id": "11maYD7PCa6r",
      "execution_count": 1,
      "outputs": [
        {
          "output_type": "stream",
          "name": "stdout",
          "text": [
            "--2025-03-13 20:15:34--  https://github.com/javierherrera1996/lecture_analytics/raw/main/cars_dataset.zip\n",
            "Resolving github.com (github.com)... 140.82.114.3\n",
            "Connecting to github.com (github.com)|140.82.114.3|:443... connected.\n",
            "HTTP request sent, awaiting response... 302 Found\n",
            "Location: https://raw.githubusercontent.com/javierherrera1996/lecture_analytics/main/cars_dataset.zip [following]\n",
            "--2025-03-13 20:15:35--  https://raw.githubusercontent.com/javierherrera1996/lecture_analytics/main/cars_dataset.zip\n",
            "Resolving raw.githubusercontent.com (raw.githubusercontent.com)... 185.199.108.133, 185.199.111.133, 185.199.109.133, ...\n",
            "Connecting to raw.githubusercontent.com (raw.githubusercontent.com)|185.199.108.133|:443... connected.\n",
            "HTTP request sent, awaiting response... 200 OK\n",
            "Length: 19753181 (19M) [application/zip]\n",
            "Saving to: ‘cars_dataset.zip’\n",
            "\n",
            "cars_dataset.zip    100%[===================>]  18.84M  66.0MB/s    in 0.3s    \n",
            "\n",
            "2025-03-13 20:15:35 (66.0 MB/s) - ‘cars_dataset.zip’ saved [19753181/19753181]\n",
            "\n",
            "Archive:  cars_dataset.zip\n",
            "  inflating: car_prices.csv          \n"
          ]
        }
      ]
    },
    {
      "cell_type": "markdown",
      "id": "a73c3ad6-7d59-4d03-9bfe-8b49f0b066c5",
      "metadata": {
        "id": "a73c3ad6-7d59-4d03-9bfe-8b49f0b066c5"
      },
      "source": [
        "## 1. Dimensiones y Representatividad del Dataset\n",
        "\n",
        "a) Carga el dataset (desde un archivo CSV) y muestra sus dimensiones (número de filas y columnas).\n",
        "\n",
        "b) Describe brevemente qué representa cada fila y reflexiona: ¿Crees que el dataset es representativo del mercado de ventas de automóviles? Justifica tu respuesta."
      ]
    },
    {
      "cell_type": "code",
      "execution_count": 2,
      "id": "abb22d3d-9e7f-4c88-8b30-d5d5d7c1d0f3",
      "metadata": {
        "id": "abb22d3d-9e7f-4c88-8b30-d5d5d7c1d0f3"
      },
      "outputs": [],
      "source": [
        "import pandas as pd\n",
        "\n",
        "data = pd.read_csv('car_prices.csv')\n"
      ]
    },
    {
      "cell_type": "code",
      "source": [
        "# Carga el dataset\n",
        "data = pd.read_csv('car_prices.csv')\n",
        "\n",
        "# Muestra las dimensiones\n",
        "print(f\"El dataset tiene {data.shape[0]} filas y {data.shape[1]} columnas.\")"
      ],
      "metadata": {
        "colab": {
          "base_uri": "https://localhost:8080/"
        },
        "id": "NZh8TLIYKDql",
        "outputId": "90395615-06cc-43f1-d3a9-1f87e9554e9f"
      },
      "id": "NZh8TLIYKDql",
      "execution_count": 13,
      "outputs": [
        {
          "output_type": "stream",
          "name": "stdout",
          "text": [
            "El dataset tiene 558837 filas y 16 columnas.\n"
          ]
        }
      ]
    },
    {
      "cell_type": "code",
      "source": [
        "data.info()"
      ],
      "metadata": {
        "colab": {
          "base_uri": "https://localhost:8080/"
        },
        "id": "REVvsCJWJnyA",
        "outputId": "860286b7-682c-403c-bd5c-5380bfb709a2"
      },
      "id": "REVvsCJWJnyA",
      "execution_count": 7,
      "outputs": [
        {
          "output_type": "stream",
          "name": "stdout",
          "text": [
            "<class 'pandas.core.frame.DataFrame'>\n",
            "RangeIndex: 558837 entries, 0 to 558836\n",
            "Data columns (total 16 columns):\n",
            " #   Column        Non-Null Count   Dtype  \n",
            "---  ------        --------------   -----  \n",
            " 0   year          558837 non-null  int64  \n",
            " 1   make          548536 non-null  object \n",
            " 2   model         548438 non-null  object \n",
            " 3   trim          548186 non-null  object \n",
            " 4   body          545642 non-null  object \n",
            " 5   transmission  493485 non-null  object \n",
            " 6   vin           558833 non-null  object \n",
            " 7   state         558837 non-null  object \n",
            " 8   condition     547017 non-null  float64\n",
            " 9   odometer      558743 non-null  float64\n",
            " 10  color         558088 non-null  object \n",
            " 11  interior      558088 non-null  object \n",
            " 12  seller        558837 non-null  object \n",
            " 13  mmr           558799 non-null  float64\n",
            " 14  sellingprice  558825 non-null  float64\n",
            " 15  saledate      558825 non-null  object \n",
            "dtypes: float64(4), int64(1), object(11)\n",
            "memory usage: 68.2+ MB\n"
          ]
        }
      ]
    },
    {
      "cell_type": "markdown",
      "source": [
        "**R=** Cada fila representa la información de un vehículo vendido. Contiene información como año, marca, modelo, entre otras características.En mi opinión tiene información que ayuda a entender el mercado de los automóviles, más no se puede aegurar que estadísticamente sea representativa ya que no se tiene información de qué tamaño es la población de automóviles y por ende que la muestra sea representativa."
      ],
      "metadata": {
        "id": "FI3uuFAIKt3s"
      },
      "id": "FI3uuFAIKt3s"
    },
    {
      "cell_type": "code",
      "source": [
        "data.describe()"
      ],
      "metadata": {
        "colab": {
          "base_uri": "https://localhost:8080/",
          "height": 300
        },
        "id": "hNTBUEfUJ4bN",
        "outputId": "5233d842-00a4-4dfb-83fa-7c952bf16cbf"
      },
      "id": "hNTBUEfUJ4bN",
      "execution_count": 9,
      "outputs": [
        {
          "output_type": "execute_result",
          "data": {
            "text/plain": [
              "                year      condition       odometer            mmr  \\\n",
              "count  558837.000000  547017.000000  558743.000000  558799.000000   \n",
              "mean     2010.038927      30.672365   68320.017767   13769.377495   \n",
              "std         3.966864      13.402832   53398.542821    9679.967174   \n",
              "min      1982.000000       1.000000       1.000000      25.000000   \n",
              "25%      2007.000000      23.000000   28371.000000    7100.000000   \n",
              "50%      2012.000000      35.000000   52254.000000   12250.000000   \n",
              "75%      2013.000000      42.000000   99109.000000   18300.000000   \n",
              "max      2015.000000      49.000000  999999.000000  182000.000000   \n",
              "\n",
              "        sellingprice  \n",
              "count  558825.000000  \n",
              "mean    13611.358810  \n",
              "std      9749.501628  \n",
              "min         1.000000  \n",
              "25%      6900.000000  \n",
              "50%     12100.000000  \n",
              "75%     18200.000000  \n",
              "max    230000.000000  "
            ],
            "text/html": [
              "\n",
              "  <div id=\"df-9960b5d9-69b2-4c03-9195-eefb4e5cf078\" class=\"colab-df-container\">\n",
              "    <div>\n",
              "<style scoped>\n",
              "    .dataframe tbody tr th:only-of-type {\n",
              "        vertical-align: middle;\n",
              "    }\n",
              "\n",
              "    .dataframe tbody tr th {\n",
              "        vertical-align: top;\n",
              "    }\n",
              "\n",
              "    .dataframe thead th {\n",
              "        text-align: right;\n",
              "    }\n",
              "</style>\n",
              "<table border=\"1\" class=\"dataframe\">\n",
              "  <thead>\n",
              "    <tr style=\"text-align: right;\">\n",
              "      <th></th>\n",
              "      <th>year</th>\n",
              "      <th>condition</th>\n",
              "      <th>odometer</th>\n",
              "      <th>mmr</th>\n",
              "      <th>sellingprice</th>\n",
              "    </tr>\n",
              "  </thead>\n",
              "  <tbody>\n",
              "    <tr>\n",
              "      <th>count</th>\n",
              "      <td>558837.000000</td>\n",
              "      <td>547017.000000</td>\n",
              "      <td>558743.000000</td>\n",
              "      <td>558799.000000</td>\n",
              "      <td>558825.000000</td>\n",
              "    </tr>\n",
              "    <tr>\n",
              "      <th>mean</th>\n",
              "      <td>2010.038927</td>\n",
              "      <td>30.672365</td>\n",
              "      <td>68320.017767</td>\n",
              "      <td>13769.377495</td>\n",
              "      <td>13611.358810</td>\n",
              "    </tr>\n",
              "    <tr>\n",
              "      <th>std</th>\n",
              "      <td>3.966864</td>\n",
              "      <td>13.402832</td>\n",
              "      <td>53398.542821</td>\n",
              "      <td>9679.967174</td>\n",
              "      <td>9749.501628</td>\n",
              "    </tr>\n",
              "    <tr>\n",
              "      <th>min</th>\n",
              "      <td>1982.000000</td>\n",
              "      <td>1.000000</td>\n",
              "      <td>1.000000</td>\n",
              "      <td>25.000000</td>\n",
              "      <td>1.000000</td>\n",
              "    </tr>\n",
              "    <tr>\n",
              "      <th>25%</th>\n",
              "      <td>2007.000000</td>\n",
              "      <td>23.000000</td>\n",
              "      <td>28371.000000</td>\n",
              "      <td>7100.000000</td>\n",
              "      <td>6900.000000</td>\n",
              "    </tr>\n",
              "    <tr>\n",
              "      <th>50%</th>\n",
              "      <td>2012.000000</td>\n",
              "      <td>35.000000</td>\n",
              "      <td>52254.000000</td>\n",
              "      <td>12250.000000</td>\n",
              "      <td>12100.000000</td>\n",
              "    </tr>\n",
              "    <tr>\n",
              "      <th>75%</th>\n",
              "      <td>2013.000000</td>\n",
              "      <td>42.000000</td>\n",
              "      <td>99109.000000</td>\n",
              "      <td>18300.000000</td>\n",
              "      <td>18200.000000</td>\n",
              "    </tr>\n",
              "    <tr>\n",
              "      <th>max</th>\n",
              "      <td>2015.000000</td>\n",
              "      <td>49.000000</td>\n",
              "      <td>999999.000000</td>\n",
              "      <td>182000.000000</td>\n",
              "      <td>230000.000000</td>\n",
              "    </tr>\n",
              "  </tbody>\n",
              "</table>\n",
              "</div>\n",
              "    <div class=\"colab-df-buttons\">\n",
              "\n",
              "  <div class=\"colab-df-container\">\n",
              "    <button class=\"colab-df-convert\" onclick=\"convertToInteractive('df-9960b5d9-69b2-4c03-9195-eefb4e5cf078')\"\n",
              "            title=\"Convert this dataframe to an interactive table.\"\n",
              "            style=\"display:none;\">\n",
              "\n",
              "  <svg xmlns=\"http://www.w3.org/2000/svg\" height=\"24px\" viewBox=\"0 -960 960 960\">\n",
              "    <path d=\"M120-120v-720h720v720H120Zm60-500h600v-160H180v160Zm220 220h160v-160H400v160Zm0 220h160v-160H400v160ZM180-400h160v-160H180v160Zm440 0h160v-160H620v160ZM180-180h160v-160H180v160Zm440 0h160v-160H620v160Z\"/>\n",
              "  </svg>\n",
              "    </button>\n",
              "\n",
              "  <style>\n",
              "    .colab-df-container {\n",
              "      display:flex;\n",
              "      gap: 12px;\n",
              "    }\n",
              "\n",
              "    .colab-df-convert {\n",
              "      background-color: #E8F0FE;\n",
              "      border: none;\n",
              "      border-radius: 50%;\n",
              "      cursor: pointer;\n",
              "      display: none;\n",
              "      fill: #1967D2;\n",
              "      height: 32px;\n",
              "      padding: 0 0 0 0;\n",
              "      width: 32px;\n",
              "    }\n",
              "\n",
              "    .colab-df-convert:hover {\n",
              "      background-color: #E2EBFA;\n",
              "      box-shadow: 0px 1px 2px rgba(60, 64, 67, 0.3), 0px 1px 3px 1px rgba(60, 64, 67, 0.15);\n",
              "      fill: #174EA6;\n",
              "    }\n",
              "\n",
              "    .colab-df-buttons div {\n",
              "      margin-bottom: 4px;\n",
              "    }\n",
              "\n",
              "    [theme=dark] .colab-df-convert {\n",
              "      background-color: #3B4455;\n",
              "      fill: #D2E3FC;\n",
              "    }\n",
              "\n",
              "    [theme=dark] .colab-df-convert:hover {\n",
              "      background-color: #434B5C;\n",
              "      box-shadow: 0px 1px 3px 1px rgba(0, 0, 0, 0.15);\n",
              "      filter: drop-shadow(0px 1px 2px rgba(0, 0, 0, 0.3));\n",
              "      fill: #FFFFFF;\n",
              "    }\n",
              "  </style>\n",
              "\n",
              "    <script>\n",
              "      const buttonEl =\n",
              "        document.querySelector('#df-9960b5d9-69b2-4c03-9195-eefb4e5cf078 button.colab-df-convert');\n",
              "      buttonEl.style.display =\n",
              "        google.colab.kernel.accessAllowed ? 'block' : 'none';\n",
              "\n",
              "      async function convertToInteractive(key) {\n",
              "        const element = document.querySelector('#df-9960b5d9-69b2-4c03-9195-eefb4e5cf078');\n",
              "        const dataTable =\n",
              "          await google.colab.kernel.invokeFunction('convertToInteractive',\n",
              "                                                    [key], {});\n",
              "        if (!dataTable) return;\n",
              "\n",
              "        const docLinkHtml = 'Like what you see? Visit the ' +\n",
              "          '<a target=\"_blank\" href=https://colab.research.google.com/notebooks/data_table.ipynb>data table notebook</a>'\n",
              "          + ' to learn more about interactive tables.';\n",
              "        element.innerHTML = '';\n",
              "        dataTable['output_type'] = 'display_data';\n",
              "        await google.colab.output.renderOutput(dataTable, element);\n",
              "        const docLink = document.createElement('div');\n",
              "        docLink.innerHTML = docLinkHtml;\n",
              "        element.appendChild(docLink);\n",
              "      }\n",
              "    </script>\n",
              "  </div>\n",
              "\n",
              "\n",
              "<div id=\"df-24e009c4-ce45-487e-8ac5-493bf89febbe\">\n",
              "  <button class=\"colab-df-quickchart\" onclick=\"quickchart('df-24e009c4-ce45-487e-8ac5-493bf89febbe')\"\n",
              "            title=\"Suggest charts\"\n",
              "            style=\"display:none;\">\n",
              "\n",
              "<svg xmlns=\"http://www.w3.org/2000/svg\" height=\"24px\"viewBox=\"0 0 24 24\"\n",
              "     width=\"24px\">\n",
              "    <g>\n",
              "        <path d=\"M19 3H5c-1.1 0-2 .9-2 2v14c0 1.1.9 2 2 2h14c1.1 0 2-.9 2-2V5c0-1.1-.9-2-2-2zM9 17H7v-7h2v7zm4 0h-2V7h2v10zm4 0h-2v-4h2v4z\"/>\n",
              "    </g>\n",
              "</svg>\n",
              "  </button>\n",
              "\n",
              "<style>\n",
              "  .colab-df-quickchart {\n",
              "      --bg-color: #E8F0FE;\n",
              "      --fill-color: #1967D2;\n",
              "      --hover-bg-color: #E2EBFA;\n",
              "      --hover-fill-color: #174EA6;\n",
              "      --disabled-fill-color: #AAA;\n",
              "      --disabled-bg-color: #DDD;\n",
              "  }\n",
              "\n",
              "  [theme=dark] .colab-df-quickchart {\n",
              "      --bg-color: #3B4455;\n",
              "      --fill-color: #D2E3FC;\n",
              "      --hover-bg-color: #434B5C;\n",
              "      --hover-fill-color: #FFFFFF;\n",
              "      --disabled-bg-color: #3B4455;\n",
              "      --disabled-fill-color: #666;\n",
              "  }\n",
              "\n",
              "  .colab-df-quickchart {\n",
              "    background-color: var(--bg-color);\n",
              "    border: none;\n",
              "    border-radius: 50%;\n",
              "    cursor: pointer;\n",
              "    display: none;\n",
              "    fill: var(--fill-color);\n",
              "    height: 32px;\n",
              "    padding: 0;\n",
              "    width: 32px;\n",
              "  }\n",
              "\n",
              "  .colab-df-quickchart:hover {\n",
              "    background-color: var(--hover-bg-color);\n",
              "    box-shadow: 0 1px 2px rgba(60, 64, 67, 0.3), 0 1px 3px 1px rgba(60, 64, 67, 0.15);\n",
              "    fill: var(--button-hover-fill-color);\n",
              "  }\n",
              "\n",
              "  .colab-df-quickchart-complete:disabled,\n",
              "  .colab-df-quickchart-complete:disabled:hover {\n",
              "    background-color: var(--disabled-bg-color);\n",
              "    fill: var(--disabled-fill-color);\n",
              "    box-shadow: none;\n",
              "  }\n",
              "\n",
              "  .colab-df-spinner {\n",
              "    border: 2px solid var(--fill-color);\n",
              "    border-color: transparent;\n",
              "    border-bottom-color: var(--fill-color);\n",
              "    animation:\n",
              "      spin 1s steps(1) infinite;\n",
              "  }\n",
              "\n",
              "  @keyframes spin {\n",
              "    0% {\n",
              "      border-color: transparent;\n",
              "      border-bottom-color: var(--fill-color);\n",
              "      border-left-color: var(--fill-color);\n",
              "    }\n",
              "    20% {\n",
              "      border-color: transparent;\n",
              "      border-left-color: var(--fill-color);\n",
              "      border-top-color: var(--fill-color);\n",
              "    }\n",
              "    30% {\n",
              "      border-color: transparent;\n",
              "      border-left-color: var(--fill-color);\n",
              "      border-top-color: var(--fill-color);\n",
              "      border-right-color: var(--fill-color);\n",
              "    }\n",
              "    40% {\n",
              "      border-color: transparent;\n",
              "      border-right-color: var(--fill-color);\n",
              "      border-top-color: var(--fill-color);\n",
              "    }\n",
              "    60% {\n",
              "      border-color: transparent;\n",
              "      border-right-color: var(--fill-color);\n",
              "    }\n",
              "    80% {\n",
              "      border-color: transparent;\n",
              "      border-right-color: var(--fill-color);\n",
              "      border-bottom-color: var(--fill-color);\n",
              "    }\n",
              "    90% {\n",
              "      border-color: transparent;\n",
              "      border-bottom-color: var(--fill-color);\n",
              "    }\n",
              "  }\n",
              "</style>\n",
              "\n",
              "  <script>\n",
              "    async function quickchart(key) {\n",
              "      const quickchartButtonEl =\n",
              "        document.querySelector('#' + key + ' button');\n",
              "      quickchartButtonEl.disabled = true;  // To prevent multiple clicks.\n",
              "      quickchartButtonEl.classList.add('colab-df-spinner');\n",
              "      try {\n",
              "        const charts = await google.colab.kernel.invokeFunction(\n",
              "            'suggestCharts', [key], {});\n",
              "      } catch (error) {\n",
              "        console.error('Error during call to suggestCharts:', error);\n",
              "      }\n",
              "      quickchartButtonEl.classList.remove('colab-df-spinner');\n",
              "      quickchartButtonEl.classList.add('colab-df-quickchart-complete');\n",
              "    }\n",
              "    (() => {\n",
              "      let quickchartButtonEl =\n",
              "        document.querySelector('#df-24e009c4-ce45-487e-8ac5-493bf89febbe button');\n",
              "      quickchartButtonEl.style.display =\n",
              "        google.colab.kernel.accessAllowed ? 'block' : 'none';\n",
              "    })();\n",
              "  </script>\n",
              "</div>\n",
              "\n",
              "    </div>\n",
              "  </div>\n"
            ],
            "application/vnd.google.colaboratory.intrinsic+json": {
              "type": "dataframe",
              "summary": "{\n  \"name\": \"data\",\n  \"rows\": 8,\n  \"fields\": [\n    {\n      \"column\": \"year\",\n      \"properties\": {\n        \"dtype\": \"number\",\n        \"std\": 196971.6992455478,\n        \"min\": 3.966863615405886,\n        \"max\": 558837.0,\n        \"num_unique_values\": 8,\n        \"samples\": [\n          2010.038927272174,\n          2012.0,\n          558837.0\n        ],\n        \"semantic_type\": \"\",\n        \"description\": \"\"\n      }\n    },\n    {\n      \"column\": \"condition\",\n      \"properties\": {\n        \"dtype\": \"number\",\n        \"std\": 193389.91339748463,\n        \"min\": 1.0,\n        \"max\": 547017.0,\n        \"num_unique_values\": 8,\n        \"samples\": [\n          30.672364844237016,\n          35.0,\n          547017.0\n        ],\n        \"semantic_type\": \"\",\n        \"description\": \"\"\n      }\n    },\n    {\n      \"column\": \"odometer\",\n      \"properties\": {\n        \"dtype\": \"number\",\n        \"std\": 358673.7110200876,\n        \"min\": 1.0,\n        \"max\": 999999.0,\n        \"num_unique_values\": 8,\n        \"samples\": [\n          68320.01776666554,\n          52254.0,\n          558743.0\n        ],\n        \"semantic_type\": \"\",\n        \"description\": \"\"\n      }\n    },\n    {\n      \"column\": \"mmr\",\n      \"properties\": {\n        \"dtype\": \"number\",\n        \"std\": 194867.66634471779,\n        \"min\": 25.0,\n        \"max\": 558799.0,\n        \"num_unique_values\": 8,\n        \"samples\": [\n          13769.377495306899,\n          12250.0,\n          558799.0\n        ],\n        \"semantic_type\": \"\",\n        \"description\": \"\"\n      }\n    },\n    {\n      \"column\": \"sellingprice\",\n      \"properties\": {\n        \"dtype\": \"number\",\n        \"std\": 198497.46585683292,\n        \"min\": 1.0,\n        \"max\": 558825.0,\n        \"num_unique_values\": 8,\n        \"samples\": [\n          13611.358810003132,\n          12100.0,\n          558825.0\n        ],\n        \"semantic_type\": \"\",\n        \"description\": \"\"\n      }\n    }\n  ]\n}"
            }
          },
          "metadata": {},
          "execution_count": 9
        }
      ]
    },
    {
      "cell_type": "markdown",
      "id": "14f4b9a1-f6c8-4b24-8cdd-4b1e1f4a0a11",
      "metadata": {
        "id": "14f4b9a1-f6c8-4b24-8cdd-4b1e1f4a0a11"
      },
      "source": [
        "## 2. Ventas Totales y Promedio\n",
        "\n",
        "a) Calcula la suma total y el promedio de la columna `sellingprice`.\n",
        "\n",
        "b) Caso de negocio: Si el precio promedio es bajo, ¿qué estrategias de precio o promociones sugerirías para aumentar la rentabilidad? Explica tu respuesta."
      ]
    },
    {
      "cell_type": "code",
      "execution_count": 3,
      "id": "b28e4e50-870b-4dc5-80a9-0ab348c8d45b",
      "metadata": {
        "id": "b28e4e50-870b-4dc5-80a9-0ab348c8d45b",
        "colab": {
          "base_uri": "https://localhost:8080/"
        },
        "outputId": "cd1b69cf-5ba5-4b6d-afb1-14f02797fa26"
      },
      "outputs": [
        {
          "output_type": "stream",
          "name": "stdout",
          "text": [
            "Total Selling Price: 7606367587.0\n",
            "Average Selling Price: 13611.358810003132\n"
          ]
        }
      ],
      "source": [
        "import pandas as pd\n",
        "\n",
        "# Assuming your data is in a pandas DataFrame called 'data'\n",
        "total_selling_price = data['sellingprice'].sum()\n",
        "average_selling_price = data['sellingprice'].mean()\n",
        "\n",
        "print(f\"Total Selling Price: {total_selling_price}\")\n",
        "print(f\"Average Selling Price: {average_selling_price}\")"
      ]
    },
    {
      "cell_type": "markdown",
      "id": "dbeea89a-9e05-4d03-86a4-dbc27f1c96cb",
      "metadata": {
        "id": "dbeea89a-9e05-4d03-86a4-dbc27f1c96cb"
      },
      "source": [
        "## 3. Distribución de Ventas por Marca\n",
        "\n",
        "a) Utiliza `value_counts()` para determinar cuántas ventas se registraron por cada marca (`make`).\n",
        "\n",
        "b) Caso de negocio: ¿Qué marcas parecen dominar el mercado? Basado en esta distribución, ¿en qué marcas invertirías en publicidad y por qué?"
      ]
    },
    {
      "cell_type": "code",
      "execution_count": 14,
      "id": "8f90bb50-9a28-45b0-8a9d-d6bd35f1e847",
      "metadata": {
        "id": "8f90bb50-9a28-45b0-8a9d-d6bd35f1e847",
        "colab": {
          "base_uri": "https://localhost:8080/"
        },
        "outputId": "303f122d-247b-44e2-e831-69a677771cf0"
      },
      "outputs": [
        {
          "output_type": "stream",
          "name": "stdout",
          "text": [
            "make\n",
            "Ford          93554\n",
            "Chevrolet     60197\n",
            "Nissan        53946\n",
            "Toyota        39871\n",
            "Dodge         30710\n",
            "              ...  \n",
            "airstream         1\n",
            "ford tk           1\n",
            "chev truck        1\n",
            "hyundai tk        1\n",
            "Lotus             1\n",
            "Name: count, Length: 96, dtype: int64\n"
          ]
        }
      ],
      "source": [
        "brand_sales_counts = data['make'].value_counts()\n",
        "print(brand_sales_counts)"
      ]
    },
    {
      "cell_type": "markdown",
      "source": [
        "**R=**  Las marcas que parecen dominar el mercado son: Ford, Chevrolet, Nissan, Toyota y Dodge. Invertiría en publicidad en Chevrolet, Nissan o Toyota ya que tienen mayor potencial de que al invertir en publicidad crezcan las ventas y obtenga mayores ganancias."
      ],
      "metadata": {
        "id": "AOdS2cweL1j6"
      },
      "id": "AOdS2cweL1j6"
    },
    {
      "cell_type": "markdown",
      "id": "7ed2d28a-c6f5-4b26-a3f4-50bb6e4b5a20",
      "metadata": {
        "id": "7ed2d28a-c6f5-4b26-a3f4-50bb6e4b5a20"
      },
      "source": [
        "## 4. Segmentación de Clientes por Kilometraje\n",
        "\n",
        "a) Crea un DataFrame filtrado que incluya únicamente las ventas donde el `odometer` es menor a 20,000 millas. Cuantos Vehiculos tiene este dataset?\n",
        "\n",
        "b) Caso de negocio: Este segmento de vehículos con bajo uso puede tener mayor valor percibido. ¿Cómo ajustarías la estrategia de marketing para este grupo?"
      ]
    },
    {
      "cell_type": "code",
      "execution_count": 17,
      "id": "e18ab68c-3ab4-44c8-8a5f-88d3421c8e5d",
      "metadata": {
        "id": "e18ab68c-3ab4-44c8-8a5f-88d3421c8e5d",
        "colab": {
          "base_uri": "https://localhost:8080/"
        },
        "outputId": "3e64294c-1abe-4ef7-97e0-3437e3ea607c"
      },
      "outputs": [
        {
          "output_type": "stream",
          "name": "stdout",
          "text": [
            "El dataset filtrado tiene 84206 vehículos con menos de 20,000 millas.\n"
          ]
        }
      ],
      "source": [
        "# Filter the DataFrame\n",
        "low_mileage_cars = data[data['odometer'] < 20000]\n",
        "\n",
        "# Count the number of vehicles\n",
        "num_low_mileage_cars = low_mileage_cars.shape[0]\n",
        "\n",
        "# Display the result\n",
        "print(f\"El dataset filtrado tiene {num_low_mileage_cars} vehículos con menos de 20,000 millas.\")"
      ]
    },
    {
      "cell_type": "markdown",
      "source": [
        "**R=** Para vehículos de menos de 20.000 millas de kilometraje, la estrategia sería priorizar el bajo kilometraje en la publicidad. Brindar precios exclusivos para quienes compren estos vehículos y extender garantías para estos vehículos."
      ],
      "metadata": {
        "id": "0-mtVD_aM3IJ"
      },
      "id": "0-mtVD_aM3IJ"
    },
    {
      "cell_type": "markdown",
      "id": "1e21fcab-28e8-4af9-a2c1-1b1e2e3ec9e8",
      "metadata": {
        "id": "1e21fcab-28e8-4af9-a2c1-1b1e2e3ec9e8"
      },
      "source": [
        "## 5. Agrupación por Marca: Precio y Volumen\n",
        "\n",
        "a) Agrupa el dataset por `make` y calcula:\n",
        "   - El promedio de `sellingprice`.\n",
        "   - La cantidad de ventas por marca (usa el conteo de registros como proxy).\n",
        "\n",
        "b) Caso de negocio: Si una marca tiene alto volumen pero precios bajos, ¿qué medidas recomendarías para mejorar el margen?\n",
        "\n",
        "**Paso a paso:**\n",
        "1. Realiza la agrupación.\n",
        "2. Renombra las columnas para que sean claras.\n",
        "3. Interpreta el resultado antes de pasar al siguiente filtro o análisis."
      ]
    },
    {
      "cell_type": "code",
      "source": [
        "# Group data by 'make' and calculate average selling price and sales count\n",
        "make_stats = data.groupby('make').agg(\n",
        "    average_selling_price=('sellingprice', 'mean'),\n",
        "    sales_count=('sellingprice', 'count')  # Using count of sellingprice as proxy for sales count\n",
        ")\n",
        "\n",
        "# Display the results\n",
        "print(make_stats)"
      ],
      "metadata": {
        "colab": {
          "base_uri": "https://localhost:8080/"
        },
        "id": "HyPMcwrjNjhI",
        "outputId": "3aa5e821-7418-41eb-c106-ead2d7023a6a"
      },
      "id": "HyPMcwrjNjhI",
      "execution_count": 18,
      "outputs": [
        {
          "output_type": "stream",
          "name": "stdout",
          "text": [
            "              average_selling_price  sales_count\n",
            "make                                            \n",
            "Acura                  14017.268260         5901\n",
            "Aston Martin           54812.000000           25\n",
            "Audi                   19915.432782         5869\n",
            "BMW                    21441.895748        20719\n",
            "Bentley                74367.672414          116\n",
            "...                             ...          ...\n",
            "subaru                  3710.416667           60\n",
            "suzuki                  4810.000000            5\n",
            "toyota                  7339.105263           95\n",
            "volkswagen              6145.833333           24\n",
            "vw                     13672.916667           24\n",
            "\n",
            "[96 rows x 2 columns]\n"
          ]
        }
      ]
    },
    {
      "cell_type": "markdown",
      "source": [
        "**R=** Si hay marcas de vehículos con arto volumen y bajo precio, se debería ajustar primeramente el precio, abría que incrementarlo.\n",
        "\n",
        "También serviría introducir opciones premium que permitan incrementar sus características."
      ],
      "metadata": {
        "id": "tlDvqbTDN3Af"
      },
      "id": "tlDvqbTDN3Af"
    },
    {
      "cell_type": "markdown",
      "id": "8d81b4f8-9f67-4212-a90d-c2e3c9b9cbbd",
      "metadata": {
        "id": "8d81b4f8-9f67-4212-a90d-c2e3c9b9cbbd"
      },
      "source": [
        "## 6. Análisis de Rentabilidad por Marca\n",
        "\n",
        "a) Crea una nueva columna `profit` que sea la diferencia entre `mmr` y `sellingprice`.\n",
        "b) Agrupa por `make` y calcula el beneficio promedio para cada marca.\n",
        "\n",
        "c) Caso de negocio: Identifica las 5 marcas con mayor beneficio promedio y explica qué acciones estratégicas implementarías (por ejemplo, renegociar precios o invertir en calidad)."
      ]
    },
    {
      "cell_type": "code",
      "execution_count": 19,
      "id": "d0ed1b10-2a4f-4f41-9d1a-7a117bb8f87d",
      "metadata": {
        "id": "d0ed1b10-2a4f-4f41-9d1a-7a117bb8f87d",
        "colab": {
          "base_uri": "https://localhost:8080/"
        },
        "outputId": "0acfb1e0-1a95-4ac3-9dee-6360655d6ddf"
      },
      "outputs": [
        {
          "output_type": "stream",
          "name": "stdout",
          "text": [
            "make\n",
            "Acura             59.544992\n",
            "Aston Martin   -1252.000000\n",
            "Audi             164.781053\n",
            "BMW              133.652058\n",
            "Bentley         1560.775862\n",
            "                   ...     \n",
            "subaru           201.250000\n",
            "suzuki            -5.000000\n",
            "toyota            28.526316\n",
            "volkswagen      -161.458333\n",
            "vw               175.000000\n",
            "Name: profit, Length: 96, dtype: float64\n"
          ]
        }
      ],
      "source": [
        "# a) Create a new column 'profit'\n",
        "data['profit'] = data['mmr'] - data['sellingprice']\n",
        "\n",
        "# b) Group by 'make' and calculate average profit\n",
        "profit_by_make = data.groupby('make')['profit'].mean()\n",
        "\n",
        "# Display the results\n",
        "print(profit_by_make)"
      ]
    },
    {
      "cell_type": "code",
      "source": [
        "top_5_brands = profit_by_make.sort_values(ascending=False).head(5)\n",
        "print(top_5_brands)"
      ],
      "metadata": {
        "colab": {
          "base_uri": "https://localhost:8080/"
        },
        "id": "uqvH7AQCPVKQ",
        "outputId": "fb059680-7191-4325-fa5f-09041a772eb9"
      },
      "id": "uqvH7AQCPVKQ",
      "execution_count": 21,
      "outputs": [
        {
          "output_type": "stream",
          "name": "stdout",
          "text": [
            "make\n",
            "Fisker      2638.888889\n",
            "Ferrari     2000.000000\n",
            "Plymouth    1577.500000\n",
            "Bentley     1560.775862\n",
            "porsche     1419.736842\n",
            "Name: profit, dtype: float64\n"
          ]
        }
      ]
    },
    {
      "cell_type": "markdown",
      "source": [
        "**R=**Las 5 marcas con mayor beneficio promedio son Fisker, Ferrari, Plymouth, Bentley y Porsche.\n",
        "\n",
        "Algunas estrategias que se pueden implementar para estas marcas son: La renegociación de precios, inversión en calidad que le permitiría aumentar volumen de ventas, invertir en publicidad y promoción y por último, enfocarse en la experiencia del cliente ya que al tener con excelente atención al cliente, la gente preferirá la marca."
      ],
      "metadata": {
        "id": "TtWgzbunPJLu"
      },
      "id": "TtWgzbunPJLu"
    },
    {
      "cell_type": "markdown",
      "id": "6c2d915d-d08f-4b98-8e25-8ad25a9c817e",
      "metadata": {
        "id": "6c2d915d-d08f-4b98-8e25-8ad25a9c817e"
      },
      "source": [
        "## 7. Análisis Temporal: Ventas del Año 2015\n",
        "\n",
        "a) Filtra el dataset para obtener únicamente las ventas del año 2015 y muestra las primeras 10 filas. Cuantos Vehiculos tiene esta dataset\n",
        "\n",
        "\n",
        "b) Caso de negocio: Si 2015 muestra comportamientos atípicos en comparación con otros años, ¿deberías ajustar la estrategia basándote en tendencias actuales? Explica tu criterio."
      ]
    },
    {
      "cell_type": "code",
      "execution_count": 28,
      "id": "4b5aef0e-42e2-4c10-ae82-7c1f188abdda",
      "metadata": {
        "id": "4b5aef0e-42e2-4c10-ae82-7c1f188abdda"
      },
      "outputs": [],
      "source": [
        "import pandas as pd\n",
        "\n",
        "# Convert 'saledate' to datetime, handling errors\n",
        "data['saledate'] = pd.to_datetime(data['saledate'], errors='coerce')"
      ]
    },
    {
      "cell_type": "code",
      "source": [
        "# Extract the year and assign it to the 'saleyear' column\n",
        "data['saleyear'] = data['saledate'].dt.year"
      ],
      "metadata": {
        "id": "Sp8pfDmfRXrH"
      },
      "id": "Sp8pfDmfRXrH",
      "execution_count": 29,
      "outputs": []
    },
    {
      "cell_type": "code",
      "source": [
        "# Filter for sales in 2015, ignoring invalid dates\n",
        "sales_2015 = data[data['saleyear'] == 2015]"
      ],
      "metadata": {
        "id": "_zHtQh0bRaau"
      },
      "id": "_zHtQh0bRaau",
      "execution_count": 30,
      "outputs": []
    },
    {
      "cell_type": "code",
      "source": [
        "print(sales_2015.head(10))"
      ],
      "metadata": {
        "colab": {
          "base_uri": "https://localhost:8080/"
        },
        "id": "HYZKQuh4RcBZ",
        "outputId": "133abd62-019d-4f2d-efc4-2fbc2aa0927d"
      },
      "id": "HYZKQuh4RcBZ",
      "execution_count": 31,
      "outputs": [
        {
          "output_type": "stream",
          "name": "stdout",
          "text": [
            "    year       make     model                       trim         body  \\\n",
            "2   2014        BMW  3 Series                 328i SULEV        Sedan   \n",
            "3   2015      Volvo       S60                         T5        Sedan   \n",
            "9   2014  Chevrolet    Camaro                         LT  Convertible   \n",
            "12  2015       Ford    Fusion                         SE        Sedan   \n",
            "21  2014        BMW  5 Series                       528i        Sedan   \n",
            "24  2014        BMW  6 Series                       650i  Convertible   \n",
            "26  2015      Volvo      XC70                         T6        Wagon   \n",
            "27  2015      Volvo      XC70                         T6        Wagon   \n",
            "31  2014       Audi       SQ5  3.0T Premium Plus quattro          SUV   \n",
            "35  2014      Buick    Verano          Convenience Group        Sedan   \n",
            "\n",
            "   transmission                vin state  condition  odometer  color interior  \\\n",
            "2     automatic  wba3c1c51ek116351    ca       45.0    1331.0   gray    black   \n",
            "3     automatic  yv1612tb4f1310987    ca       41.0   14282.0  white    black   \n",
            "9     automatic  2g1fb3d37e9218789    ca        3.0    4809.0    red    black   \n",
            "12    automatic  3fa6p0hdxfr145753    ca        2.0    5559.0  white    beige   \n",
            "21    automatic  wba5a5c51ed501631    ca       29.0   25969.0  black    black   \n",
            "24    automatic  wbayp9c57ed169262    ca       38.0   10736.0  black    black   \n",
            "26    automatic  yv4902nb3f1198103    ca       42.0   16506.0  brown    brown   \n",
            "27    automatic  yv4902nb3f1196951    ca       48.0   12725.0  beige    beige   \n",
            "31    automatic  wa1cgafp4ea030312    ca       42.0    9606.0  white    black   \n",
            "35          NaN  1g4pr5sk8e4175320    ca        2.0   19531.0   gray     gray   \n",
            "\n",
            "                                               seller      mmr  sellingprice  \\\n",
            "2              financial services remarketing (lease)  31900.0       30000.0   \n",
            "3                             volvo na rep/world omni  27500.0       27750.0   \n",
            "9                                  d/m auto sales inc  26300.0       17500.0   \n",
            "12  enterprise vehicle exchange / tra / rental / t...  15350.0       12000.0   \n",
            "21             financial services remarketing (lease)  34200.0       30000.0   \n",
            "24                              the hertz corporation  67000.0       65000.0   \n",
            "26                            volvo na rep/world omni  32100.0       32500.0   \n",
            "27                            volvo na rep/world omni  32300.0       32500.0   \n",
            "31                               audi of downtown l a  48600.0       47500.0   \n",
            "35  enterprise vehicle exchange / tra / rental / t...  15000.0        9200.0   \n",
            "\n",
            "                    saledate  profit  saleyear  \n",
            "2  2015-01-15 04:30:00+08:00  1900.0    2015.0  \n",
            "3  2015-01-29 04:30:00+08:00  -250.0    2015.0  \n",
            "9  2015-01-20 04:00:00+08:00  8800.0    2015.0  \n",
            "12 2015-01-13 12:00:00+08:00  3350.0    2015.0  \n",
            "21 2015-02-03 04:30:00+08:00  4200.0    2015.0  \n",
            "24 2015-01-06 12:30:00+08:00  2000.0    2015.0  \n",
            "26 2015-02-26 04:30:00+08:00  -400.0    2015.0  \n",
            "27 2015-02-12 04:30:00+08:00  -200.0    2015.0  \n",
            "31 2015-01-29 04:00:00+08:00  1100.0    2015.0  \n",
            "35 2015-01-06 04:00:00+08:00  5800.0    2015.0  \n"
          ]
        }
      ]
    },
    {
      "cell_type": "code",
      "source": [
        "num_vehicles_2015 = sales_2015.shape[0]\n",
        "print(f\"El dataset filtrado tiene {num_vehicles_2015} vehículos del año 2015.\")"
      ],
      "metadata": {
        "colab": {
          "base_uri": "https://localhost:8080/"
        },
        "id": "ZeyR1-0oReRP",
        "outputId": "7c932b5d-5762-429e-84f2-47e821c54045"
      },
      "id": "ZeyR1-0oReRP",
      "execution_count": 32,
      "outputs": [
        {
          "output_type": "stream",
          "name": "stdout",
          "text": [
            "El dataset filtrado tiene 341762 vehículos del año 2015.\n"
          ]
        }
      ]
    },
    {
      "cell_type": "markdown",
      "source": [
        "**R=** Sí, si el año 2015 tiene muchos datos atípicos, se deberían tener en cuenta entonces datos de años más recientes ya que permitirían tener una percepción más cercana a la realidad más actual. A parte, muchos datos atípicos no servirían para entender lo que realmente pasa en la realidad."
      ],
      "metadata": {
        "id": "JjDONz6aRzR5"
      },
      "id": "JjDONz6aRzR5"
    },
    {
      "cell_type": "markdown",
      "id": "f68a0e0a-1232-4ac2-8d7e-3a8b6a7e2e6f",
      "metadata": {
        "id": "f68a0e0a-1232-4ac2-8d7e-3a8b6a7e2e6f"
      },
      "source": [
        "## 8. Comparación por Tipo de Carrocería\n",
        "\n",
        "a) Agrupa por la columna `body` y calcula el promedio de `sellingprice` para cada tipo.\n",
        "\n",
        "b) Caso de negocio: Determina qué tipo de carrocería tiene mayor precio promedio y argumenta cómo podrías aprovechar esta información para posicionar una línea premium o ajustar el inventario."
      ]
    },
    {
      "cell_type": "code",
      "execution_count": 33,
      "id": "db985be8-c82d-4240-a2f6-3a9a31d7f1aa",
      "metadata": {
        "id": "db985be8-c82d-4240-a2f6-3a9a31d7f1aa",
        "colab": {
          "base_uri": "https://localhost:8080/"
        },
        "outputId": "81a95640-d921-4500-f022-c9d1dbf4681b"
      },
      "outputs": [
        {
          "output_type": "stream",
          "name": "stdout",
          "text": [
            "body\n",
            "Access Cab            13262.500000\n",
            "Beetle Convertible    18070.192308\n",
            "CTS Coupe             22758.527132\n",
            "CTS Wagon             17811.538462\n",
            "CTS-V Coupe           38425.750000\n",
            "                          ...     \n",
            "transit van           22707.142857\n",
            "tsx sport wagon       18118.750000\n",
            "van                   15009.742105\n",
            "wagon                 10551.605442\n",
            "xtracab                5250.000000\n",
            "Name: sellingprice, Length: 87, dtype: float64\n"
          ]
        }
      ],
      "source": [
        "# Group data by 'body' and calculate average selling price\n",
        "body_avg_price = data.groupby('body')['sellingprice'].mean()\n",
        "\n",
        "# Display the results\n",
        "print(body_avg_price)"
      ]
    },
    {
      "cell_type": "markdown",
      "source": [
        "**R=**Esta información de carrocería con mayor precio promedio serviría para análizar y crear estrategias de negocio como la creación de una línea premium con acabados de lujo, ofreciendo versiones especiales con acabados más sofisticados. Ajustar el inventario, en este sentido se buscaría reducir el inventario de las carrocerias con menor precio promedio y aumentar las de mayor precio promedio."
      ],
      "metadata": {
        "id": "inAxQNaJSjM3"
      },
      "id": "inAxQNaJSjM3"
    },
    {
      "cell_type": "markdown",
      "id": "6e4c134a-d5f6-4d3f-b60d-fac69d4a1c31",
      "metadata": {
        "id": "6e4c134a-d5f6-4d3f-b60d-fac69d4a1c31"
      },
      "source": [
        "## 9. Filtros Combinados para un Caso Específico\n",
        "\n",
        "a) **Paso 1:** Agrupa los datos por `state`, `model` y calcula el promedio de `sellingprice` para ver cuál es el precio promedio por combinación.\n",
        "\n",
        "b) **Paso 2:** Utiliza el resultado del agrupamiento para filtrar el dataset original. Por ejemplo, filtra los registros de un estado ('ca') y un modelo ('Sorento') cuyo `sellingprice` supere el precio promedio calculado.\n",
        "\n",
        "c) Caso de negocio: Analiza este segmento y plantea qué acciones implementarías para potenciar las ventas en California, considerando el modelo y el segmento premium."
      ]
    },
    {
      "cell_type": "code",
      "execution_count": 34,
      "id": "0d2c76d5-68bf-42c3-a7cb-4c5a6a1f9d83",
      "metadata": {
        "id": "0d2c76d5-68bf-42c3-a7cb-4c5a6a1f9d83",
        "colab": {
          "base_uri": "https://localhost:8080/"
        },
        "outputId": "3eeb345d-3804-4fb6-aaf3-33ad4f28708b"
      },
      "outputs": [
        {
          "output_type": "stream",
          "name": "stdout",
          "text": [
            "state              model      \n",
            "3vwd17aj0fm227318  Jetta          13700.0\n",
            "3vwd17aj2fm258506  Jetta          13300.0\n",
            "3vwd17aj2fm261566  Jetta          13400.0\n",
            "3vwd17aj2fm285365  Jetta          14050.0\n",
            "3vwd17aj3fm259017  Jetta          14250.0\n",
            "                                   ...   \n",
            "wi                 twn&country      325.0\n",
            "                   windstar         525.0\n",
            "                   wrangler        9300.0\n",
            "                   xB              8200.0\n",
            "                   xD              8850.0\n",
            "Name: sellingprice, Length: 16144, dtype: float64\n"
          ]
        }
      ],
      "source": [
        "# Agrupa los datos por 'state' y 'model' y calcula el precio promedio de venta\n",
        "state_model_avg_price = data.groupby(['state', 'model'])['sellingprice'].mean()\n",
        "\n",
        "# Imprime los resultados\n",
        "print(state_model_avg_price)"
      ]
    },
    {
      "cell_type": "code",
      "source": [
        "# Agrupa los datos por 'state' y 'model' y calcula el precio promedio de venta\n",
        "state_model_avg_price = data.groupby(['state', 'model'])['sellingprice'].mean()\n",
        "\n",
        "# Filtra los registros para California ('ca') y el modelo 'Sorento'\n",
        "filtered_data = data[\n",
        "    (data['state'] == 'ca') &\n",
        "    (data['model'] == 'Sorento') &\n",
        "    (data['sellingprice'] > state_model_avg_price.loc[('ca', 'Sorento')])\n",
        "]\n",
        "\n",
        "# Imprime los resultados\n",
        "print(filtered_data)"
      ],
      "metadata": {
        "colab": {
          "base_uri": "https://localhost:8080/"
        },
        "id": "HQKZ0bPcTcF_",
        "outputId": "8e8e92a9-f151-48c0-d84c-ba86d8bbf36a"
      },
      "id": "HQKZ0bPcTcF_",
      "execution_count": 35,
      "outputs": [
        {
          "output_type": "stream",
          "name": "stdout",
          "text": [
            "        year make    model trim body transmission                vin state  \\\n",
            "0       2015  Kia  Sorento   LX  SUV    automatic  5xyktca69fg566472    ca   \n",
            "1       2015  Kia  Sorento   LX  SUV    automatic  5xyktca69fg561319    ca   \n",
            "13      2015  Kia  Sorento   LX  SUV    automatic  5xyktca66fg561407    ca   \n",
            "32      2015  Kia  Sorento   LX  SUV    automatic  5xyktca60fg565226    ca   \n",
            "34      2015  Kia  Sorento   LX  SUV    automatic  5xyktca68fg559481    ca   \n",
            "...      ...  ...      ...  ...  ...          ...                ...   ...   \n",
            "523501  2012  Kia  Sorento   LX  suv    automatic  5xykt4a2xcg275994    ca   \n",
            "523504  2012  Kia  Sorento   SX  suv    automatic  5xykw4a24cg300606    ca   \n",
            "532270  2014  Kia  Sorento   EX  suv    automatic  5xyku4a77eg525106    ca   \n",
            "532276  2014  Kia  Sorento   LX  suv    automatic  5xykt4a66eg458136    ca   \n",
            "535151  2013  Kia  Sorento   SX  suv    automatic  5xykwda25dg337584    ca   \n",
            "\n",
            "        condition  odometer   color interior  \\\n",
            "0             5.0   16639.0   white    black   \n",
            "1             5.0    9393.0   white    beige   \n",
            "13            5.0   14634.0  silver    black   \n",
            "32            5.0   13757.0     red    black   \n",
            "34           44.0   12862.0    gray    black   \n",
            "...           ...       ...     ...      ...   \n",
            "523501       36.0   32296.0  silver    black   \n",
            "523504       36.0   41758.0    gray     gray   \n",
            "532270        5.0   15983.0    blue    beige   \n",
            "532276       31.0   20919.0    blue   silver   \n",
            "535151       44.0   20905.0   black    black   \n",
            "\n",
            "                                             seller      mmr  sellingprice  \\\n",
            "0                           kia motors america  inc  20500.0       21500.0   \n",
            "1                           kia motors america  inc  20800.0       21500.0   \n",
            "13                          kia motors america  inc  20600.0       21500.0   \n",
            "32                          kia motors america  inc  20600.0       20750.0   \n",
            "34                          kia motors america  inc  20700.0       21000.0   \n",
            "...                                             ...      ...           ...   \n",
            "523501                           kia motors finance  15300.0       16300.0   \n",
            "523504                           kia motors finance  19450.0       19000.0   \n",
            "532270                           kia motors finance  23000.0       24400.0   \n",
            "532276                             crb auto finance  16950.0       16400.0   \n",
            "535151  kia motors america  inc -lemon law buybacks  25000.0       19500.0   \n",
            "\n",
            "                        saledate  profit  saleyear  \n",
            "0      2014-12-16 12:30:00+08:00 -1000.0    2014.0  \n",
            "1      2014-12-16 12:30:00+08:00  -700.0    2014.0  \n",
            "13     2014-12-16 12:30:00+08:00  -900.0    2014.0  \n",
            "32     2014-12-16 12:30:00+08:00  -150.0    2014.0  \n",
            "34     2014-12-16 12:30:00+08:00  -300.0    2014.0  \n",
            "...                          ...     ...       ...  \n",
            "523501                       NaT -1000.0       NaN  \n",
            "523504                       NaT   450.0       NaN  \n",
            "532270                       NaT -1400.0       NaN  \n",
            "532276                       NaT   550.0       NaN  \n",
            "535151                       NaT  5500.0       NaN  \n",
            "\n",
            "[168 rows x 18 columns]\n"
          ]
        }
      ]
    },
    {
      "cell_type": "markdown",
      "source": [
        "**R=** Análisis del Segmento:\n",
        "\n",
        "**Modelo 'Sorento' en California:** Este segmento representa a los compradores de California que están dispuestos a pagar un precio superior al promedio por un Kia Sorento. Esto podría indicar una mayor demanda o un interés particular por este modelo en esa región.\n",
        "\n",
        "**Segmento Premium:** Al tener un precio de venta superior al promedio, este segmento se puede considerar como un segmento premium dentro del mercado de Kia Sorento en California. Los compradores de este segmento podrían estar buscando características, acabados o condiciones específicas que justifiquen el precio más alto.\n",
        "\n",
        "**Acciones para potenciar ventas:**\n",
        "\n",
        "Marketing Dirigido:\n",
        "Crear campañas web con google Ads por ejemplo para llegar a nuestros clientes deseados.\n",
        "\n",
        "Segmentación precisa: Definir un público objetivo específico basado en datos demográficos, intereses y comportamientos de compra para mostrar anuncios relevantes y personalizados.\n",
        "\n",
        "Resaltar las características premium: En las campañas de marketing, destacar las características, acabados y condiciones que hacen que estos Sorento sean considerados premium y justifiquen su precio superior.\n"
      ],
      "metadata": {
        "id": "wWCOwbBrTvSi"
      },
      "id": "wWCOwbBrTvSi"
    },
    {
      "cell_type": "markdown",
      "id": "e6dfbdb1-9d61-4eeb-bfb1-b6c2232a97dd",
      "metadata": {
        "id": "e6dfbdb1-9d61-4eeb-bfb1-b6c2232a97dd"
      },
      "source": [
        "## 10. Ventas Totales por Estado\n",
        "\n",
        "a) Agrupa por `state` y calcula la suma de `sellingprice` para cada estado.\n",
        "\n",
        "b) Caso de negocio: Identifica el estado con mayores ventas totales y discute cómo enfocar campañas de marketing o ampliar la red de distribución en ese estado."
      ]
    },
    {
      "cell_type": "code",
      "execution_count": 36,
      "id": "f04c5e2a-533b-4f3b-b1d9-2c06f8c1382a",
      "metadata": {
        "id": "f04c5e2a-533b-4f3b-b1d9-2c06f8c1382a",
        "colab": {
          "base_uri": "https://localhost:8080/"
        },
        "outputId": "bdf03c0e-66b9-4e56-b04a-fcd41b6db1f0"
      },
      "outputs": [
        {
          "output_type": "stream",
          "name": "stdout",
          "text": [
            "state\n",
            "3vwd17aj0fm227318        13700.0\n",
            "3vwd17aj2fm258506        13300.0\n",
            "3vwd17aj2fm261566        13400.0\n",
            "3vwd17aj2fm285365        14050.0\n",
            "3vwd17aj3fm259017        14250.0\n",
            "                        ...     \n",
            "tx                   606495361.0\n",
            "ut                    22152489.0\n",
            "va                   103111220.0\n",
            "wa                   103419009.0\n",
            "wi                   137948766.0\n",
            "Name: sellingprice, Length: 64, dtype: float64\n"
          ]
        }
      ],
      "source": [
        "# Agrupa por 'state' y calcula la suma de 'sellingprice'\n",
        "state_total_sales = data.groupby('state')['sellingprice'].sum()\n",
        "\n",
        "# Imprime los resultados\n",
        "print(state_total_sales)"
      ]
    },
    {
      "cell_type": "code",
      "source": [
        "# Agrupa por 'state' y calcula la suma de 'sellingprice'\n",
        "state_total_sales = data.groupby('state')['sellingprice'].sum()\n",
        "\n",
        "# Encuentra el estado con las mayores ventas totales\n",
        "highest_sales_state = state_total_sales.idxmax()\n",
        "\n",
        "# Imprime el resultado\n",
        "print(f\"El estado con mayores ventas totales es: {highest_sales_state}\")"
      ],
      "metadata": {
        "colab": {
          "base_uri": "https://localhost:8080/"
        },
        "id": "jMGUi2yhUvOf",
        "outputId": "3bf9fd6d-7b63-47fd-825a-d7644c9ab82c"
      },
      "id": "jMGUi2yhUvOf",
      "execution_count": 37,
      "outputs": [
        {
          "output_type": "stream",
          "name": "stdout",
          "text": [
            "El estado con mayores ventas totales es: fl\n"
          ]
        }
      ]
    },
    {
      "cell_type": "markdown",
      "source": [
        "**R=** Estrategias de negocio para Florida que es el mayor estado con ventas totales serían: El incremento de la inversión en publicidad para incrementar ventas, realización de una segmentación geográfica para enviar la publicidad a áreas específicas dentro del estado con mayor potencial de crecimiento y la realización de eventos especiales para aumentar la visibilidad de la marca."
      ],
      "metadata": {
        "id": "YmlkbYYzU5va"
      },
      "id": "YmlkbYYzU5va"
    },
    {
      "cell_type": "markdown",
      "id": "bafb8ee8-59e9-49ea-a3d3-51660d1cf33d",
      "metadata": {
        "id": "bafb8ee8-59e9-49ea-a3d3-51660d1cf33d"
      },
      "source": [
        "## 11. Rentabilidad por Estado\n",
        "\n",
        "a) Agrupa por `state` y calcula el promedio de eficiencia operativa. Como no contamos con 'Operating Margin', usa como proxy `profit/sellingprice`.\n",
        "\n",
        "b) Caso de negocio: Identifica el estado con mayor eficiencia operativa y sugiere estrategias para replicar ese éxito en otros mercados."
      ]
    },
    {
      "cell_type": "code",
      "execution_count": 38,
      "id": "89e5d45b-cba7-47e3-83a1-50c15299d6a5",
      "metadata": {
        "id": "89e5d45b-cba7-47e3-83a1-50c15299d6a5",
        "colab": {
          "base_uri": "https://localhost:8080/"
        },
        "outputId": "85df18b4-6a4f-4029-cd24-b824e8767a81"
      },
      "outputs": [
        {
          "output_type": "stream",
          "name": "stdout",
          "text": [
            "state\n",
            "3vwd17aj0fm227318         NaN\n",
            "3vwd17aj2fm258506         NaN\n",
            "3vwd17aj2fm261566         NaN\n",
            "3vwd17aj2fm285365         NaN\n",
            "3vwd17aj3fm259017         NaN\n",
            "                       ...   \n",
            "tx                   0.565770\n",
            "ut                   0.284350\n",
            "va                   0.202064\n",
            "wa                   0.042004\n",
            "wi                   0.150673\n",
            "Name: operating_efficiency, Length: 64, dtype: float64\n"
          ]
        }
      ],
      "source": [
        "# Calcula la eficiencia operativa (profit/sellingprice)\n",
        "data['operating_efficiency'] = data['profit'] / data['sellingprice']\n",
        "\n",
        "# Agrupa por 'state' y calcula el promedio de eficiencia operativa\n",
        "state_avg_efficiency = data.groupby('state')['operating_efficiency'].mean()\n",
        "\n",
        "# Imprime los resultados\n",
        "print(state_avg_efficiency)"
      ]
    },
    {
      "cell_type": "code",
      "source": [
        "# ... (código para calcular state_avg_efficiency) ...\n",
        "\n",
        "# Encuentra el estado con la mayor eficiencia operativa\n",
        "highest_efficiency_state = state_avg_efficiency.idxmax()\n",
        "\n",
        "# Imprime el resultado\n",
        "print(f\"El estado con mayor eficiencia operativa es: {highest_efficiency_state}\")\n"
      ],
      "metadata": {
        "colab": {
          "base_uri": "https://localhost:8080/"
        },
        "id": "k6CO5i-JVuUU",
        "outputId": "b3cc82ff-e07b-4899-d1e6-c2badc2e779c"
      },
      "id": "k6CO5i-JVuUU",
      "execution_count": 39,
      "outputs": [
        {
          "output_type": "stream",
          "name": "stdout",
          "text": [
            "El estado con mayor eficiencia operativa es: nm\n"
          ]
        }
      ]
    },
    {
      "cell_type": "markdown",
      "source": [
        "**R=** El mayor estado con eficiencia operativa es Nuevo México. Para replicar este éxito en otros estados se debe analizar el cómo se fijan los precios, cómo gestionan el inventario e identificar cuáles son sus principales costos operativos. Una vez identificada esta información se debe adaptar a la realidad de los otros estados para tener buenos resultados."
      ],
      "metadata": {
        "id": "oocklO79V3c9"
      },
      "id": "oocklO79V3c9"
    },
    {
      "cell_type": "markdown",
      "id": "9770e7da-c5d8-4116-9455-95d55b3a4c86",
      "metadata": {
        "id": "9770e7da-c5d8-4116-9455-95d55b3a4c86"
      },
      "source": [
        "## 12. Análisis por Tipo de Transmisión (en lugar de Sales Method)\n",
        "\n",
        "a) Agrupa el dataset por `transmission` y calcula:\n",
        "   - La suma de `sellingprice` para cada tipo.\n",
        "   - El promedio de `sellingprice` para cada tipo.\n",
        "\n",
        "b) Caso de negocio: ¿Qué tipo de transmisión (automática vs. manual) genera mayores ingresos y qué implicaciones tiene para la estrategia comercial?"
      ]
    },
    {
      "cell_type": "code",
      "execution_count": 40,
      "id": "d7c64fd6-4f97-4d80-9ddf-b3b6123b1262",
      "metadata": {
        "id": "d7c64fd6-4f97-4d80-9ddf-b3b6123b1262",
        "colab": {
          "base_uri": "https://localhost:8080/"
        },
        "outputId": "7b7b18b7-1068-4431-cb7e-dbf86e0bb9e5"
      },
      "outputs": [
        {
          "output_type": "stream",
          "name": "stdout",
          "text": [
            "              total_selling_price  average_selling_price\n",
            "transmission                                            \n",
            "Sedan                1.505500e+05           13686.363636\n",
            "automatic            6.443934e+09           13540.406866\n",
            "manual               1.966936e+08           11211.448358\n",
            "sedan                2.047500e+05           13650.000000\n"
          ]
        }
      ],
      "source": [
        "# Agrupa por 'transmission' y calcula la suma y el promedio de 'sellingprice'\n",
        "transmission_stats = data.groupby('transmission').agg(\n",
        "    total_selling_price=('sellingprice', 'sum'),\n",
        "    average_selling_price=('sellingprice', 'mean')\n",
        ")\n",
        "\n",
        "# Imprime los resultados\n",
        "print(transmission_stats)"
      ]
    },
    {
      "cell_type": "markdown",
      "source": [
        "**R=** Como vemos, la transmisión automática genera mayores ventas totales y mayor promedio de venta en comparación con la manual.\n",
        " Por tanto, se debe priorizar la adquisición y venta de vehículos con transmisión automática, destacar las ventajas de la transmisión automática en el marketing y por último, ofrecer incentivos para la compra de vehículos con transmisión automática"
      ],
      "metadata": {
        "id": "Llj_WWG_XAyO"
      },
      "id": "Llj_WWG_XAyO"
    },
    {
      "cell_type": "markdown",
      "id": "2c03091a-8e2a-4c6b-a45e-f56b7cfbe8e3",
      "metadata": {
        "id": "2c03091a-8e2a-4c6b-a45e-f56b7cfbe8e3"
      },
      "source": [
        "## 13. Segmentación por Producto Líder\n",
        "\n",
        "a) Identifica el producto (utiliza la columna `model` como proxy) con mayor cantidad de unidades vendidas. Agrupa por `model` y usa el conteo de registros.\n",
        "\n",
        "b) Caso de negocio: Si un producto lidera en ventas, ¿cómo ajustarías el inventario y las promociones para maximizar las ganancias?"
      ]
    },
    {
      "cell_type": "code",
      "execution_count": 41,
      "id": "d7d9e6c6-c0cf-471d-b66f-1a985c95a9a2",
      "metadata": {
        "id": "d7d9e6c6-c0cf-471d-b66f-1a985c95a9a2",
        "colab": {
          "base_uri": "https://localhost:8080/"
        },
        "outputId": "fdd39ba8-d5e3-41ac-8711-daf0894b589f"
      },
      "outputs": [
        {
          "output_type": "stream",
          "name": "stdout",
          "text": [
            "El modelo con mayor cantidad de unidades vendidas es: Altima\n"
          ]
        }
      ],
      "source": [
        "# Agrupa por 'model' y calcula el conteo de registros\n",
        "model_sales_counts = data.groupby('model')['model'].count()\n",
        "\n",
        "# Encuentra el modelo con la mayor cantidad de ventas\n",
        "best_selling_model = model_sales_counts.idxmax()\n",
        "\n",
        "# Imprime el resultado\n",
        "print(f\"El modelo con mayor cantidad de unidades vendidas es: {best_selling_model}\")"
      ]
    },
    {
      "cell_type": "markdown",
      "source": [
        "**R=** Si un producto lidera ventas, se debería ajustar el inventario de tal manera que:\n",
        "\n",
        "\n",
        "1.   Aumente el stock del producto líder\n",
        "2.   Optimice la ubicación del producto\n",
        "3.   Monitoree la demanda\n",
        "4.   Diversifique el inventario\n",
        "\n",
        "y las promociones para maximizar las ganancias:\n",
        "\n",
        "\n",
        "\n",
        "1.   Reducir las promociones del producto líder\n",
        "2.   Utilizar promociones estratégicas\n",
        "3.   Personalizar las promociones\n",
        "4.   Promover el producto líder en canales de alto impacto\n",
        "\n",
        "\n",
        "\n",
        "\n",
        "\n",
        "\n",
        "\n",
        "\n",
        "\n",
        "\n",
        "\n",
        "\n"
      ],
      "metadata": {
        "id": "B7Lp9UgLXvXL"
      },
      "id": "B7Lp9UgLXvXL"
    },
    {
      "cell_type": "markdown",
      "id": "f324c265-20d1-4fd2-9f76-0ac035965d88",
      "metadata": {
        "id": "f324c265-20d1-4fd2-9f76-0ac035965d88"
      },
      "source": [
        "## 14. Comparación Crítica entre Retailers\n",
        "\n",
        "a) Compara dos retailers usando la columna `seller` en cuanto a volumen de ventas y margen de beneficio (usa `profit` como proxy).\n",
        "\n",
        "b) Caso de negocio: Si un retailer muestra mayores unidades vendidas pero un margen inferior, ¿qué estrategia recomendarías (por ejemplo, optimización de costos, cambio en política de descuentos, etc.)? Justifica tu propuesta.\n",
        "\n",
        "**Paso a paso:**\n",
        "1. Agrupa por `seller` y calcula la suma de `sellingprice` y el promedio de `profit`.\n",
        "2. Ordena los resultados para identificar los líderes en volumen y analiza el margen.\n",
        "3. Propón una estrategia basada en los resultados."
      ]
    },
    {
      "cell_type": "code",
      "execution_count": 42,
      "id": "a4cc0a90-4d9b-4e5d-9093-d8ef0a81f69a",
      "metadata": {
        "id": "a4cc0a90-4d9b-4e5d-9093-d8ef0a81f69a",
        "colab": {
          "base_uri": "https://localhost:8080/"
        },
        "outputId": "9504fd46-f10c-4b09-f3cf-a274a916f844"
      },
      "outputs": [
        {
          "output_type": "stream",
          "name": "stdout",
          "text": [
            "                          total_sales  average_profit\n",
            "seller                                               \n",
            "1 cochran of monroeville    1594050.0       13.293651\n",
            "1 for all auto sales           5600.0     -950.000000\n",
            "101motors                      3750.0       50.000000\n",
            "1360250 alberta ltd           24000.0    -6050.000000\n",
            "1360250 alberta ltd.           3000.0     2750.000000\n",
            "...                               ...             ...\n",
            "zonemotors.com inc             5900.0      300.000000\n",
            "zoom auto                      8000.0     -225.000000\n",
            "zuma autoboat                 10000.0    -1325.000000\n",
            "zumbrota ford sales llc       13800.0     2450.000000\n",
            "zygi auto corp                 7750.0     5050.000000\n",
            "\n",
            "[14263 rows x 2 columns]\n"
          ]
        }
      ],
      "source": [
        "retailer_stats = data.groupby('seller').agg(\n",
        "    total_sales=('sellingprice', 'sum'),\n",
        "    average_profit=('profit', 'mean')\n",
        ")\n",
        "\n",
        "print(retailer_stats)"
      ]
    },
    {
      "cell_type": "code",
      "source": [
        "# Sort by total sales in descending order\n",
        "retailer_stats_sorted = retailer_stats.sort_values(by=['total_sales'], ascending=False)\n",
        "\n",
        "print(retailer_stats_sorted)"
      ],
      "metadata": {
        "colab": {
          "base_uri": "https://localhost:8080/"
        },
        "id": "Ekl_7bOmY8Hq",
        "outputId": "bc6d5a70-770d-4f29-8bac-db18458663d1"
      },
      "id": "Ekl_7bOmY8Hq",
      "execution_count": 43,
      "outputs": [
        {
          "output_type": "stream",
          "name": "stdout",
          "text": [
            "                                  total_sales  average_profit\n",
            "seller                                                       \n",
            "ford motor credit company llc     340960125.0      216.393122\n",
            "nissan-infiniti lt                272104560.0      -70.225969\n",
            "the hertz corporation             250863168.0      189.344063\n",
            "nissan infiniti lt                216158321.0       92.654989\n",
            "avis corporation                  203432330.0      -20.590510\n",
            "...                                       ...             ...\n",
            "bell auto sales                         200.0      250.000000\n",
            "alberta truck & auto liquidators        200.0      150.000000\n",
            "beaverton honda                         200.0     1100.000000\n",
            "bcaa/company cars                       200.0      600.000000\n",
            "kfl llc                                   0.0             NaN\n",
            "\n",
            "[14263 rows x 2 columns]\n"
          ]
        }
      ]
    },
    {
      "cell_type": "code",
      "source": [
        "# Get the stats for the top two retailers\n",
        "top_retailers = retailer_stats_sorted.head(2)\n",
        "\n",
        "print(top_retailers)"
      ],
      "metadata": {
        "colab": {
          "base_uri": "https://localhost:8080/"
        },
        "id": "udguqxjYZBKn",
        "outputId": "bf2ec7b6-6556-4483-f6f4-af8b13fe9842"
      },
      "id": "udguqxjYZBKn",
      "execution_count": 44,
      "outputs": [
        {
          "output_type": "stream",
          "name": "stdout",
          "text": [
            "                               total_sales  average_profit\n",
            "seller                                                    \n",
            "ford motor credit company llc  340960125.0      216.393122\n",
            "nissan-infiniti lt             272104560.0      -70.225969\n"
          ]
        }
      ]
    },
    {
      "cell_type": "markdown",
      "source": [
        "**R=**Si un retailer muestra mayores unidades vendidas pero un margen inferior, las estrategias que recomendaría serían:\n",
        "\n",
        "\n",
        "1.   Optimización de costos.\n",
        "2.   Revisión de políticas de descuentos.\n",
        "3.   Mezcla de optimización de productos, teniendo en cuenta qué es lo que más vende para gestionar su inventario.\n",
        "\n"
      ],
      "metadata": {
        "id": "MQ8gda3IZWb8"
      },
      "id": "MQ8gda3IZWb8"
    },
    {
      "cell_type": "markdown",
      "id": "da48e289-6b61-48c8-9b7a-cfc8b52c2f6d",
      "metadata": {
        "id": "da48e289-6b61-48c8-9b7a-cfc8b52c2f6d"
      },
      "source": [
        "## 15. Caso Integrador: Estrategia Comercial Global\n",
        "\n",
        "a) **Paso 1:** Identifica cada criterio basado en los análisis anteriores:\n",
        "   - **Retailer con mayores ventas totales:** Usa la columna `seller` del resumen de retailers.\n",
        "   - **Estado con mayores ventas totales:** Del agrupamiento por `state`.\n",
        "   - **Producto con mayor unidades vendidas:** Usa la columna `model`.\n",
        "   - **Tipo de transmisión con mayores ventas totales:** Agrupa por `transmission`.\n",
        "\n",
        "b) **Paso 2:** Filtra el dataset original usando cada uno de estos criterios, uno a uno, y luego combínalos en un filtro final.\n",
        "\n",
        "c) Con base en el análisis combinado, redacta un breve informe (3-4 líneas) proponiendo una estrategia comercial integral para maximizar la rentabilidad, considerando inversión en canales, promociones específicas y optimización de inventario.\n",
        "\n",
        "d) Caso de negocio: Utiliza la integración de estos criterios para definir en qué segmento enfocar la estrategia global."
      ]
    },
    {
      "cell_type": "code",
      "execution_count": 45,
      "id": "b5a2a7aa-1e4d-45bb-9a9e-0f2a7a44e0d3",
      "metadata": {
        "id": "b5a2a7aa-1e4d-45bb-9a9e-0f2a7a44e0d3",
        "colab": {
          "base_uri": "https://localhost:8080/"
        },
        "outputId": "265cd714-52ad-4bf4-d459-9d0dac612142"
      },
      "outputs": [
        {
          "output_type": "stream",
          "name": "stdout",
          "text": [
            "El retailer con mayores ventas totales es: ford motor credit company llc\n"
          ]
        }
      ],
      "source": [
        "# ... (código previo para calcular retailer_stats) ...\n",
        "\n",
        "# Ordenar por ventas totales en orden descendente\n",
        "retailer_stats_sorted = retailer_stats.sort_values(by=['total_sales'], ascending=False)\n",
        "\n",
        "# Obtener el retailer con mayores ventas totales\n",
        "top_retailer = retailer_stats_sorted.index[0]\n",
        "\n",
        "print(f\"El retailer con mayores ventas totales es: {top_retailer}\")"
      ]
    },
    {
      "cell_type": "code",
      "source": [
        "# ... (código previo para calcular state_total_sales) ...\n",
        "\n",
        "# Encontrar el estado con las mayores ventas totales\n",
        "highest_sales_state = state_total_sales.idxmax()\n",
        "\n",
        "print(f\"El estado con mayores ventas totales es: {highest_sales_state}\")"
      ],
      "metadata": {
        "colab": {
          "base_uri": "https://localhost:8080/"
        },
        "id": "IvGbh_PdaGpG",
        "outputId": "f9353cf7-c8dd-4bb7-c799-008d3d558e3b"
      },
      "id": "IvGbh_PdaGpG",
      "execution_count": 46,
      "outputs": [
        {
          "output_type": "stream",
          "name": "stdout",
          "text": [
            "El estado con mayores ventas totales es: fl\n"
          ]
        }
      ]
    },
    {
      "cell_type": "code",
      "source": [
        "# ... (código previo para calcular model_sales_counts) ...\n",
        "\n",
        "# Encontrar el modelo con la mayor cantidad de ventas\n",
        "best_selling_model = model_sales_counts.idxmax()\n",
        "\n",
        "print(f\"El producto con mayor unidades vendidas es: {best_selling_model}\")"
      ],
      "metadata": {
        "colab": {
          "base_uri": "https://localhost:8080/"
        },
        "id": "EQcPv8WkaJjg",
        "outputId": "2c634a7c-3a8c-4913-cffc-4b45b431a7fc"
      },
      "id": "EQcPv8WkaJjg",
      "execution_count": 47,
      "outputs": [
        {
          "output_type": "stream",
          "name": "stdout",
          "text": [
            "El producto con mayor unidades vendidas es: Altima\n"
          ]
        }
      ]
    },
    {
      "cell_type": "code",
      "source": [
        "# Agrupa por 'transmission' y calcula la suma de 'sellingprice'\n",
        "transmission_total_sales = data.groupby('transmission')['sellingprice'].sum()\n",
        "\n",
        "# Encuentra la transmisión con las mayores ventas totales\n",
        "highest_sales_transmission = transmission_total_sales.idxmax()\n",
        "\n",
        "print(f\"El tipo de transmisión con mayores ventas totales es: {highest_sales_transmission}\")"
      ],
      "metadata": {
        "colab": {
          "base_uri": "https://localhost:8080/"
        },
        "id": "YdYQGLJeaMI7",
        "outputId": "098fd97e-e23a-4536-90cd-ecc8375e0d29"
      },
      "id": "YdYQGLJeaMI7",
      "execution_count": 48,
      "outputs": [
        {
          "output_type": "stream",
          "name": "stdout",
          "text": [
            "El tipo de transmisión con mayores ventas totales es: automatic\n"
          ]
        }
      ]
    },
    {
      "cell_type": "code",
      "source": [
        "# Filtro por retailer\n",
        "filtered_by_retailer = data[data['seller'] == top_retailer]\n",
        "\n",
        "# Filtro por estado\n",
        "filtered_by_state = data[data['state'] == highest_sales_state]\n",
        "\n",
        "# Filtro por producto (modelo)\n",
        "filtered_by_model = data[data['model'] == best_selling_model]\n",
        "\n",
        "# Filtro por tipo de transmisión\n",
        "filtered_by_transmission = data[data['transmission'] == highest_sales_transmission]"
      ],
      "metadata": {
        "id": "UEt1tbk1aVOI"
      },
      "id": "UEt1tbk1aVOI",
      "execution_count": 49,
      "outputs": []
    },
    {
      "cell_type": "code",
      "source": [
        "# Combinar los filtros usando operadores lógicos\n",
        "final_filtered_data = data[\n",
        "    (data['seller'] == top_retailer) &\n",
        "    (data['state'] == highest_sales_state) &\n",
        "    (data['model'] == best_selling_model) &\n",
        "    (data['transmission'] == highest_sales_transmission)\n",
        "]"
      ],
      "metadata": {
        "id": "bKHLU_8aaZlK"
      },
      "id": "bKHLU_8aaZlK",
      "execution_count": 50,
      "outputs": []
    },
    {
      "cell_type": "markdown",
      "source": [
        "**C)** **R=**\n",
        "Para maximizar la rentabilidad, se recomienda:\n",
        "**Inversión en canales:** Concentrar la inversión en marketing y distribución en el estado de Florida.\n",
        "**Promociones específicas:** Impulsar la venta del modelo Altima (con transmisión automática).\n",
        "**Optimización de inventario:** Asegurar un stock adecuado de Altima con transmisión automática en Florida, gestionado por el retailer líder, para satisfacer la demanda y minimizar costos de inventario."
      ],
      "metadata": {
        "id": "fEu6n_fXbAoK"
      },
      "id": "fEu6n_fXbAoK"
    },
    {
      "cell_type": "markdown",
      "source": [
        "**d) R=**\n",
        "**Segmento objetivo:**\n",
        "\n",
        "La estrategia global debe centrarse principalmente en el segmento representado por el modelo Altima con transmisión automática, vendido en Florida por el minorista líder (el minorista con mayores ingresos totales)."
      ],
      "metadata": {
        "id": "d-fD7BjUbnw6"
      },
      "id": "d-fD7BjUbnw6"
    }
  ],
  "metadata": {
    "kernelspec": {
      "display_name": "Python 3",
      "language": "python",
      "name": "python3"
    },
    "language_info": {
      "name": "python",
      "version": "3.x"
    },
    "colab": {
      "provenance": []
    }
  },
  "nbformat": 4,
  "nbformat_minor": 5
}