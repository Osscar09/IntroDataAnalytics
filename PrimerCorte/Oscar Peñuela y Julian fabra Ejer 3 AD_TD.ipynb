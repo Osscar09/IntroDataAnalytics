{
  "nbformat": 4,
  "nbformat_minor": 0,
  "metadata": {
    "colab": {
      "provenance": []
    },
    "kernelspec": {
      "name": "python3",
      "display_name": "Python 3"
    },
    "language_info": {
      "name": "python"
    }
  },
  "cells": [
    {
      "cell_type": "markdown",
      "source": [
        "**Objetivos**\n",
        "1. Construcción de un modelo de regresión lineal\n",
        "\n",
        " Calcular los parámetros del modelo y analizar su significado.\n",
        "Estimación de ventas\n",
        "\n",
        "2. Determinar la cantidad de ventas proyectadas si la inversión asciende a 7 millones de euros.\n",
        "Validación del modelo\n",
        "\n",
        "3. Evaluar la precisión del modelo utilizando la Suma de Cuadrados del Error (SCE) y el coeficiente de determinación.\n",
        "Análisis e interpretación\n",
        "\n",
        "4. Explicar y justificar los resultados obtenidos en cada etapa del análisis."
      ],
      "metadata": {
        "id": "gcVuemh32xX_"
      }
    },
    {
      "cell_type": "code",
      "execution_count": 1,
      "metadata": {
        "colab": {
          "base_uri": "https://localhost:8080/"
        },
        "id": "JX3MdbOJ2OyL",
        "outputId": "aa169fc9-2c7c-491d-ec2c-73c34f36ae91"
      },
      "outputs": [
        {
          "output_type": "stream",
          "name": "stderr",
          "text": [
            "<ipython-input-1-d328ecb99472>:4: DeprecationWarning: Please import `pearsonr` from the `scipy.stats` namespace; the `scipy.stats.stats` namespace is deprecated and will be removed in SciPy 2.0.0.\n",
            "  from scipy.stats.stats import pearsonr\n"
          ]
        }
      ],
      "source": [
        "import pandas as pd\n",
        "import numpy as np\n",
        "import matplotlib.pyplot as plt\n",
        "from scipy.stats.stats import pearsonr\n",
        "import statsmodels.api as sm\n",
        "import seaborn as sns\n",
        "import math\n",
        "import pandas.testing as tm\n",
        "%matplotlib inline"
      ]
    },
    {
      "cell_type": "code",
      "source": [
        "url = 'https://raw.githubusercontent.com/md-lorente/data/master/datos_ventas.csv'\n",
        "df = pd.read_csv(url, sep=';', decimal=',')"
      ],
      "metadata": {
        "id": "aVKWCy7Y2Wz3"
      },
      "execution_count": 8,
      "outputs": []
    },
    {
      "cell_type": "code",
      "source": [
        "df.head(10)"
      ],
      "metadata": {
        "colab": {
          "base_uri": "https://localhost:8080/",
          "height": 363
        },
        "id": "_R6TMr1H3kRu",
        "outputId": "608d1d49-5a83-4b46-d693-0a23ba5ae722"
      },
      "execution_count": 9,
      "outputs": [
        {
          "output_type": "execute_result",
          "data": {
            "text/plain": [
              "   Fecha_anual  Inversion  Ventas\n",
              "0         1980        1.0    4.61\n",
              "1         1981        1.5    5.18\n",
              "2         1982        2.0    5.09\n",
              "3         1983        2.5    5.44\n",
              "4         1984        3.0    0.62\n",
              "5         1985        3.5    6.39\n",
              "6         1986        4.0    0.64\n",
              "7         1987        4.5    7.04\n",
              "8         1988        5.0    7.13\n",
              "9         1989        5.5    7.48"
            ],
            "text/html": [
              "\n",
              "  <div id=\"df-ac49587f-f733-4db6-950c-375fa15e69bb\" class=\"colab-df-container\">\n",
              "    <div>\n",
              "<style scoped>\n",
              "    .dataframe tbody tr th:only-of-type {\n",
              "        vertical-align: middle;\n",
              "    }\n",
              "\n",
              "    .dataframe tbody tr th {\n",
              "        vertical-align: top;\n",
              "    }\n",
              "\n",
              "    .dataframe thead th {\n",
              "        text-align: right;\n",
              "    }\n",
              "</style>\n",
              "<table border=\"1\" class=\"dataframe\">\n",
              "  <thead>\n",
              "    <tr style=\"text-align: right;\">\n",
              "      <th></th>\n",
              "      <th>Fecha_anual</th>\n",
              "      <th>Inversion</th>\n",
              "      <th>Ventas</th>\n",
              "    </tr>\n",
              "  </thead>\n",
              "  <tbody>\n",
              "    <tr>\n",
              "      <th>0</th>\n",
              "      <td>1980</td>\n",
              "      <td>1.0</td>\n",
              "      <td>4.61</td>\n",
              "    </tr>\n",
              "    <tr>\n",
              "      <th>1</th>\n",
              "      <td>1981</td>\n",
              "      <td>1.5</td>\n",
              "      <td>5.18</td>\n",
              "    </tr>\n",
              "    <tr>\n",
              "      <th>2</th>\n",
              "      <td>1982</td>\n",
              "      <td>2.0</td>\n",
              "      <td>5.09</td>\n",
              "    </tr>\n",
              "    <tr>\n",
              "      <th>3</th>\n",
              "      <td>1983</td>\n",
              "      <td>2.5</td>\n",
              "      <td>5.44</td>\n",
              "    </tr>\n",
              "    <tr>\n",
              "      <th>4</th>\n",
              "      <td>1984</td>\n",
              "      <td>3.0</td>\n",
              "      <td>0.62</td>\n",
              "    </tr>\n",
              "    <tr>\n",
              "      <th>5</th>\n",
              "      <td>1985</td>\n",
              "      <td>3.5</td>\n",
              "      <td>6.39</td>\n",
              "    </tr>\n",
              "    <tr>\n",
              "      <th>6</th>\n",
              "      <td>1986</td>\n",
              "      <td>4.0</td>\n",
              "      <td>0.64</td>\n",
              "    </tr>\n",
              "    <tr>\n",
              "      <th>7</th>\n",
              "      <td>1987</td>\n",
              "      <td>4.5</td>\n",
              "      <td>7.04</td>\n",
              "    </tr>\n",
              "    <tr>\n",
              "      <th>8</th>\n",
              "      <td>1988</td>\n",
              "      <td>5.0</td>\n",
              "      <td>7.13</td>\n",
              "    </tr>\n",
              "    <tr>\n",
              "      <th>9</th>\n",
              "      <td>1989</td>\n",
              "      <td>5.5</td>\n",
              "      <td>7.48</td>\n",
              "    </tr>\n",
              "  </tbody>\n",
              "</table>\n",
              "</div>\n",
              "    <div class=\"colab-df-buttons\">\n",
              "\n",
              "  <div class=\"colab-df-container\">\n",
              "    <button class=\"colab-df-convert\" onclick=\"convertToInteractive('df-ac49587f-f733-4db6-950c-375fa15e69bb')\"\n",
              "            title=\"Convert this dataframe to an interactive table.\"\n",
              "            style=\"display:none;\">\n",
              "\n",
              "  <svg xmlns=\"http://www.w3.org/2000/svg\" height=\"24px\" viewBox=\"0 -960 960 960\">\n",
              "    <path d=\"M120-120v-720h720v720H120Zm60-500h600v-160H180v160Zm220 220h160v-160H400v160Zm0 220h160v-160H400v160ZM180-400h160v-160H180v160Zm440 0h160v-160H620v160ZM180-180h160v-160H180v160Zm440 0h160v-160H620v160Z\"/>\n",
              "  </svg>\n",
              "    </button>\n",
              "\n",
              "  <style>\n",
              "    .colab-df-container {\n",
              "      display:flex;\n",
              "      gap: 12px;\n",
              "    }\n",
              "\n",
              "    .colab-df-convert {\n",
              "      background-color: #E8F0FE;\n",
              "      border: none;\n",
              "      border-radius: 50%;\n",
              "      cursor: pointer;\n",
              "      display: none;\n",
              "      fill: #1967D2;\n",
              "      height: 32px;\n",
              "      padding: 0 0 0 0;\n",
              "      width: 32px;\n",
              "    }\n",
              "\n",
              "    .colab-df-convert:hover {\n",
              "      background-color: #E2EBFA;\n",
              "      box-shadow: 0px 1px 2px rgba(60, 64, 67, 0.3), 0px 1px 3px 1px rgba(60, 64, 67, 0.15);\n",
              "      fill: #174EA6;\n",
              "    }\n",
              "\n",
              "    .colab-df-buttons div {\n",
              "      margin-bottom: 4px;\n",
              "    }\n",
              "\n",
              "    [theme=dark] .colab-df-convert {\n",
              "      background-color: #3B4455;\n",
              "      fill: #D2E3FC;\n",
              "    }\n",
              "\n",
              "    [theme=dark] .colab-df-convert:hover {\n",
              "      background-color: #434B5C;\n",
              "      box-shadow: 0px 1px 3px 1px rgba(0, 0, 0, 0.15);\n",
              "      filter: drop-shadow(0px 1px 2px rgba(0, 0, 0, 0.3));\n",
              "      fill: #FFFFFF;\n",
              "    }\n",
              "  </style>\n",
              "\n",
              "    <script>\n",
              "      const buttonEl =\n",
              "        document.querySelector('#df-ac49587f-f733-4db6-950c-375fa15e69bb button.colab-df-convert');\n",
              "      buttonEl.style.display =\n",
              "        google.colab.kernel.accessAllowed ? 'block' : 'none';\n",
              "\n",
              "      async function convertToInteractive(key) {\n",
              "        const element = document.querySelector('#df-ac49587f-f733-4db6-950c-375fa15e69bb');\n",
              "        const dataTable =\n",
              "          await google.colab.kernel.invokeFunction('convertToInteractive',\n",
              "                                                    [key], {});\n",
              "        if (!dataTable) return;\n",
              "\n",
              "        const docLinkHtml = 'Like what you see? Visit the ' +\n",
              "          '<a target=\"_blank\" href=https://colab.research.google.com/notebooks/data_table.ipynb>data table notebook</a>'\n",
              "          + ' to learn more about interactive tables.';\n",
              "        element.innerHTML = '';\n",
              "        dataTable['output_type'] = 'display_data';\n",
              "        await google.colab.output.renderOutput(dataTable, element);\n",
              "        const docLink = document.createElement('div');\n",
              "        docLink.innerHTML = docLinkHtml;\n",
              "        element.appendChild(docLink);\n",
              "      }\n",
              "    </script>\n",
              "  </div>\n",
              "\n",
              "\n",
              "<div id=\"df-75354200-df86-490c-81e8-bf59d3bfb827\">\n",
              "  <button class=\"colab-df-quickchart\" onclick=\"quickchart('df-75354200-df86-490c-81e8-bf59d3bfb827')\"\n",
              "            title=\"Suggest charts\"\n",
              "            style=\"display:none;\">\n",
              "\n",
              "<svg xmlns=\"http://www.w3.org/2000/svg\" height=\"24px\"viewBox=\"0 0 24 24\"\n",
              "     width=\"24px\">\n",
              "    <g>\n",
              "        <path d=\"M19 3H5c-1.1 0-2 .9-2 2v14c0 1.1.9 2 2 2h14c1.1 0 2-.9 2-2V5c0-1.1-.9-2-2-2zM9 17H7v-7h2v7zm4 0h-2V7h2v10zm4 0h-2v-4h2v4z\"/>\n",
              "    </g>\n",
              "</svg>\n",
              "  </button>\n",
              "\n",
              "<style>\n",
              "  .colab-df-quickchart {\n",
              "      --bg-color: #E8F0FE;\n",
              "      --fill-color: #1967D2;\n",
              "      --hover-bg-color: #E2EBFA;\n",
              "      --hover-fill-color: #174EA6;\n",
              "      --disabled-fill-color: #AAA;\n",
              "      --disabled-bg-color: #DDD;\n",
              "  }\n",
              "\n",
              "  [theme=dark] .colab-df-quickchart {\n",
              "      --bg-color: #3B4455;\n",
              "      --fill-color: #D2E3FC;\n",
              "      --hover-bg-color: #434B5C;\n",
              "      --hover-fill-color: #FFFFFF;\n",
              "      --disabled-bg-color: #3B4455;\n",
              "      --disabled-fill-color: #666;\n",
              "  }\n",
              "\n",
              "  .colab-df-quickchart {\n",
              "    background-color: var(--bg-color);\n",
              "    border: none;\n",
              "    border-radius: 50%;\n",
              "    cursor: pointer;\n",
              "    display: none;\n",
              "    fill: var(--fill-color);\n",
              "    height: 32px;\n",
              "    padding: 0;\n",
              "    width: 32px;\n",
              "  }\n",
              "\n",
              "  .colab-df-quickchart:hover {\n",
              "    background-color: var(--hover-bg-color);\n",
              "    box-shadow: 0 1px 2px rgba(60, 64, 67, 0.3), 0 1px 3px 1px rgba(60, 64, 67, 0.15);\n",
              "    fill: var(--button-hover-fill-color);\n",
              "  }\n",
              "\n",
              "  .colab-df-quickchart-complete:disabled,\n",
              "  .colab-df-quickchart-complete:disabled:hover {\n",
              "    background-color: var(--disabled-bg-color);\n",
              "    fill: var(--disabled-fill-color);\n",
              "    box-shadow: none;\n",
              "  }\n",
              "\n",
              "  .colab-df-spinner {\n",
              "    border: 2px solid var(--fill-color);\n",
              "    border-color: transparent;\n",
              "    border-bottom-color: var(--fill-color);\n",
              "    animation:\n",
              "      spin 1s steps(1) infinite;\n",
              "  }\n",
              "\n",
              "  @keyframes spin {\n",
              "    0% {\n",
              "      border-color: transparent;\n",
              "      border-bottom-color: var(--fill-color);\n",
              "      border-left-color: var(--fill-color);\n",
              "    }\n",
              "    20% {\n",
              "      border-color: transparent;\n",
              "      border-left-color: var(--fill-color);\n",
              "      border-top-color: var(--fill-color);\n",
              "    }\n",
              "    30% {\n",
              "      border-color: transparent;\n",
              "      border-left-color: var(--fill-color);\n",
              "      border-top-color: var(--fill-color);\n",
              "      border-right-color: var(--fill-color);\n",
              "    }\n",
              "    40% {\n",
              "      border-color: transparent;\n",
              "      border-right-color: var(--fill-color);\n",
              "      border-top-color: var(--fill-color);\n",
              "    }\n",
              "    60% {\n",
              "      border-color: transparent;\n",
              "      border-right-color: var(--fill-color);\n",
              "    }\n",
              "    80% {\n",
              "      border-color: transparent;\n",
              "      border-right-color: var(--fill-color);\n",
              "      border-bottom-color: var(--fill-color);\n",
              "    }\n",
              "    90% {\n",
              "      border-color: transparent;\n",
              "      border-bottom-color: var(--fill-color);\n",
              "    }\n",
              "  }\n",
              "</style>\n",
              "\n",
              "  <script>\n",
              "    async function quickchart(key) {\n",
              "      const quickchartButtonEl =\n",
              "        document.querySelector('#' + key + ' button');\n",
              "      quickchartButtonEl.disabled = true;  // To prevent multiple clicks.\n",
              "      quickchartButtonEl.classList.add('colab-df-spinner');\n",
              "      try {\n",
              "        const charts = await google.colab.kernel.invokeFunction(\n",
              "            'suggestCharts', [key], {});\n",
              "      } catch (error) {\n",
              "        console.error('Error during call to suggestCharts:', error);\n",
              "      }\n",
              "      quickchartButtonEl.classList.remove('colab-df-spinner');\n",
              "      quickchartButtonEl.classList.add('colab-df-quickchart-complete');\n",
              "    }\n",
              "    (() => {\n",
              "      let quickchartButtonEl =\n",
              "        document.querySelector('#df-75354200-df86-490c-81e8-bf59d3bfb827 button');\n",
              "      quickchartButtonEl.style.display =\n",
              "        google.colab.kernel.accessAllowed ? 'block' : 'none';\n",
              "    })();\n",
              "  </script>\n",
              "</div>\n",
              "\n",
              "    </div>\n",
              "  </div>\n"
            ],
            "application/vnd.google.colaboratory.intrinsic+json": {
              "type": "dataframe",
              "variable_name": "df",
              "summary": "{\n  \"name\": \"df\",\n  \"rows\": 38,\n  \"fields\": [\n    {\n      \"column\": \"Fecha_anual\",\n      \"properties\": {\n        \"dtype\": \"number\",\n        \"std\": 11,\n        \"min\": 1980,\n        \"max\": 2017,\n        \"num_unique_values\": 38,\n        \"samples\": [\n          2013,\n          2016,\n          1984\n        ],\n        \"semantic_type\": \"\",\n        \"description\": \"\"\n      }\n    },\n    {\n      \"column\": \"Inversion\",\n      \"properties\": {\n        \"dtype\": \"number\",\n        \"std\": 5.5565276927232174,\n        \"min\": 1.0,\n        \"max\": 19.5,\n        \"num_unique_values\": 38,\n        \"samples\": [\n          17.5,\n          19.0,\n          3.0\n        ],\n        \"semantic_type\": \"\",\n        \"description\": \"\"\n      }\n    },\n    {\n      \"column\": \"Ventas\",\n      \"properties\": {\n        \"dtype\": \"number\",\n        \"std\": 4.315321483057051,\n        \"min\": 0.62,\n        \"max\": 17.45,\n        \"num_unique_values\": 38,\n        \"samples\": [\n          15.69,\n          16.72,\n          0.62\n        ],\n        \"semantic_type\": \"\",\n        \"description\": \"\"\n      }\n    }\n  ]\n}"
            }
          },
          "metadata": {},
          "execution_count": 9
        }
      ]
    },
    {
      "cell_type": "markdown",
      "source": [
        "#Veamos la estructura del dataset"
      ],
      "metadata": {
        "id": "X8NpG9kw4Ace"
      }
    },
    {
      "cell_type": "code",
      "source": [
        "df.info()"
      ],
      "metadata": {
        "colab": {
          "base_uri": "https://localhost:8080/"
        },
        "id": "v_b1Xsq43zxt",
        "outputId": "4f817b2b-23b7-436f-ba9e-38e00753704b"
      },
      "execution_count": 10,
      "outputs": [
        {
          "output_type": "stream",
          "name": "stdout",
          "text": [
            "<class 'pandas.core.frame.DataFrame'>\n",
            "RangeIndex: 38 entries, 0 to 37\n",
            "Data columns (total 3 columns):\n",
            " #   Column       Non-Null Count  Dtype  \n",
            "---  ------       --------------  -----  \n",
            " 0   Fecha_anual  38 non-null     int64  \n",
            " 1   Inversion    38 non-null     float64\n",
            " 2   Ventas       38 non-null     float64\n",
            "dtypes: float64(2), int64(1)\n",
            "memory usage: 1.0 KB\n"
          ]
        }
      ]
    },
    {
      "cell_type": "markdown",
      "source": [
        "#Análisis global de datos estadísticos de la muestra de variables cuantitavtivas"
      ],
      "metadata": {
        "id": "WdGEZNyC4EQm"
      }
    },
    {
      "cell_type": "code",
      "source": [
        "df.describe(include=\"float64\")"
      ],
      "metadata": {
        "colab": {
          "base_uri": "https://localhost:8080/",
          "height": 300
        },
        "id": "lfesRpeW4Q-e",
        "outputId": "3bc9ea29-b592-47dc-fe3d-8c0f171ed3e7"
      },
      "execution_count": 11,
      "outputs": [
        {
          "output_type": "execute_result",
          "data": {
            "text/plain": [
              "       Inversion     Ventas\n",
              "count  38.000000  38.000000\n",
              "mean   10.250000  10.492895\n",
              "std     5.556528   4.315321\n",
              "min     1.000000   0.620000\n",
              "25%     5.625000   7.565000\n",
              "50%    10.250000  11.080000\n",
              "75%    14.875000  14.032500\n",
              "max    19.500000  17.450000"
            ],
            "text/html": [
              "\n",
              "  <div id=\"df-cbc7980a-23b7-489a-8adc-2bd3603be098\" class=\"colab-df-container\">\n",
              "    <div>\n",
              "<style scoped>\n",
              "    .dataframe tbody tr th:only-of-type {\n",
              "        vertical-align: middle;\n",
              "    }\n",
              "\n",
              "    .dataframe tbody tr th {\n",
              "        vertical-align: top;\n",
              "    }\n",
              "\n",
              "    .dataframe thead th {\n",
              "        text-align: right;\n",
              "    }\n",
              "</style>\n",
              "<table border=\"1\" class=\"dataframe\">\n",
              "  <thead>\n",
              "    <tr style=\"text-align: right;\">\n",
              "      <th></th>\n",
              "      <th>Inversion</th>\n",
              "      <th>Ventas</th>\n",
              "    </tr>\n",
              "  </thead>\n",
              "  <tbody>\n",
              "    <tr>\n",
              "      <th>count</th>\n",
              "      <td>38.000000</td>\n",
              "      <td>38.000000</td>\n",
              "    </tr>\n",
              "    <tr>\n",
              "      <th>mean</th>\n",
              "      <td>10.250000</td>\n",
              "      <td>10.492895</td>\n",
              "    </tr>\n",
              "    <tr>\n",
              "      <th>std</th>\n",
              "      <td>5.556528</td>\n",
              "      <td>4.315321</td>\n",
              "    </tr>\n",
              "    <tr>\n",
              "      <th>min</th>\n",
              "      <td>1.000000</td>\n",
              "      <td>0.620000</td>\n",
              "    </tr>\n",
              "    <tr>\n",
              "      <th>25%</th>\n",
              "      <td>5.625000</td>\n",
              "      <td>7.565000</td>\n",
              "    </tr>\n",
              "    <tr>\n",
              "      <th>50%</th>\n",
              "      <td>10.250000</td>\n",
              "      <td>11.080000</td>\n",
              "    </tr>\n",
              "    <tr>\n",
              "      <th>75%</th>\n",
              "      <td>14.875000</td>\n",
              "      <td>14.032500</td>\n",
              "    </tr>\n",
              "    <tr>\n",
              "      <th>max</th>\n",
              "      <td>19.500000</td>\n",
              "      <td>17.450000</td>\n",
              "    </tr>\n",
              "  </tbody>\n",
              "</table>\n",
              "</div>\n",
              "    <div class=\"colab-df-buttons\">\n",
              "\n",
              "  <div class=\"colab-df-container\">\n",
              "    <button class=\"colab-df-convert\" onclick=\"convertToInteractive('df-cbc7980a-23b7-489a-8adc-2bd3603be098')\"\n",
              "            title=\"Convert this dataframe to an interactive table.\"\n",
              "            style=\"display:none;\">\n",
              "\n",
              "  <svg xmlns=\"http://www.w3.org/2000/svg\" height=\"24px\" viewBox=\"0 -960 960 960\">\n",
              "    <path d=\"M120-120v-720h720v720H120Zm60-500h600v-160H180v160Zm220 220h160v-160H400v160Zm0 220h160v-160H400v160ZM180-400h160v-160H180v160Zm440 0h160v-160H620v160ZM180-180h160v-160H180v160Zm440 0h160v-160H620v160Z\"/>\n",
              "  </svg>\n",
              "    </button>\n",
              "\n",
              "  <style>\n",
              "    .colab-df-container {\n",
              "      display:flex;\n",
              "      gap: 12px;\n",
              "    }\n",
              "\n",
              "    .colab-df-convert {\n",
              "      background-color: #E8F0FE;\n",
              "      border: none;\n",
              "      border-radius: 50%;\n",
              "      cursor: pointer;\n",
              "      display: none;\n",
              "      fill: #1967D2;\n",
              "      height: 32px;\n",
              "      padding: 0 0 0 0;\n",
              "      width: 32px;\n",
              "    }\n",
              "\n",
              "    .colab-df-convert:hover {\n",
              "      background-color: #E2EBFA;\n",
              "      box-shadow: 0px 1px 2px rgba(60, 64, 67, 0.3), 0px 1px 3px 1px rgba(60, 64, 67, 0.15);\n",
              "      fill: #174EA6;\n",
              "    }\n",
              "\n",
              "    .colab-df-buttons div {\n",
              "      margin-bottom: 4px;\n",
              "    }\n",
              "\n",
              "    [theme=dark] .colab-df-convert {\n",
              "      background-color: #3B4455;\n",
              "      fill: #D2E3FC;\n",
              "    }\n",
              "\n",
              "    [theme=dark] .colab-df-convert:hover {\n",
              "      background-color: #434B5C;\n",
              "      box-shadow: 0px 1px 3px 1px rgba(0, 0, 0, 0.15);\n",
              "      filter: drop-shadow(0px 1px 2px rgba(0, 0, 0, 0.3));\n",
              "      fill: #FFFFFF;\n",
              "    }\n",
              "  </style>\n",
              "\n",
              "    <script>\n",
              "      const buttonEl =\n",
              "        document.querySelector('#df-cbc7980a-23b7-489a-8adc-2bd3603be098 button.colab-df-convert');\n",
              "      buttonEl.style.display =\n",
              "        google.colab.kernel.accessAllowed ? 'block' : 'none';\n",
              "\n",
              "      async function convertToInteractive(key) {\n",
              "        const element = document.querySelector('#df-cbc7980a-23b7-489a-8adc-2bd3603be098');\n",
              "        const dataTable =\n",
              "          await google.colab.kernel.invokeFunction('convertToInteractive',\n",
              "                                                    [key], {});\n",
              "        if (!dataTable) return;\n",
              "\n",
              "        const docLinkHtml = 'Like what you see? Visit the ' +\n",
              "          '<a target=\"_blank\" href=https://colab.research.google.com/notebooks/data_table.ipynb>data table notebook</a>'\n",
              "          + ' to learn more about interactive tables.';\n",
              "        element.innerHTML = '';\n",
              "        dataTable['output_type'] = 'display_data';\n",
              "        await google.colab.output.renderOutput(dataTable, element);\n",
              "        const docLink = document.createElement('div');\n",
              "        docLink.innerHTML = docLinkHtml;\n",
              "        element.appendChild(docLink);\n",
              "      }\n",
              "    </script>\n",
              "  </div>\n",
              "\n",
              "\n",
              "<div id=\"df-14b37efd-d51f-4cc8-8da5-f1a1eb0bdd5e\">\n",
              "  <button class=\"colab-df-quickchart\" onclick=\"quickchart('df-14b37efd-d51f-4cc8-8da5-f1a1eb0bdd5e')\"\n",
              "            title=\"Suggest charts\"\n",
              "            style=\"display:none;\">\n",
              "\n",
              "<svg xmlns=\"http://www.w3.org/2000/svg\" height=\"24px\"viewBox=\"0 0 24 24\"\n",
              "     width=\"24px\">\n",
              "    <g>\n",
              "        <path d=\"M19 3H5c-1.1 0-2 .9-2 2v14c0 1.1.9 2 2 2h14c1.1 0 2-.9 2-2V5c0-1.1-.9-2-2-2zM9 17H7v-7h2v7zm4 0h-2V7h2v10zm4 0h-2v-4h2v4z\"/>\n",
              "    </g>\n",
              "</svg>\n",
              "  </button>\n",
              "\n",
              "<style>\n",
              "  .colab-df-quickchart {\n",
              "      --bg-color: #E8F0FE;\n",
              "      --fill-color: #1967D2;\n",
              "      --hover-bg-color: #E2EBFA;\n",
              "      --hover-fill-color: #174EA6;\n",
              "      --disabled-fill-color: #AAA;\n",
              "      --disabled-bg-color: #DDD;\n",
              "  }\n",
              "\n",
              "  [theme=dark] .colab-df-quickchart {\n",
              "      --bg-color: #3B4455;\n",
              "      --fill-color: #D2E3FC;\n",
              "      --hover-bg-color: #434B5C;\n",
              "      --hover-fill-color: #FFFFFF;\n",
              "      --disabled-bg-color: #3B4455;\n",
              "      --disabled-fill-color: #666;\n",
              "  }\n",
              "\n",
              "  .colab-df-quickchart {\n",
              "    background-color: var(--bg-color);\n",
              "    border: none;\n",
              "    border-radius: 50%;\n",
              "    cursor: pointer;\n",
              "    display: none;\n",
              "    fill: var(--fill-color);\n",
              "    height: 32px;\n",
              "    padding: 0;\n",
              "    width: 32px;\n",
              "  }\n",
              "\n",
              "  .colab-df-quickchart:hover {\n",
              "    background-color: var(--hover-bg-color);\n",
              "    box-shadow: 0 1px 2px rgba(60, 64, 67, 0.3), 0 1px 3px 1px rgba(60, 64, 67, 0.15);\n",
              "    fill: var(--button-hover-fill-color);\n",
              "  }\n",
              "\n",
              "  .colab-df-quickchart-complete:disabled,\n",
              "  .colab-df-quickchart-complete:disabled:hover {\n",
              "    background-color: var(--disabled-bg-color);\n",
              "    fill: var(--disabled-fill-color);\n",
              "    box-shadow: none;\n",
              "  }\n",
              "\n",
              "  .colab-df-spinner {\n",
              "    border: 2px solid var(--fill-color);\n",
              "    border-color: transparent;\n",
              "    border-bottom-color: var(--fill-color);\n",
              "    animation:\n",
              "      spin 1s steps(1) infinite;\n",
              "  }\n",
              "\n",
              "  @keyframes spin {\n",
              "    0% {\n",
              "      border-color: transparent;\n",
              "      border-bottom-color: var(--fill-color);\n",
              "      border-left-color: var(--fill-color);\n",
              "    }\n",
              "    20% {\n",
              "      border-color: transparent;\n",
              "      border-left-color: var(--fill-color);\n",
              "      border-top-color: var(--fill-color);\n",
              "    }\n",
              "    30% {\n",
              "      border-color: transparent;\n",
              "      border-left-color: var(--fill-color);\n",
              "      border-top-color: var(--fill-color);\n",
              "      border-right-color: var(--fill-color);\n",
              "    }\n",
              "    40% {\n",
              "      border-color: transparent;\n",
              "      border-right-color: var(--fill-color);\n",
              "      border-top-color: var(--fill-color);\n",
              "    }\n",
              "    60% {\n",
              "      border-color: transparent;\n",
              "      border-right-color: var(--fill-color);\n",
              "    }\n",
              "    80% {\n",
              "      border-color: transparent;\n",
              "      border-right-color: var(--fill-color);\n",
              "      border-bottom-color: var(--fill-color);\n",
              "    }\n",
              "    90% {\n",
              "      border-color: transparent;\n",
              "      border-bottom-color: var(--fill-color);\n",
              "    }\n",
              "  }\n",
              "</style>\n",
              "\n",
              "  <script>\n",
              "    async function quickchart(key) {\n",
              "      const quickchartButtonEl =\n",
              "        document.querySelector('#' + key + ' button');\n",
              "      quickchartButtonEl.disabled = true;  // To prevent multiple clicks.\n",
              "      quickchartButtonEl.classList.add('colab-df-spinner');\n",
              "      try {\n",
              "        const charts = await google.colab.kernel.invokeFunction(\n",
              "            'suggestCharts', [key], {});\n",
              "      } catch (error) {\n",
              "        console.error('Error during call to suggestCharts:', error);\n",
              "      }\n",
              "      quickchartButtonEl.classList.remove('colab-df-spinner');\n",
              "      quickchartButtonEl.classList.add('colab-df-quickchart-complete');\n",
              "    }\n",
              "    (() => {\n",
              "      let quickchartButtonEl =\n",
              "        document.querySelector('#df-14b37efd-d51f-4cc8-8da5-f1a1eb0bdd5e button');\n",
              "      quickchartButtonEl.style.display =\n",
              "        google.colab.kernel.accessAllowed ? 'block' : 'none';\n",
              "    })();\n",
              "  </script>\n",
              "</div>\n",
              "\n",
              "    </div>\n",
              "  </div>\n"
            ],
            "application/vnd.google.colaboratory.intrinsic+json": {
              "type": "dataframe",
              "summary": "{\n  \"name\": \"df\",\n  \"rows\": 8,\n  \"fields\": [\n    {\n      \"column\": \"Inversion\",\n      \"properties\": {\n        \"dtype\": \"number\",\n        \"std\": 11.585378707932499,\n        \"min\": 1.0,\n        \"max\": 38.0,\n        \"num_unique_values\": 7,\n        \"samples\": [\n          38.0,\n          10.25,\n          14.875\n        ],\n        \"semantic_type\": \"\",\n        \"description\": \"\"\n      }\n    },\n    {\n      \"column\": \"Ventas\",\n      \"properties\": {\n        \"dtype\": \"number\",\n        \"std\": 11.42705514797196,\n        \"min\": 0.62,\n        \"max\": 38.0,\n        \"num_unique_values\": 8,\n        \"samples\": [\n          10.492894736842103,\n          11.079999999999998,\n          38.0\n        ],\n        \"semantic_type\": \"\",\n        \"description\": \"\"\n      }\n    }\n  ]\n}"
            }
          },
          "metadata": {},
          "execution_count": 11
        }
      ]
    },
    {
      "cell_type": "markdown",
      "source": [
        "#Cálculo de la mediana"
      ],
      "metadata": {
        "id": "4gaIT5Ix4ac-"
      }
    },
    {
      "cell_type": "code",
      "source": [
        "print(f\"La mediana de la variable inversión es: {df['Inversion'].median()}\") # Changed 'Inversion' to 'inversion'"
      ],
      "metadata": {
        "colab": {
          "base_uri": "https://localhost:8080/"
        },
        "id": "pYiTphqu4eFd",
        "outputId": "e968605a-d68b-4043-87bf-e7bbc5f05a2e"
      },
      "execution_count": 14,
      "outputs": [
        {
          "output_type": "stream",
          "name": "stdout",
          "text": [
            "La mediana de la variable inversión es: 10.25\n"
          ]
        }
      ]
    },
    {
      "cell_type": "code",
      "source": [
        "print(f\"La mediana de la variable Ventas es: {df['Ventas'].median()}\")"
      ],
      "metadata": {
        "colab": {
          "base_uri": "https://localhost:8080/"
        },
        "id": "CcY1NnmC472t",
        "outputId": "05abc256-b052-47dd-f556-1760390b9ed3"
      },
      "execution_count": 17,
      "outputs": [
        {
          "output_type": "stream",
          "name": "stdout",
          "text": [
            "La mediana de la variable Ventas es: 11.079999999999998\n"
          ]
        }
      ]
    },
    {
      "cell_type": "code",
      "source": [
        "\n",
        "#Cálculo de mod#Cálculo de moda\n",
        "print(f\"La moda de la variable inversión es: {df['Inversion'].mode().to_numpy()}\") # Changed 'inversion' to 'Inversion'\n",
        "print(f\"La moda de la variable ventas es: {df['Ventas'].mode().to_numpy()}\") # Changed 'inversion' to 'Ventas' to match the column name in the dataframe."
      ],
      "metadata": {
        "colab": {
          "base_uri": "https://localhost:8080/"
        },
        "id": "XE47ywlc5CK1",
        "outputId": "506de05e-b5dd-445d-d150-6f4561d75b1c"
      },
      "execution_count": 23,
      "outputs": [
        {
          "output_type": "stream",
          "name": "stdout",
          "text": [
            "La moda de la variable inversión es: [ 1.   1.5  2.   2.5  3.   3.5  4.   4.5  5.   5.5  6.   6.5  7.   7.5\n",
            "  8.   8.5  9.   9.5 10.  10.5 11.  11.5 12.  12.5 13.  13.5 14.  14.5\n",
            " 15.  15.5 16.  16.5 17.  17.5 18.  18.5 19.  19.5]\n",
            "La moda de la variable ventas es: [ 0.62  0.64  4.61  5.09  5.18  5.44  6.39  7.04  7.13  7.48  7.82  8.01\n",
            "  8.22  8.86  9.1   9.78  9.82 10.05 11.04 11.12 11.44 11.47 12.01 12.33\n",
            " 12.53 12.56 13.4  13.83 14.1  14.64 14.95 15.04 15.06 15.69 15.86 16.21\n",
            " 16.72 17.45]\n"
          ]
        }
      ]
    },
    {
      "cell_type": "markdown",
      "source": [
        "#Gráficas de dispersión"
      ],
      "metadata": {
        "id": "c715bzMT7xHb"
      }
    },
    {
      "cell_type": "code",
      "source": [
        "import seaborn as sns\n",
        "import matplotlib.pyplot as plt\n",
        "\n",
        "# Create the scatter plot with regression line\n",
        "# Changed 'inversion' to 'Inversion' to match the column name in the DataFrame\n",
        "sns.regplot(x='Inversion', y='Ventas', data=df)\n",
        "\n",
        "# Set plot title and labels\n",
        "plt.title('Regression Plot: Sales vs. Investment')\n",
        "plt.xlabel('Investment')\n",
        "plt.ylabel('Sales')\n",
        "\n",
        "# Display the plot\n",
        "plt.show()"
      ],
      "metadata": {
        "colab": {
          "base_uri": "https://localhost:8080/",
          "height": 472
        },
        "id": "YXNQij607rEj",
        "outputId": "e704d43d-a649-4075-8282-81e8ddcb72be"
      },
      "execution_count": 25,
      "outputs": [
        {
          "output_type": "display_data",
          "data": {
            "text/plain": [
              "<Figure size 640x480 with 1 Axes>"
            ],
            "image/png": "[encoded data removed]"
          },
          "metadata": {}
        }
      ]
    },
    {
      "cell_type": "markdown",
      "source": [
        "#Valores atípicos"
      ],
      "metadata": {
        "id": "cKs6J2NZ8Thj"
      }
    },
    {
      "cell_type": "code",
      "source": [
        "import pandas as pd\n",
        "\n",
        "# Calcular los cuartiles\n",
        "# Changed 'ventas' to 'Ventas' to match the column name in the DataFrame\n",
        "cuartiles = df['Ventas'].quantile([0.25, 0.5, 0.75])\n",
        "\n",
        "# Imprimir los valores de cada cuartil\n",
        "print(\"Cuartil 1 (Q1):\", cuartiles[0.25])\n",
        "print(\"Cuartil 2 (Q2 - Mediana):\", cuartiles[0.5])\n",
        "print(\"Cuartil 3 (Q3):\", cuartiles[0.75])"
      ],
      "metadata": {
        "colab": {
          "base_uri": "https://localhost:8080/"
        },
        "id": "jIgbZ_WA8mDq",
        "outputId": "28a56c6b-10d6-4caa-caa7-fbb111ff236f"
      },
      "execution_count": 28,
      "outputs": [
        {
          "output_type": "stream",
          "name": "stdout",
          "text": [
            "Cuartil 1 (Q1): 7.565\n",
            "Cuartil 2 (Q2 - Mediana): 11.079999999999998\n",
            "Cuartil 3 (Q3): 14.032499999999999\n"
          ]
        }
      ]
    },
    {
      "cell_type": "code",
      "source": [
        "import pandas as pd\n",
        "\n",
        "# Calcular los cuartiles\n",
        "# Changed 'ventas' to 'Ventas' to match the column name in the DataFrame\n",
        "Q1 = df['Ventas'].quantile(0.25)\n",
        "Q3 = df['Ventas'].quantile(0.75)\n",
        "\n",
        "# Calcular el IQR\n",
        "IQR = Q3 - Q1\n",
        "\n",
        "# Imprimir el IQR\n",
        "print(\"Rango Intercuartílico (IQR):\", IQR)"
      ],
      "metadata": {
        "colab": {
          "base_uri": "https://localhost:8080/"
        },
        "id": "tYQxWgiK9D3i",
        "outputId": "195f7e97-67a2-4e99-adf8-670423f5c0ee"
      },
      "execution_count": 31,
      "outputs": [
        {
          "output_type": "stream",
          "name": "stdout",
          "text": [
            "Rango Intercuartílico (IQR): 6.4674999999999985\n"
          ]
        }
      ]
    },
    {
      "cell_type": "code",
      "source": [
        "import pandas as pd\n",
        "\n",
        "# Calcular los cuartiles\n",
        "# Changed 'inversion' to 'Inversion' to match the column name in the DataFrame\n",
        "cuartiles_inversion = df['Inversion'].quantile([0.25, 0.5, 0.75])\n",
        "\n",
        "# Imprimir los valores de cada cuartil\n",
        "print(\"Cuartil 1 (Q1):\", cuartiles_inversion[0.25])\n",
        "print(\"Cuartil 2 (Q2 - Mediana):\", cuartiles_inversion[0.5])\n",
        "print(\"Cuartil 3 (Q3):\", cuartiles_inversion[0.75])"
      ],
      "metadata": {
        "colab": {
          "base_uri": "https://localhost:8080/"
        },
        "id": "I8EiAhL29eb6",
        "outputId": "b9e7cb10-da6f-4618-a57f-166a36dc4154"
      },
      "execution_count": 33,
      "outputs": [
        {
          "output_type": "stream",
          "name": "stdout",
          "text": [
            "Cuartil 1 (Q1): 5.625\n",
            "Cuartil 2 (Q2 - Mediana): 10.25\n",
            "Cuartil 3 (Q3): 14.875\n"
          ]
        }
      ]
    },
    {
      "cell_type": "code",
      "source": [
        "import pandas as pd\n",
        "\n",
        "# Calcular los cuartiles\n",
        "# Changed 'inversion' to 'Inversion' to match the column name in the DataFrame\n",
        "Q1 = df['Inversion'].quantile(0.25)\n",
        "Q3 = df['Inversion'].quantile(0.75)\n",
        "\n",
        "# Calcular el IQR\n",
        "IQR = Q3 - Q1\n",
        "\n",
        "# Imprimir el IQR\n",
        "print(\"Rango Intercuartílico (IQR):\", IQR)"
      ],
      "metadata": {
        "colab": {
          "base_uri": "https://localhost:8080/"
        },
        "id": "ZrLimiNl9szq",
        "outputId": "f5e8f415-a1ef-40d0-b010-4641f9eb6b1f"
      },
      "execution_count": 35,
      "outputs": [
        {
          "output_type": "stream",
          "name": "stdout",
          "text": [
            "Rango Intercuartílico (IQR): 9.25\n"
          ]
        }
      ]
    },
    {
      "cell_type": "code",
      "source": [
        "import seaborn as sns\n",
        "import matplotlib.pyplot as plt\n",
        "\n",
        "# Box plot with points for 'Ventas' (Sales)\n",
        "plt.figure(figsize=(8, 6))  # Adjust figure size if needed\n",
        "sns.boxplot(x='Ventas', data=df)\n",
        "sns.stripplot(x='Ventas', data=df, color='black', size=4, jitter=0.2)  # Overlay points\n",
        "plt.title('Box Plot with Points for Sales')\n",
        "plt.xlabel('Sales')\n",
        "plt.show()\n",
        "\n",
        "# Box plot with points for 'Inversion' (Investment)\n",
        "plt.figure(figsize=(8, 6))  # Adjust figure size if needed\n",
        "sns.boxplot(x='Inversion', data=df)\n",
        "sns.stripplot(x='Inversion', data=df, color='black', size=4, jitter=0.2)  # Overlay points\n",
        "plt.title('Box Plot with Points for Investment')\n",
        "plt.xlabel('Investment')\n",
        "plt.show()"
      ],
      "metadata": {
        "colab": {
          "base_uri": "https://localhost:8080/",
          "height": 1000
        },
        "id": "r_VYTvwp-WEZ",
        "outputId": "586d6817-65ff-4001-da6b-43f6bde88b13"
      },
      "execution_count": 37,
      "outputs": [
        {
          "output_type": "display_data",
          "data": {
            "text/plain": [
              "<Figure size 800x600 with 1 Axes>"
            ],
            "image/png": "[encoded data removed]"
          },
          "metadata": {}
        },
        {
          "output_type": "display_data",
          "data": {
            "text/plain": [
              "<Figure size 800x600 with 1 Axes>"
            ],
            "image/png": "[encoded data removed]"
          },
          "metadata": {}
        }
      ]
    },
    {
      "cell_type": "code",
      "source": [
        "#Por outlier entendemos valores superiores a la suma del tercer cuartil más 1.5 veces el IQR, o inferiores al primer cuartil menos 1.5 veces el IQR"
      ],
      "metadata": {
        "id": "D9FpmCarBgcG"
      },
      "execution_count": 38,
      "outputs": []
    },
    {
      "cell_type": "markdown",
      "source": [
        "#Análisis de variables e inversión"
      ],
      "metadata": {
        "id": "nchwcC3zANrI"
      }
    },
    {
      "cell_type": "code",
      "source": [
        "import pandas as pd\n",
        "import statsmodels.formula.api as smf # Added import statement for smf\n",
        "\n",
        "# Calculate Pearson's correlation\n",
        "correlation = df['Inversion'].corr(df['Ventas'])\n",
        "print(\"Pearson's correlation:\", correlation)\n",
        "model = smf.ols('Ventas ~ Inversion', data=df).fit()\n",
        "print(model.summary())"
      ],
      "metadata": {
        "colab": {
          "base_uri": "https://localhost:8080/"
        },
        "id": "HiZxE1DGCCZ2",
        "outputId": "df4a1d32-9a78-4de7-dc91-79e83ef5a0ac"
      },
      "execution_count": 41,
      "outputs": [
        {
          "output_type": "stream",
          "name": "stdout",
          "text": [
            "Pearson's correlation: 0.9562823420491503\n",
            "                            OLS Regression Results                            \n",
            "==============================================================================\n",
            "Dep. Variable:                 Ventas   R-squared:                       0.914\n",
            "Model:                            OLS   Adj. R-squared:                  0.912\n",
            "Method:                 Least Squares   F-statistic:                     384.9\n",
            "Date:                Wed, 12 Mar 2025   Prob (F-statistic):           8.25e-21\n",
            "Time:                        02:00:45   Log-Likelihood:                -62.255\n",
            "No. Observations:                  38   AIC:                             128.5\n",
            "Df Residuals:                      36   BIC:                             131.8\n",
            "Df Model:                           1                                         \n",
            "Covariance Type:            nonrobust                                         \n",
            "==============================================================================\n",
            "                 coef    std err          t      P>|t|      [0.025      0.975]\n",
            "------------------------------------------------------------------------------\n",
            "Intercept      2.8805      0.440      6.546      0.000       1.988       3.773\n",
            "Inversion      0.7427      0.038     19.620      0.000       0.666       0.819\n",
            "==============================================================================\n",
            "Omnibus:                       49.123   Durbin-Watson:                   2.334\n",
            "Prob(Omnibus):                  0.000   Jarque-Bera (JB):              209.563\n",
            "Skew:                          -3.131   Prob(JB):                     3.12e-46\n",
            "Kurtosis:                      12.651   Cond. No.                         24.8\n",
            "==============================================================================\n",
            "\n",
            "Notes:\n",
            "[1] Standard Errors assume that the covariance matrix of the errors is correctly specified.\n"
          ]
        }
      ]
    },
    {
      "cell_type": "markdown",
      "source": [],
      "metadata": {
        "id": "yQzNfELEB8Q-"
      }
    },
    {
      "cell_type": "markdown",
      "source": [
        "#Ajuste del modelo utilizando scipy"
      ],
      "metadata": {
        "id": "WkMab_07AU1_"
      }
    },
    {
      "cell_type": "code",
      "source": [
        "import numpy as np\n",
        "from scipy.optimize import curve_fit\n",
        "\n",
        "# Define the function to fit (linear in this case)\n",
        "def linear_func(x, a, b):\n",
        "    return a * x + b\n",
        "\n",
        "# Prepare the data\n",
        "xdata = df['Inversion'].values\n",
        "ydata = df['Ventas'].values\n",
        "\n",
        "# Fit the model\n",
        "popt, pcov = curve_fit(linear_func, xdata, ydata)\n",
        "\n",
        "# Print the optimal parameters\n",
        "print(\"Optimal parameters:\")\n",
        "print(\"a =\", popt[0])  # Slope\n",
        "print(\"b =\", popt[1])  # Intercept\n",
        "\n",
        "# Plot the results\n",
        "plt.plot(xdata, ydata, 'o', label='data')\n",
        "plt.plot(xdata, linear_func(xdata, *popt), 'r-', label='fit')\n",
        "plt.xlabel('Inversion')\n",
        "plt.ylabel('Ventas')\n",
        "plt.legend()\n",
        "plt.show()"
      ],
      "metadata": {
        "colab": {
          "base_uri": "https://localhost:8080/",
          "height": 501
        },
        "id": "qthbz0shCXeO",
        "outputId": "871ba0d4-8166-4a92-a484-6f38caadf26c"
      },
      "execution_count": 42,
      "outputs": [
        {
          "output_type": "stream",
          "name": "stdout",
          "text": [
            "Optimal parameters:\n",
            "a = 0.7426698763535255\n",
            "b = 2.8805285042168167\n"
          ]
        },
        {
          "output_type": "display_data",
          "data": {
            "text/plain": [
              "<Figure size 640x480 with 1 Axes>"
            ],
            "image/png": "[encoded data removed]"
          },
          "metadata": {}
        }
      ]
    },
    {
      "cell_type": "code",
      "source": [
        "investment = 7  # Investment in millions of euros\n",
        "estimated_sales = linear_func(investment, *popt)\n",
        "print(f\"Estimated sales for an investment of 7 million euros: {estimated_sales}\")"
      ],
      "metadata": {
        "colab": {
          "base_uri": "https://localhost:8080/"
        },
        "id": "2EE2rlKnCZIO",
        "outputId": "e04d737f-722d-4158-ee8b-8a4da16f236d"
      },
      "execution_count": 43,
      "outputs": [
        {
          "output_type": "stream",
          "name": "stdout",
          "text": [
            "Estimated sales for an investment of 7 million euros: 8.079217638691496\n"
          ]
        }
      ]
    },
    {
      "cell_type": "markdown",
      "source": [
        "#Escribe tus conclusiones finales"
      ],
      "metadata": {
        "id": "2pEoGHABBEC_"
      }
    },
    {
      "cell_type": "markdown",
      "source": [
        "**Correlación positiva:** Existe una fuerte correlación positiva entre la inversión («Inversion») y las ventas («Ventas»), como indican el coeficiente de correlación de Pearson y el análisis de regresión. Esto sugiere que a medida que aumenta la inversión, las ventas tienden a aumentar también.\n",
        "\n",
        "**Relación lineal:** El diagrama de dispersión y la línea de regresión indican una relación lineal entre la inversión y las ventas. El modelo lineal utilizando scipy.optimize.curve_fit proporciona un buen ajuste a los datos, permitiéndonos estimar las ventas para una inversión dada.\n",
        "\n",
        "**Estimación de las ventas:** Utilizando el modelo lineal ajustado, estimamos que una inversión de 7 millones de euros daría como resultado aproximadamente [valor_ventas_estimado] en ventas. Esto proporciona una valiosa herramienta para la previsión y la toma de decisiones.\n",
        "\n",
        "**Validación del modelo:** Aunque el modelo lineal proporciona un ajuste razonable, una mayor validación utilizando métricas como la Suma de Errores Cuadrados (SCE) y el coeficiente de determinación (R-cuadrado) podría proporcionar una evaluación más completa de la precisión del modelo.\n",
        "\n",
        "**Valores atípicos:** Aunque los gráficos de caja y el análisis IQR indicaron posibles valores atípicos, es necesario seguir investigando para determinar si representan errores en los datos o auténticos valores extremos. Si se trata de valores extremos auténticos, habría que considerar su impacto en el modelo."
      ],
      "metadata": {
        "id": "yqZWuNlqCmKu"
      }
    }
  ]
}