{
  "nbformat": 4,
  "nbformat_minor": 0,
  "metadata": {
    "colab": {
      "provenance": [],
      "toc_visible": true
    },
    "kernelspec": {
      "name": "python3",
      "display_name": "Python 3"
    },
    "language_info": {
      "name": "python"
    }
  },
  "cells": [
    {
      "cell_type": "markdown",
      "source": [
        "**Mi primer análisis**"
      ],
      "metadata": {
        "id": "_KzSOmaePgtg"
      }
    },
    {
      "cell_type": "code",
      "source": [
        "2+30"
      ],
      "metadata": {
        "colab": {
          "base_uri": "https://localhost:8080/"
        },
        "id": "qDnaTrkvPggo",
        "outputId": "898d15c0-1a21-481e-a99a-0ea50ece20f1"
      },
      "execution_count": 2,
      "outputs": [
        {
          "output_type": "execute_result",
          "data": {
            "text/plain": [
              "32"
            ]
          },
          "metadata": {},
          "execution_count": 2
        }
      ]
    },
    {
      "cell_type": "code",
      "execution_count": 3,
      "metadata": {
        "colab": {
          "base_uri": "https://localhost:8080/"
        },
        "id": "WgiWs_5HPMBO",
        "outputId": "0117a318-566d-438b-993f-de7d17632ddb"
      },
      "outputs": [
        {
          "output_type": "stream",
          "name": "stdout",
          "text": [
            "hola\n"
          ]
        }
      ],
      "source": [
        "print(\"hola\")"
      ]
    },
    {
      "cell_type": "markdown",
      "source": [
        "##Sección 1\n"
      ],
      "metadata": {
        "id": "VJF_pnHYWeOr"
      }
    },
    {
      "cell_type": "markdown",
      "source": [
        "###Sección 1.1"
      ],
      "metadata": {
        "id": "QjpgrOlAWtNb"
      }
    },
    {
      "cell_type": "code",
      "source": [],
      "metadata": {
        "id": "sTknL2glWeDy"
      },
      "execution_count": null,
      "outputs": []
    },
    {
      "cell_type": "markdown",
      "source": [
        "####Sección 1.2\n"
      ],
      "metadata": {
        "id": "FUzeZciQWzMC"
      }
    },
    {
      "cell_type": "code",
      "source": [],
      "metadata": {
        "id": "noAip-nKWT7z"
      },
      "execution_count": 4,
      "outputs": []
    }
  ]
}